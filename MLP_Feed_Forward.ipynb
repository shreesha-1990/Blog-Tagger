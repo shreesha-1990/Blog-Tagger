{
  "nbformat": 4,
  "nbformat_minor": 0,
  "metadata": {
    "colab": {
      "name": "MLP Feed-Forward.ipynb",
      "version": "0.3.2",
      "provenance": [],
      "collapsed_sections": []
    },
    "kernelspec": {
      "name": "python3",
      "display_name": "Python 3"
    }
  },
  "cells": [
    {
      "metadata": {
        "id": "q6AJ7mSF_2cd",
        "colab_type": "text"
      },
      "cell_type": "markdown",
      "source": [
        "#Keras Version:"
      ]
    },
    {
      "metadata": {
        "id": "AbWkLZDq_zpz",
        "colab_type": "code",
        "outputId": "c6dcdc99-1a04-44dd-90a3-134bf3311697",
        "colab": {
          "base_uri": "https://localhost:8080/",
          "height": 121
        }
      },
      "cell_type": "code",
      "source": [
        "#Importing libraries:\n",
        "import numpy as np\n",
        "import pandas as pd\n",
        "import seaborn as sns\n",
        "import nltk\n",
        "nltk.download('wordnet')\n",
        "nltk.download('punkt')\n",
        "nltk.download('stopwords')\n",
        "from nltk.corpus import stopwords\n",
        "import re\n",
        "from bs4 import BeautifulSoup\n",
        "from nltk.tokenize import WhitespaceTokenizer\n",
        "from nltk.stem import WordNetLemmatizer"
      ],
      "execution_count": 1,
      "outputs": [
        {
          "output_type": "stream",
          "text": [
            "[nltk_data] Downloading package wordnet to /root/nltk_data...\n",
            "[nltk_data]   Unzipping corpora/wordnet.zip.\n",
            "[nltk_data] Downloading package punkt to /root/nltk_data...\n",
            "[nltk_data]   Unzipping tokenizers/punkt.zip.\n",
            "[nltk_data] Downloading package stopwords to /root/nltk_data...\n",
            "[nltk_data]   Unzipping corpora/stopwords.zip.\n"
          ],
          "name": "stdout"
        }
      ]
    },
    {
      "metadata": {
        "id": "AcZIaZmKAntd",
        "colab_type": "code",
        "outputId": "1e386e43-8dae-46e1-a93a-f536aab5b14b",
        "colab": {
          "resources": {
            "http://localhost:8080/nbextensions/google.colab/files.js": {
              "data": "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",
              "ok": true,
              "headers": [
                [
                  "content-type",
                  "application/javascript"
                ]
              ],
              "status": 200,
              "status_text": ""
            }
          },
          "base_uri": "https://localhost:8080/",
          "height": 75
        }
      },
      "cell_type": "code",
      "source": [
        "from google.colab import files\n",
        "uploaded = files.upload()"
      ],
      "execution_count": 2,
      "outputs": [
        {
          "output_type": "display_data",
          "data": {
            "text/html": [
              "\n",
              "     <input type=\"file\" id=\"files-0ac0b8d6-cc27-46fa-aeb6-45a3454af610\" name=\"files[]\" multiple disabled />\n",
              "     <output id=\"result-0ac0b8d6-cc27-46fa-aeb6-45a3454af610\">\n",
              "      Upload widget is only available when the cell has been executed in the\n",
              "      current browser session. Please rerun this cell to enable.\n",
              "      </output>\n",
              "      <script src=\"/nbextensions/google.colab/files.js\"></script> "
            ],
            "text/plain": [
              "<IPython.core.display.HTML object>"
            ]
          },
          "metadata": {
            "tags": []
          }
        },
        {
          "output_type": "stream",
          "text": [
            "Saving final_data_17406.xlsx to final_data_17406.xlsx\n"
          ],
          "name": "stdout"
        }
      ]
    },
    {
      "metadata": {
        "id": "H5oNqtnhAyNa",
        "colab_type": "code",
        "outputId": "1309ee29-ebfa-4772-af25-f31ed38515a3",
        "colab": {
          "base_uri": "https://localhost:8080/",
          "height": 534
        }
      },
      "cell_type": "code",
      "source": [
        "import io\n",
        "df = pd.read_excel(io.BytesIO(uploaded['final_data_17406.xlsx']))\n",
        "df.head()"
      ],
      "execution_count": 3,
      "outputs": [
        {
          "output_type": "execute_result",
          "data": {
            "text/html": [
              "<div>\n",
              "<style scoped>\n",
              "    .dataframe tbody tr th:only-of-type {\n",
              "        vertical-align: middle;\n",
              "    }\n",
              "\n",
              "    .dataframe tbody tr th {\n",
              "        vertical-align: top;\n",
              "    }\n",
              "\n",
              "    .dataframe thead th {\n",
              "        text-align: right;\n",
              "    }\n",
              "</style>\n",
              "<table border=\"1\" class=\"dataframe\">\n",
              "  <thead>\n",
              "    <tr style=\"text-align: right;\">\n",
              "      <th></th>\n",
              "      <th>authors</th>\n",
              "      <th>category</th>\n",
              "      <th>content</th>\n",
              "      <th>date</th>\n",
              "      <th>id</th>\n",
              "      <th>img_src</th>\n",
              "      <th>section</th>\n",
              "      <th>title</th>\n",
              "      <th>topics</th>\n",
              "      <th>url</th>\n",
              "      <th>startups</th>\n",
              "      <th>mobile</th>\n",
              "      <th>apps</th>\n",
              "      <th>social</th>\n",
              "      <th>gadgets</th>\n",
              "      <th>europe</th>\n",
              "      <th>enterprise</th>\n",
              "    </tr>\n",
              "  </thead>\n",
              "  <tbody>\n",
              "    <tr>\n",
              "      <th>0</th>\n",
              "      <td>Lora Kolodny</td>\n",
              "      <td>Government</td>\n",
              "      <td>Investigative reporter and co-founder of Democ...</td>\n",
              "      <td>2016-10-15</td>\n",
              "      <td>1402133</td>\n",
              "      <td>https://tctechcrunch2011.files.wordpress.com/2...</td>\n",
              "      <td>enterprise/</td>\n",
              "      <td>Multi-media journalists face jail time after r...</td>\n",
              "      <td>edward-snowden</td>\n",
              "      <td>https://techcrunch.com/2016/10/15/multi-media-...</td>\n",
              "      <td>0</td>\n",
              "      <td>0</td>\n",
              "      <td>0</td>\n",
              "      <td>1</td>\n",
              "      <td>0</td>\n",
              "      <td>0</td>\n",
              "      <td>0</td>\n",
              "    </tr>\n",
              "    <tr>\n",
              "      <th>1</th>\n",
              "      <td>Keith Teare</td>\n",
              "      <td>Social</td>\n",
              "      <td>\\n\\nThe problems associated with the widesprea...</td>\n",
              "      <td>2016-10-07</td>\n",
              "      <td>1398512</td>\n",
              "      <td>https://tctechcrunch2011.files.wordpress.com/2...</td>\n",
              "      <td>social/</td>\n",
              "      <td>The case for Twitter’s independence (unless Go...</td>\n",
              "      <td>twitter</td>\n",
              "      <td>https://techcrunch.com/2016/10/07/you-cannot-t...</td>\n",
              "      <td>0</td>\n",
              "      <td>0</td>\n",
              "      <td>0</td>\n",
              "      <td>1</td>\n",
              "      <td>0</td>\n",
              "      <td>0</td>\n",
              "      <td>0</td>\n",
              "    </tr>\n",
              "    <tr>\n",
              "      <th>2</th>\n",
              "      <td>Frederic Lardinois</td>\n",
              "      <td>Cloud</td>\n",
              "      <td>OpenStack, the massive open source project tha...</td>\n",
              "      <td>2016-10-06</td>\n",
              "      <td>1398065</td>\n",
              "      <td>https://tctechcrunch2011.files.wordpress.com/2...</td>\n",
              "      <td>enterprise/</td>\n",
              "      <td>OpenStack’s latest release focuses on scalabil...</td>\n",
              "      <td>NaN</td>\n",
              "      <td>https://techcrunch.com/2016/10/06/openstacks-l...</td>\n",
              "      <td>0</td>\n",
              "      <td>0</td>\n",
              "      <td>0</td>\n",
              "      <td>0</td>\n",
              "      <td>0</td>\n",
              "      <td>0</td>\n",
              "      <td>1</td>\n",
              "    </tr>\n",
              "    <tr>\n",
              "      <th>3</th>\n",
              "      <td>Haje Jan Kamps</td>\n",
              "      <td>Europe</td>\n",
              "      <td>It’s been just over a year since Adobe launche...</td>\n",
              "      <td>2016-10-05</td>\n",
              "      <td>1396326</td>\n",
              "      <td>https://tctechcrunch2011.files.wordpress.com/2...</td>\n",
              "      <td>europe/</td>\n",
              "      <td>Adobe teams up with EyeEm to expand its stock ...</td>\n",
              "      <td>NaN</td>\n",
              "      <td>https://techcrunch.com/2016/10/05/adobe-eyeem-...</td>\n",
              "      <td>1</td>\n",
              "      <td>1</td>\n",
              "      <td>0</td>\n",
              "      <td>0</td>\n",
              "      <td>0</td>\n",
              "      <td>1</td>\n",
              "      <td>0</td>\n",
              "    </tr>\n",
              "    <tr>\n",
              "      <th>4</th>\n",
              "      <td>Dr. Nancy Markley</td>\n",
              "      <td>Startups</td>\n",
              "      <td>\\n\\nMany startup companies begin with either a...</td>\n",
              "      <td>2016-10-04</td>\n",
              "      <td>1396165</td>\n",
              "      <td>https://tctechcrunch2011.files.wordpress.com/2...</td>\n",
              "      <td>startups/</td>\n",
              "      <td>Due diligence is a responsibility for investor...</td>\n",
              "      <td>NaN</td>\n",
              "      <td>https://techcrunch.com/2016/10/04/due-diligenc...</td>\n",
              "      <td>1</td>\n",
              "      <td>0</td>\n",
              "      <td>0</td>\n",
              "      <td>0</td>\n",
              "      <td>0</td>\n",
              "      <td>0</td>\n",
              "      <td>0</td>\n",
              "    </tr>\n",
              "  </tbody>\n",
              "</table>\n",
              "</div>"
            ],
            "text/plain": [
              "              authors    category  \\\n",
              "0        Lora Kolodny  Government   \n",
              "1         Keith Teare      Social   \n",
              "2  Frederic Lardinois       Cloud   \n",
              "3      Haje Jan Kamps      Europe   \n",
              "4   Dr. Nancy Markley    Startups   \n",
              "\n",
              "                                             content        date       id  \\\n",
              "0  Investigative reporter and co-founder of Democ...  2016-10-15  1402133   \n",
              "1  \\n\\nThe problems associated with the widesprea...  2016-10-07  1398512   \n",
              "2  OpenStack, the massive open source project tha...  2016-10-06  1398065   \n",
              "3  It’s been just over a year since Adobe launche...  2016-10-05  1396326   \n",
              "4  \\n\\nMany startup companies begin with either a...  2016-10-04  1396165   \n",
              "\n",
              "                                             img_src      section  \\\n",
              "0  https://tctechcrunch2011.files.wordpress.com/2...  enterprise/   \n",
              "1  https://tctechcrunch2011.files.wordpress.com/2...      social/   \n",
              "2  https://tctechcrunch2011.files.wordpress.com/2...  enterprise/   \n",
              "3  https://tctechcrunch2011.files.wordpress.com/2...      europe/   \n",
              "4  https://tctechcrunch2011.files.wordpress.com/2...    startups/   \n",
              "\n",
              "                                               title          topics  \\\n",
              "0  Multi-media journalists face jail time after r...  edward-snowden   \n",
              "1  The case for Twitter’s independence (unless Go...         twitter   \n",
              "2  OpenStack’s latest release focuses on scalabil...             NaN   \n",
              "3  Adobe teams up with EyeEm to expand its stock ...             NaN   \n",
              "4  Due diligence is a responsibility for investor...             NaN   \n",
              "\n",
              "                                                 url  startups  mobile  apps  \\\n",
              "0  https://techcrunch.com/2016/10/15/multi-media-...         0       0     0   \n",
              "1  https://techcrunch.com/2016/10/07/you-cannot-t...         0       0     0   \n",
              "2  https://techcrunch.com/2016/10/06/openstacks-l...         0       0     0   \n",
              "3  https://techcrunch.com/2016/10/05/adobe-eyeem-...         1       1     0   \n",
              "4  https://techcrunch.com/2016/10/04/due-diligenc...         1       0     0   \n",
              "\n",
              "   social  gadgets  europe  enterprise  \n",
              "0       1        0       0           0  \n",
              "1       1        0       0           0  \n",
              "2       0        0       0           1  \n",
              "3       0        0       1           0  \n",
              "4       0        0       0           0  "
            ]
          },
          "metadata": {
            "tags": []
          },
          "execution_count": 3
        }
      ]
    },
    {
      "metadata": {
        "id": "CzfyJHkaBhuw",
        "colab_type": "code",
        "outputId": "4c46bae8-924e-467a-cbbd-d7f54ca80fc5",
        "colab": {
          "base_uri": "https://localhost:8080/",
          "height": 104
        }
      },
      "cell_type": "code",
      "source": [
        "#df.drop(['id','date','img_src','section','topics','url'],axis=1,inplace=True)\n",
        "df_main = df[['content','title','startups','mobile','apps','social','gadgets','europe','enterprise']]\n",
        "df_main.dropna(inplace=True)"
      ],
      "execution_count": 4,
      "outputs": [
        {
          "output_type": "stream",
          "text": [
            "/usr/local/lib/python3.6/dist-packages/ipykernel_launcher.py:2: SettingWithCopyWarning: \n",
            "A value is trying to be set on a copy of a slice from a DataFrame\n",
            "\n",
            "See the caveats in the documentation: http://pandas.pydata.org/pandas-docs/stable/indexing.html#indexing-view-versus-copy\n",
            "  \n"
          ],
          "name": "stderr"
        }
      ]
    },
    {
      "metadata": {
        "id": "-v5CgsmWEW24",
        "colab_type": "code",
        "outputId": "3e6228ca-dc23-4738-8535-e2b152e0c6a4",
        "colab": {
          "base_uri": "https://localhost:8080/",
          "height": 225
        }
      },
      "cell_type": "code",
      "source": [
        "df_main['content'] = df_main['content'].str.lstrip()\n",
        "df_main['title'] = df_main['title'].str.lstrip()\n",
        "#df_main['tags'] = df_main['tags'].str.lstrip()"
      ],
      "execution_count": 5,
      "outputs": [
        {
          "output_type": "stream",
          "text": [
            "/usr/local/lib/python3.6/dist-packages/ipykernel_launcher.py:1: SettingWithCopyWarning: \n",
            "A value is trying to be set on a copy of a slice from a DataFrame.\n",
            "Try using .loc[row_indexer,col_indexer] = value instead\n",
            "\n",
            "See the caveats in the documentation: http://pandas.pydata.org/pandas-docs/stable/indexing.html#indexing-view-versus-copy\n",
            "  \"\"\"Entry point for launching an IPython kernel.\n",
            "/usr/local/lib/python3.6/dist-packages/ipykernel_launcher.py:2: SettingWithCopyWarning: \n",
            "A value is trying to be set on a copy of a slice from a DataFrame.\n",
            "Try using .loc[row_indexer,col_indexer] = value instead\n",
            "\n",
            "See the caveats in the documentation: http://pandas.pydata.org/pandas-docs/stable/indexing.html#indexing-view-versus-copy\n",
            "  \n"
          ],
          "name": "stderr"
        }
      ]
    },
    {
      "metadata": {
        "id": "GueuvDSzE3gC",
        "colab_type": "code",
        "outputId": "6d4ffca6-4a1d-4985-97e2-3e4045f9929b",
        "colab": {
          "base_uri": "https://localhost:8080/",
          "height": 297
        }
      },
      "cell_type": "code",
      "source": [
        "def checking_Data(index):\n",
        "    row = df_main[df_main.index == index][['title', 'content']].values[0]\n",
        "    if len(row) > 0:\n",
        "        print('Title:',row[0])\n",
        "        print('Content:',row[1])        \n",
        "checking_Data(0)"
      ],
      "execution_count": 6,
      "outputs": [
        {
          "output_type": "stream",
          "text": [
            "Title: Multi-media journalists face jail time after reporting on North Dakota pipeline protest\n",
            "Content: Investigative reporter and co-founder of Democracy Now!, Amy Goodman, is now facing riot charges in the state of North Dakota after her report on a Native American-led pipeline protest there went viral on Facebook.\n",
            "Democracy Now! issued a statement about the new charges against Goodman late Saturday.\n",
            "The news organization, which spun out of WBAI-FM, creates programming which is syndicated via radio, podcasts, cable television, public access television, live streams and Web downloads.\n",
            "Goodman’s story, posted to Facebook on September 4th, has been viewed more than 14 million times on the social media platform, Democracy Now! said, and was picked up by mainstream media outlets and networks including CBS, NBC, NPR, CNN, MSNBC and The Huffington Post (a site owned by TechCrunch’s parent company Verizon).\n",
            "Additionally, documentary filmmaker Deia Schlosberg, is facing felony and conspiracy charges that could carry a 45-year sentence for filming at the protest, IndieWire reports.\n",
            "Edward Snowden noted Schlosberg’s predicament on Friday with a tweet that said, “This reporter is being prosecuted for covering the North Dakota oil protests. For reference, I face a mere 30 years.”\n",
            "Authorities released Schlosberg, who also runs a production studio called Pale Blue Dot Media, after originally detaining her but they confiscated her footage and refused to release it according to public tweets from Josh Fox, a fellow filmmaker.\n",
            "For those unfamiliar with the pipeline protests, the Standing Rock Sioux are seeking to halt the construction of a $3.8 billion pipeline saying its development will encroach on their tribal burial sites and taint their water supply at the Standing Rock Sioux Reservation.\n",
            "The demonstrations in North Dakota have been ongoing for months. Native American advocates and environmentalists have protested the pipeline’s development in other cities and states, as well.\n",
            "On October 10th, witnesses at a rally in Reno, Nevada captured footage of a pickup truck plowing into a group of activists protesting the pipeline’s development, and calling for Columbus Day to be changed to Indigenous Peoples’ Day in their state.\n",
            "Several posted their footage and thoughts about the apparent attack on Facebook as well. The Reno incident injured five and sent one to the hospital. The rally was organized by the American Indian Movement of Northern Nevada (AIMNN).\n",
            "It remains to be seen whether the charges against Goodman, Schlosberg and other journalists covering the Standing Rock protests against the Dakota Access pipeline will stick.\n",
            "But these cases highlight the increasing power, and risks, associated with online distribution for news stories covered by independents, and earlier missed by mainstream networks. Virality and independence, it seems, can attract prosecutorial ire.\n",
            " \n"
          ],
          "name": "stdout"
        }
      ]
    },
    {
      "metadata": {
        "id": "NOAqZXh6EaJ1",
        "colab_type": "code",
        "outputId": "093f8e16-0cbe-4818-98be-5d7244e36226",
        "colab": {
          "base_uri": "https://localhost:8080/",
          "height": 280
        }
      },
      "cell_type": "code",
      "source": [
        "#Cleansing Content and Tags:\n",
        "replace_blank_regex = re.compile('[/(){}\\[\\]\\|@,;]')\n",
        "symbols_removel_regex = re.compile('[^0-9a-z #+_$%-.,]')\n",
        "stopword_det = set(stopwords.words('english'))\n",
        "\n",
        "def clean_text(text):\n",
        "    text = BeautifulSoup(text, \"lxml\").text # HTML decoding\n",
        "    text = text.lower() # lowercase text\n",
        "    text = replace_blank_regex.sub(' ', text) # replace replace_blank_regex symbols by space in text\n",
        "    text = symbols_removel_regex.sub('', text) # delete symbols which are in symbols_removel_regex from text\n",
        "    text = ' '.join(word for word in text.split() if word not in stopword_det) # delete stopwors from text\n",
        "    return text\n",
        "    \n",
        "df_main['content'] = df_main['content'].apply(clean_text)\n",
        "df_main['title'] = df_main['title'].apply(clean_text)\n",
        "checking_Data(0)"
      ],
      "execution_count": 7,
      "outputs": [
        {
          "output_type": "stream",
          "text": [
            "/usr/local/lib/python3.6/dist-packages/ipykernel_launcher.py:13: SettingWithCopyWarning: \n",
            "A value is trying to be set on a copy of a slice from a DataFrame.\n",
            "Try using .loc[row_indexer,col_indexer] = value instead\n",
            "\n",
            "See the caveats in the documentation: http://pandas.pydata.org/pandas-docs/stable/indexing.html#indexing-view-versus-copy\n",
            "  del sys.path[0]\n"
          ],
          "name": "stderr"
        },
        {
          "output_type": "stream",
          "text": [
            "Title: multi-media journalists face jail time reporting north dakota pipeline protest\n",
            "Content: investigative reporter co-founder democracy amy goodman nowfacing riot charges state north dakota report native american-led pipeline protest went viral facebook.democracy issued statement new charges goodman late saturday.the news organization spun wbai-fm creates programming syndicated via radio podcasts cable television public access television live streams web downloads.goodmans story posted facebook september 4th viewed 14 million times social media platform democracy said picked mainstream media outlets networks including cbs nbc npr cnn msnbc huffington post site owned techcrunchs parent company verizon .additionally documentary filmmaker deia schlosberg facing felony conspiracy charges could carry 45-year sentence filming protest indiewire reports.edward snowden noted schlosbergs predicament friday tweet said reporter prosecuted covering north dakota oil protests. reference face mere 30 years.authorities released schlosberg also runs production studio called pale blue dot media originally detaining confiscated footage refused release according public tweets josh fox fellow filmmaker.for unfamiliar pipeline protests standing rock sioux seeking halt theconstruction $3.8 billion pipeline saying development encroach tribal burial sites taint water supply standing rock sioux reservation.the demonstrations north dakota ongoing months. native american advocates environmentalists protested pipelines development cities states well.on october 10th witnesses rallyin reno nevada captured footage pickup truck plowing group activists protesting pipelines development calling columbus day changed indigenous peoples day state.severalposted theirfootageand thoughts apparent attack facebook well.the reno incident injured five sent one hospital. rally organized american indian movement northern nevada aimnn .it remains seen whether charges goodman schlosberg journalists covering standing rock protests dakota access pipeline stick.but cases highlight increasing power risks associated online distribution news stories covered independents earliermissed mainstream networks. virality independence seems attract prosecutorial ire.\n"
          ],
          "name": "stdout"
        },
        {
          "output_type": "stream",
          "text": [
            "/usr/local/lib/python3.6/dist-packages/ipykernel_launcher.py:14: SettingWithCopyWarning: \n",
            "A value is trying to be set on a copy of a slice from a DataFrame.\n",
            "Try using .loc[row_indexer,col_indexer] = value instead\n",
            "\n",
            "See the caveats in the documentation: http://pandas.pydata.org/pandas-docs/stable/indexing.html#indexing-view-versus-copy\n",
            "  \n"
          ],
          "name": "stderr"
        }
      ]
    },
    {
      "metadata": {
        "id": "LHCRHjsmEtKq",
        "colab_type": "code",
        "outputId": "5ba149d4-9a28-4904-b0c0-36bd1fd28d6d",
        "colab": {
          "base_uri": "https://localhost:8080/",
          "height": 225
        }
      },
      "cell_type": "code",
      "source": [
        "#Lemmatizing Content and Title:\n",
        "w_tokenizer = nltk.tokenize.WhitespaceTokenizer()\n",
        "lemmatizer = nltk.stem.WordNetLemmatizer()\n",
        "\n",
        "def lemmatize_text(text):\n",
        "    lem_sentence=[]\n",
        "    lem_sentence= [lemmatizer.lemmatize(w) for w in w_tokenizer.tokenize(text)]\n",
        "\n",
        "    return \" \".join(lem_sentence) \n",
        "    \n",
        "df_main['content_lemmatized'] = df_main.content.apply(lemmatize_text)\n",
        "df_main['title_lemmatized'] = df_main.title.apply(lemmatize_text)"
      ],
      "execution_count": 8,
      "outputs": [
        {
          "output_type": "stream",
          "text": [
            "/usr/local/lib/python3.6/dist-packages/ipykernel_launcher.py:10: SettingWithCopyWarning: \n",
            "A value is trying to be set on a copy of a slice from a DataFrame.\n",
            "Try using .loc[row_indexer,col_indexer] = value instead\n",
            "\n",
            "See the caveats in the documentation: http://pandas.pydata.org/pandas-docs/stable/indexing.html#indexing-view-versus-copy\n",
            "  # Remove the CWD from sys.path while we load stuff.\n",
            "/usr/local/lib/python3.6/dist-packages/ipykernel_launcher.py:11: SettingWithCopyWarning: \n",
            "A value is trying to be set on a copy of a slice from a DataFrame.\n",
            "Try using .loc[row_indexer,col_indexer] = value instead\n",
            "\n",
            "See the caveats in the documentation: http://pandas.pydata.org/pandas-docs/stable/indexing.html#indexing-view-versus-copy\n",
            "  # This is added back by InteractiveShellApp.init_path()\n"
          ],
          "name": "stderr"
        }
      ]
    },
    {
      "metadata": {
        "id": "MGWEehqfibfD",
        "colab_type": "code",
        "colab": {
          "base_uri": "https://localhost:8080/",
          "height": 225
        },
        "outputId": "bdedc28f-8ea2-4df9-9b0d-69b29688d5bd"
      },
      "cell_type": "code",
      "source": [
        "#Lemmatizing Content and Title just tokens for Word embeddings:\n",
        "w_tokenizer = nltk.tokenize.WhitespaceTokenizer()\n",
        "lemmatizer = nltk.stem.WordNetLemmatizer()\n",
        "\n",
        "def lemmatize_text_tok(text):\n",
        "    lem_sentence=[]\n",
        "    lem_sentence= [lemmatizer.lemmatize(w) for w in w_tokenizer.tokenize(text)]\n",
        "\n",
        "    return (lem_sentence)\n",
        "\n",
        "df_main['content_lemmatized_Tok'] = df_main.content.apply(lemmatize_text_tok)\n",
        "df_main['title_lemmatized_Tok'] = df_main.title.apply(lemmatize_text_tok)"
      ],
      "execution_count": 9,
      "outputs": [
        {
          "output_type": "stream",
          "text": [
            "/usr/local/lib/python3.6/dist-packages/ipykernel_launcher.py:10: SettingWithCopyWarning: \n",
            "A value is trying to be set on a copy of a slice from a DataFrame.\n",
            "Try using .loc[row_indexer,col_indexer] = value instead\n",
            "\n",
            "See the caveats in the documentation: http://pandas.pydata.org/pandas-docs/stable/indexing.html#indexing-view-versus-copy\n",
            "  # Remove the CWD from sys.path while we load stuff.\n",
            "/usr/local/lib/python3.6/dist-packages/ipykernel_launcher.py:11: SettingWithCopyWarning: \n",
            "A value is trying to be set on a copy of a slice from a DataFrame.\n",
            "Try using .loc[row_indexer,col_indexer] = value instead\n",
            "\n",
            "See the caveats in the documentation: http://pandas.pydata.org/pandas-docs/stable/indexing.html#indexing-view-versus-copy\n",
            "  # This is added back by InteractiveShellApp.init_path()\n"
          ],
          "name": "stderr"
        }
      ]
    },
    {
      "metadata": {
        "id": "ZmZxcTvkib44",
        "colab_type": "code",
        "colab": {
          "base_uri": "https://localhost:8080/",
          "height": 225
        },
        "outputId": "4e4b6905-0267-4d64-c169-6425cb2dc4cd"
      },
      "cell_type": "code",
      "source": [
        "#Combining Content+Title:\n",
        "df_main['content+title'] = df_main['title_lemmatized']+' '+df_main['content_lemmatized']\n",
        "df_main['content+title'].head()"
      ],
      "execution_count": 10,
      "outputs": [
        {
          "output_type": "stream",
          "text": [
            "/usr/local/lib/python3.6/dist-packages/ipykernel_launcher.py:1: SettingWithCopyWarning: \n",
            "A value is trying to be set on a copy of a slice from a DataFrame.\n",
            "Try using .loc[row_indexer,col_indexer] = value instead\n",
            "\n",
            "See the caveats in the documentation: http://pandas.pydata.org/pandas-docs/stable/indexing.html#indexing-view-versus-copy\n",
            "  \"\"\"Entry point for launching an IPython kernel.\n"
          ],
          "name": "stderr"
        },
        {
          "output_type": "execute_result",
          "data": {
            "text/plain": [
              "0    multi-media journalist face jail time reportin...\n",
              "1    case twitter independence unless google manage...\n",
              "2    openstacks latest release focus scalability re...\n",
              "3    adobe team eyeem expand stock photography port...\n",
              "4    due diligence responsibility investor opportun...\n",
              "Name: content+title, dtype: object"
            ]
          },
          "metadata": {
            "tags": []
          },
          "execution_count": 10
        }
      ]
    },
    {
      "metadata": {
        "id": "GNF8wTuQifKs",
        "colab_type": "code",
        "colab": {
          "base_uri": "https://localhost:8080/",
          "height": 586
        },
        "outputId": "4e774569-a954-48b4-f40b-ca5bbf77f967"
      },
      "cell_type": "code",
      "source": [
        "df_main.head()"
      ],
      "execution_count": 11,
      "outputs": [
        {
          "output_type": "execute_result",
          "data": {
            "text/html": [
              "<div>\n",
              "<style scoped>\n",
              "    .dataframe tbody tr th:only-of-type {\n",
              "        vertical-align: middle;\n",
              "    }\n",
              "\n",
              "    .dataframe tbody tr th {\n",
              "        vertical-align: top;\n",
              "    }\n",
              "\n",
              "    .dataframe thead th {\n",
              "        text-align: right;\n",
              "    }\n",
              "</style>\n",
              "<table border=\"1\" class=\"dataframe\">\n",
              "  <thead>\n",
              "    <tr style=\"text-align: right;\">\n",
              "      <th></th>\n",
              "      <th>content</th>\n",
              "      <th>title</th>\n",
              "      <th>startups</th>\n",
              "      <th>mobile</th>\n",
              "      <th>apps</th>\n",
              "      <th>social</th>\n",
              "      <th>gadgets</th>\n",
              "      <th>europe</th>\n",
              "      <th>enterprise</th>\n",
              "      <th>content_lemmatized</th>\n",
              "      <th>title_lemmatized</th>\n",
              "      <th>content_lemmatized_Tok</th>\n",
              "      <th>title_lemmatized_Tok</th>\n",
              "      <th>content+title</th>\n",
              "    </tr>\n",
              "  </thead>\n",
              "  <tbody>\n",
              "    <tr>\n",
              "      <th>0</th>\n",
              "      <td>investigative reporter co-founder democracy am...</td>\n",
              "      <td>multi-media journalists face jail time reporti...</td>\n",
              "      <td>0</td>\n",
              "      <td>0</td>\n",
              "      <td>0</td>\n",
              "      <td>1</td>\n",
              "      <td>0</td>\n",
              "      <td>0</td>\n",
              "      <td>0</td>\n",
              "      <td>investigative reporter co-founder democracy am...</td>\n",
              "      <td>multi-media journalist face jail time reportin...</td>\n",
              "      <td>[investigative, reporter, co-founder, democrac...</td>\n",
              "      <td>[multi-media, journalist, face, jail, time, re...</td>\n",
              "      <td>multi-media journalist face jail time reportin...</td>\n",
              "    </tr>\n",
              "    <tr>\n",
              "      <th>1</th>\n",
              "      <td>problems associated widespread rumors twitters...</td>\n",
              "      <td>case twitters independence unless google manag...</td>\n",
              "      <td>0</td>\n",
              "      <td>0</td>\n",
              "      <td>0</td>\n",
              "      <td>1</td>\n",
              "      <td>0</td>\n",
              "      <td>0</td>\n",
              "      <td>0</td>\n",
              "      <td>problem associated widespread rumor twitter sa...</td>\n",
              "      <td>case twitter independence unless google manage...</td>\n",
              "      <td>[problem, associated, widespread, rumor, twitt...</td>\n",
              "      <td>[case, twitter, independence, unless, google, ...</td>\n",
              "      <td>case twitter independence unless google manage...</td>\n",
              "    </tr>\n",
              "    <tr>\n",
              "      <th>2</th>\n",
              "      <td>openstack themassive open source project helps...</td>\n",
              "      <td>openstacks latest release focuses scalability ...</td>\n",
              "      <td>0</td>\n",
              "      <td>0</td>\n",
              "      <td>0</td>\n",
              "      <td>0</td>\n",
              "      <td>0</td>\n",
              "      <td>0</td>\n",
              "      <td>1</td>\n",
              "      <td>openstack themassive open source project help ...</td>\n",
              "      <td>openstacks latest release focus scalability re...</td>\n",
              "      <td>[openstack, themassive, open, source, project,...</td>\n",
              "      <td>[openstacks, latest, release, focus, scalabili...</td>\n",
              "      <td>openstacks latest release focus scalability re...</td>\n",
              "    </tr>\n",
              "    <tr>\n",
              "      <th>3</th>\n",
              "      <td>beenjust year since adobe launched adobe stock...</td>\n",
              "      <td>adobe teams eyeem expand stock photography por...</td>\n",
              "      <td>1</td>\n",
              "      <td>1</td>\n",
              "      <td>0</td>\n",
              "      <td>0</td>\n",
              "      <td>0</td>\n",
              "      <td>1</td>\n",
              "      <td>0</td>\n",
              "      <td>beenjust year since adobe launched adobe stock...</td>\n",
              "      <td>adobe team eyeem expand stock photography port...</td>\n",
              "      <td>[beenjust, year, since, adobe, launched, adobe...</td>\n",
              "      <td>[adobe, team, eyeem, expand, stock, photograph...</td>\n",
              "      <td>adobe team eyeem expand stock photography port...</td>\n",
              "    </tr>\n",
              "    <tr>\n",
              "      <th>4</th>\n",
              "      <td>many startup companies begin either idea propr...</td>\n",
              "      <td>due diligence responsibility investors opportu...</td>\n",
              "      <td>1</td>\n",
              "      <td>0</td>\n",
              "      <td>0</td>\n",
              "      <td>0</td>\n",
              "      <td>0</td>\n",
              "      <td>0</td>\n",
              "      <td>0</td>\n",
              "      <td>many startup company begin either idea proprie...</td>\n",
              "      <td>due diligence responsibility investor opportun...</td>\n",
              "      <td>[many, startup, company, begin, either, idea, ...</td>\n",
              "      <td>[due, diligence, responsibility, investor, opp...</td>\n",
              "      <td>due diligence responsibility investor opportun...</td>\n",
              "    </tr>\n",
              "  </tbody>\n",
              "</table>\n",
              "</div>"
            ],
            "text/plain": [
              "                                             content  \\\n",
              "0  investigative reporter co-founder democracy am...   \n",
              "1  problems associated widespread rumors twitters...   \n",
              "2  openstack themassive open source project helps...   \n",
              "3  beenjust year since adobe launched adobe stock...   \n",
              "4  many startup companies begin either idea propr...   \n",
              "\n",
              "                                               title  startups  mobile  apps  \\\n",
              "0  multi-media journalists face jail time reporti...         0       0     0   \n",
              "1  case twitters independence unless google manag...         0       0     0   \n",
              "2  openstacks latest release focuses scalability ...         0       0     0   \n",
              "3  adobe teams eyeem expand stock photography por...         1       1     0   \n",
              "4  due diligence responsibility investors opportu...         1       0     0   \n",
              "\n",
              "   social  gadgets  europe  enterprise  \\\n",
              "0       1        0       0           0   \n",
              "1       1        0       0           0   \n",
              "2       0        0       0           1   \n",
              "3       0        0       1           0   \n",
              "4       0        0       0           0   \n",
              "\n",
              "                                  content_lemmatized  \\\n",
              "0  investigative reporter co-founder democracy am...   \n",
              "1  problem associated widespread rumor twitter sa...   \n",
              "2  openstack themassive open source project help ...   \n",
              "3  beenjust year since adobe launched adobe stock...   \n",
              "4  many startup company begin either idea proprie...   \n",
              "\n",
              "                                    title_lemmatized  \\\n",
              "0  multi-media journalist face jail time reportin...   \n",
              "1  case twitter independence unless google manage...   \n",
              "2  openstacks latest release focus scalability re...   \n",
              "3  adobe team eyeem expand stock photography port...   \n",
              "4  due diligence responsibility investor opportun...   \n",
              "\n",
              "                              content_lemmatized_Tok  \\\n",
              "0  [investigative, reporter, co-founder, democrac...   \n",
              "1  [problem, associated, widespread, rumor, twitt...   \n",
              "2  [openstack, themassive, open, source, project,...   \n",
              "3  [beenjust, year, since, adobe, launched, adobe...   \n",
              "4  [many, startup, company, begin, either, idea, ...   \n",
              "\n",
              "                                title_lemmatized_Tok  \\\n",
              "0  [multi-media, journalist, face, jail, time, re...   \n",
              "1  [case, twitter, independence, unless, google, ...   \n",
              "2  [openstacks, latest, release, focus, scalabili...   \n",
              "3  [adobe, team, eyeem, expand, stock, photograph...   \n",
              "4  [due, diligence, responsibility, investor, opp...   \n",
              "\n",
              "                                       content+title  \n",
              "0  multi-media journalist face jail time reportin...  \n",
              "1  case twitter independence unless google manage...  \n",
              "2  openstacks latest release focus scalability re...  \n",
              "3  adobe team eyeem expand stock photography port...  \n",
              "4  due diligence responsibility investor opportun...  "
            ]
          },
          "metadata": {
            "tags": []
          },
          "execution_count": 11
        }
      ]
    },
    {
      "metadata": {
        "id": "lhOr11xMFSoE",
        "colab_type": "text"
      },
      "cell_type": "markdown",
      "source": [
        "##Using Keras:"
      ]
    },
    {
      "metadata": {
        "id": "5DcWq7OjFHvm",
        "colab_type": "code",
        "colab": {}
      },
      "cell_type": "code",
      "source": [
        "from keras.preprocessing.text import Tokenizer\n",
        "from keras.preprocessing.sequence import pad_sequences\n",
        "\n",
        "tokenizer = Tokenizer(num_words=100000, lower=True)\n",
        "tokenizer.fit_on_texts(df_main['content+title'])\n",
        "sequences = tokenizer.texts_to_sequences(df_main['content_lemmatized'])\n",
        "x = pad_sequences(sequences, maxlen=300)"
      ],
      "execution_count": 0,
      "outputs": []
    },
    {
      "metadata": {
        "id": "OgVM9NcoFiXi",
        "colab_type": "code",
        "colab": {}
      },
      "cell_type": "code",
      "source": [
        "y = df_main[['startups','mobile','apps','social','gadgets','europe','enterprise']]"
      ],
      "execution_count": 0,
      "outputs": []
    },
    {
      "metadata": {
        "id": "rnR08FDyF79c",
        "colab_type": "code",
        "colab": {}
      },
      "cell_type": "code",
      "source": [
        "#Train-Test Split:\n",
        "from sklearn.model_selection import train_test_split\n",
        "\n",
        "x_train, x_test, y_train, y_test = train_test_split(x, y, test_size=0.2, random_state=42)\n",
        "\n",
        "\n"
      ],
      "execution_count": 0,
      "outputs": []
    },
    {
      "metadata": {
        "id": "BcLUWxO_GFjB",
        "colab_type": "code",
        "outputId": "95ca8375-ed6f-46fe-970b-876d034f0c97",
        "colab": {
          "base_uri": "https://localhost:8080/",
          "height": 401
        }
      },
      "cell_type": "code",
      "source": [
        "from keras.models import Sequential\n",
        "from keras.layers import Dense, Embedding, GlobalMaxPool1D, Dropout,SpatialDropout1D\n",
        "from keras.optimizers import Adam\n",
        "from keras.callbacks import ReduceLROnPlateau,EarlyStopping,ModelCheckpoint\n",
        "\n",
        "model = Sequential()\n",
        "model.add(Embedding(100000, 20, input_length=300))\n",
        "model.add(SpatialDropout1D(0.20))\n",
        "model.add(GlobalMaxPool1D())\n",
        "model.add(Dense(64, activation='relu'))\n",
        "model.add(Dropout(0.20))\n",
        "model.add(Dense(7, activation='sigmoid'))\n",
        "\n",
        "model.compile(optimizer=Adam(0.015), loss='binary_crossentropy', metrics=['accuracy','categorical_accuracy'])\n",
        "callbacks = [\n",
        "    ReduceLROnPlateau(),\n",
        "    EarlyStopping(patience=4, mode='min'),\n",
        "    ModelCheckpoint(filepath='model-simple.h5', save_best_only=True,monitor='val_loss')\n",
        "]\n",
        "\n",
        "history = model.fit(x_train, y_train,\n",
        "                    #class_weight=class_weight,\n",
        "                    epochs=10\n",
        "                    ,\n",
        "                    batch_size=1000,\n",
        "                    validation_split=0.1,\n",
        "                    callbacks=callbacks)"
      ],
      "execution_count": 53,
      "outputs": [
        {
          "output_type": "stream",
          "text": [
            "Train on 12517 samples, validate on 1391 samples\n",
            "Epoch 1/10\n",
            "12517/12517 [==============================] - 3s 231us/step - loss: 0.5951 - acc: 0.7167 - categorical_accuracy: 0.3295 - val_loss: 0.5427 - val_acc: 0.7386 - val_categorical_accuracy: 0.4572\n",
            "Epoch 2/10\n",
            "12517/12517 [==============================] - 2s 167us/step - loss: 0.5341 - acc: 0.7536 - categorical_accuracy: 0.4257 - val_loss: 0.5324 - val_acc: 0.7517 - val_categorical_accuracy: 0.4572\n",
            "Epoch 3/10\n",
            "12517/12517 [==============================] - 2s 172us/step - loss: 0.5238 - acc: 0.7577 - categorical_accuracy: 0.4650 - val_loss: 0.5194 - val_acc: 0.7621 - val_categorical_accuracy: 0.4572\n",
            "Epoch 4/10\n",
            "12517/12517 [==============================] - 2s 174us/step - loss: 0.5030 - acc: 0.7710 - categorical_accuracy: 0.4969 - val_loss: 0.4857 - val_acc: 0.7797 - val_categorical_accuracy: 0.5226\n",
            "Epoch 5/10\n",
            "12517/12517 [==============================] - 2s 172us/step - loss: 0.4711 - acc: 0.7872 - categorical_accuracy: 0.5149 - val_loss: 0.4579 - val_acc: 0.7905 - val_categorical_accuracy: 0.5428\n",
            "Epoch 6/10\n",
            "12517/12517 [==============================] - 2s 166us/step - loss: 0.4500 - acc: 0.7959 - categorical_accuracy: 0.5229 - val_loss: 0.4432 - val_acc: 0.7958 - val_categorical_accuracy: 0.5507\n",
            "Epoch 7/10\n",
            "12517/12517 [==============================] - 2s 167us/step - loss: 0.4320 - acc: 0.8048 - categorical_accuracy: 0.5264 - val_loss: 0.4300 - val_acc: 0.8060 - val_categorical_accuracy: 0.5449\n",
            "Epoch 8/10\n",
            "12517/12517 [==============================] - 2s 165us/step - loss: 0.4153 - acc: 0.8119 - categorical_accuracy: 0.5258 - val_loss: 0.4198 - val_acc: 0.8060 - val_categorical_accuracy: 0.5521\n",
            "Epoch 9/10\n",
            "12517/12517 [==============================] - 2s 166us/step - loss: 0.4041 - acc: 0.8177 - categorical_accuracy: 0.5350 - val_loss: 0.4106 - val_acc: 0.8139 - val_categorical_accuracy: 0.5507\n",
            "Epoch 10/10\n",
            "12517/12517 [==============================] - 2s 165us/step - loss: 0.3895 - acc: 0.8265 - categorical_accuracy: 0.5533 - val_loss: 0.4025 - val_acc: 0.8203 - val_categorical_accuracy: 0.5557\n"
          ],
          "name": "stdout"
        }
      ]
    },
    {
      "metadata": {
        "id": "L5T_U_UbJzBG",
        "colab_type": "code",
        "colab": {
          "base_uri": "https://localhost:8080/",
          "height": 377
        },
        "outputId": "058bc2ba-dc22-49c0-df29-b319d65fc2ef"
      },
      "cell_type": "code",
      "source": [
        "#Loss plots\n",
        "import matplotlib.pyplot as plt\n",
        "plt.figure()\n",
        "plt.plot(history.history['loss'], lw=2.0, color='b', label='train')\n",
        "plt.plot(history.history['val_loss'], lw=2.0, color='r', label='val')\n",
        "plt.title('MLP Feed-forward Training vs Validation Loss')\n",
        "plt.xlabel('Epochs')\n",
        "plt.ylabel('Cross-Entropy Loss')\n",
        "plt.legend(loc='upper right')\n",
        "plt.show()"
      ],
      "execution_count": 54,
      "outputs": [
        {
          "output_type": "display_data",
          "data": {
            "image/png": "[encoded data removed]",
            "text/plain": [
              "<Figure size 576x396 with 1 Axes>"
            ]
          },
          "metadata": {
            "tags": []
          }
        }
      ]
    },
    {
      "metadata": {
        "id": "C9yM0ZhWmcrM",
        "colab_type": "code",
        "colab": {
          "base_uri": "https://localhost:8080/",
          "height": 377
        },
        "outputId": "6fd9f66a-26ca-4213-bd76-6ceef5310fac"
      },
      "cell_type": "code",
      "source": [
        "#Categorical Accuracy plot:\n",
        "plt.figure()\n",
        "plt.plot(history.history['categorical_accuracy'], lw=2.0, color='b', label='train')\n",
        "plt.plot(history.history['val_categorical_accuracy'], lw=2.0, color='r', label='val')\n",
        "plt.title('MLP Feed-forward Training vs Validation Categorical Accuracy')\n",
        "plt.xlabel('Epochs')\n",
        "plt.ylabel('Categorical Accuracy')\n",
        "plt.legend(loc='upper left')\n",
        "plt.show()"
      ],
      "execution_count": 55,
      "outputs": [
        {
          "output_type": "display_data",
          "data": {
            "image/png": "[encoded data removed]",
            "text/plain": [
              "<Figure size 576x396 with 1 Axes>"
            ]
          },
          "metadata": {
            "tags": []
          }
        }
      ]
    },
    {
      "metadata": {
        "id": "GGDOw65xmhQP",
        "colab_type": "code",
        "colab": {
          "base_uri": "https://localhost:8080/",
          "height": 377
        },
        "outputId": "8060ea46-f1a6-40b5-b544-cdc4dbbb6a6c"
      },
      "cell_type": "code",
      "source": [
        "#Accuracy plot:\n",
        "plt.figure()\n",
        "plt.plot(history.history['acc'], lw=2.0, color='b', label='train')\n",
        "plt.plot(history.history['val_acc'], lw=2.0, color='r', label='val')\n",
        "plt.title('MLP Feed-forward Training vs Accuracy')\n",
        "plt.xlabel('Epochs')\n",
        "plt.ylabel('Accuracy')\n",
        "plt.legend(loc='upper left')\n",
        "plt.show()"
      ],
      "execution_count": 56,
      "outputs": [
        {
          "output_type": "display_data",
          "data": {
            "image/png": "[encoded data removed]",
            "text/plain": [
              "<Figure size 576x396 with 1 Axes>"
            ]
          },
          "metadata": {
            "tags": []
          }
        }
      ]
    },
    {
      "metadata": {
        "id": "Ee22i8xEmkhq",
        "colab_type": "code",
        "colab": {
          "base_uri": "https://localhost:8080/",
          "height": 219
        },
        "outputId": "6632b725-20e2-4484-d9ad-6467cdfc43b9"
      },
      "cell_type": "code",
      "source": [
        "#Predicting:\n",
        "y_pred = model.predict(x_test, batch_size=256, verbose=1)\n",
        "y_pred = pd.DataFrame(y_pred)\n",
        "y_pred = y_pred.apply(lambda x: [0 if y <= 0.5 else 1 for y in x])\n",
        "y_pred.head()"
      ],
      "execution_count": 57,
      "outputs": [
        {
          "output_type": "stream",
          "text": [
            "3478/3478 [==============================] - 0s 94us/step\n"
          ],
          "name": "stdout"
        },
        {
          "output_type": "execute_result",
          "data": {
            "text/html": [
              "<div>\n",
              "<style scoped>\n",
              "    .dataframe tbody tr th:only-of-type {\n",
              "        vertical-align: middle;\n",
              "    }\n",
              "\n",
              "    .dataframe tbody tr th {\n",
              "        vertical-align: top;\n",
              "    }\n",
              "\n",
              "    .dataframe thead th {\n",
              "        text-align: right;\n",
              "    }\n",
              "</style>\n",
              "<table border=\"1\" class=\"dataframe\">\n",
              "  <thead>\n",
              "    <tr style=\"text-align: right;\">\n",
              "      <th></th>\n",
              "      <th>0</th>\n",
              "      <th>1</th>\n",
              "      <th>2</th>\n",
              "      <th>3</th>\n",
              "      <th>4</th>\n",
              "      <th>5</th>\n",
              "      <th>6</th>\n",
              "    </tr>\n",
              "  </thead>\n",
              "  <tbody>\n",
              "    <tr>\n",
              "      <th>0</th>\n",
              "      <td>0</td>\n",
              "      <td>0</td>\n",
              "      <td>0</td>\n",
              "      <td>0</td>\n",
              "      <td>0</td>\n",
              "      <td>0</td>\n",
              "      <td>0</td>\n",
              "    </tr>\n",
              "    <tr>\n",
              "      <th>1</th>\n",
              "      <td>1</td>\n",
              "      <td>0</td>\n",
              "      <td>0</td>\n",
              "      <td>0</td>\n",
              "      <td>0</td>\n",
              "      <td>0</td>\n",
              "      <td>0</td>\n",
              "    </tr>\n",
              "    <tr>\n",
              "      <th>2</th>\n",
              "      <td>1</td>\n",
              "      <td>0</td>\n",
              "      <td>0</td>\n",
              "      <td>0</td>\n",
              "      <td>0</td>\n",
              "      <td>0</td>\n",
              "      <td>0</td>\n",
              "    </tr>\n",
              "    <tr>\n",
              "      <th>3</th>\n",
              "      <td>0</td>\n",
              "      <td>0</td>\n",
              "      <td>0</td>\n",
              "      <td>0</td>\n",
              "      <td>1</td>\n",
              "      <td>0</td>\n",
              "      <td>0</td>\n",
              "    </tr>\n",
              "    <tr>\n",
              "      <th>4</th>\n",
              "      <td>0</td>\n",
              "      <td>1</td>\n",
              "      <td>1</td>\n",
              "      <td>1</td>\n",
              "      <td>0</td>\n",
              "      <td>0</td>\n",
              "      <td>0</td>\n",
              "    </tr>\n",
              "  </tbody>\n",
              "</table>\n",
              "</div>"
            ],
            "text/plain": [
              "   0  1  2  3  4  5  6\n",
              "0  0  0  0  0  0  0  0\n",
              "1  1  0  0  0  0  0  0\n",
              "2  1  0  0  0  0  0  0\n",
              "3  0  0  0  0  1  0  0\n",
              "4  0  1  1  1  0  0  0"
            ]
          },
          "metadata": {
            "tags": []
          },
          "execution_count": 57
        }
      ]
    },
    {
      "metadata": {
        "id": "EYXo8e_hmmqC",
        "colab_type": "code",
        "colab": {
          "base_uri": "https://localhost:8080/",
          "height": 367
        },
        "outputId": "35671aff-74e3-4637-d811-8ddd50c3588a"
      },
      "cell_type": "code",
      "source": [
        "from sklearn.metrics import classification_report,accuracy_score\n",
        "print(\"classification_report\",classification_report(y_test,y_pred))\n",
        "print(\"accuracy_score\",accuracy_score(y_test,y_pred))\n",
        "from sklearn.metrics import hamming_loss\n",
        "print(\"hamming_loss\",hamming_loss(y_test,y_pred))\n"
      ],
      "execution_count": 58,
      "outputs": [
        {
          "output_type": "stream",
          "text": [
            "classification_report               precision    recall  f1-score   support\n",
            "\n",
            "           0       0.70      0.75      0.72      1606\n",
            "           1       0.68      0.54      0.60      1070\n",
            "           2       0.57      0.33      0.42       770\n",
            "           3       0.71      0.44      0.54       758\n",
            "           4       0.81      0.69      0.74       689\n",
            "           5       0.93      0.23      0.36       599\n",
            "           6       0.92      0.11      0.20       430\n",
            "\n",
            "   micro avg       0.71      0.51      0.59      5922\n",
            "   macro avg       0.76      0.44      0.51      5922\n",
            "weighted avg       0.73      0.51      0.57      5922\n",
            " samples avg       0.64      0.55      0.56      5922\n",
            "\n",
            "accuracy_score 0.324036802760207\n",
            "hamming_loss 0.17025384046660644\n"
          ],
          "name": "stdout"
        },
        {
          "output_type": "stream",
          "text": [
            "/usr/local/lib/python3.6/dist-packages/sklearn/metrics/classification.py:1143: UndefinedMetricWarning: Precision and F-score are ill-defined and being set to 0.0 in samples with no predicted labels.\n",
            "  'precision', 'predicted', average, warn_for)\n"
          ],
          "name": "stderr"
        }
      ]
    },
    {
      "metadata": {
        "id": "2oyVEiwynjMv",
        "colab_type": "code",
        "colab": {}
      },
      "cell_type": "code",
      "source": [
        ""
      ],
      "execution_count": 0,
      "outputs": []
    }
  ]
}