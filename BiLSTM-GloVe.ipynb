{
 "cells": [
  {
   "cell_type": "code",
   "execution_count": 1,
   "metadata": {
    "_cell_guid": "2f9b7a76-8625-443d-811f-8f49781aef81",
    "_uuid": "598f965bc881cfe6605d92903b758778d400fa8b"
   },
   "outputs": [
    {
     "name": "stderr",
     "output_type": "stream",
     "text": [
      "Using TensorFlow backend.\n"
     ]
    }
   ],
   "source": [
    "import sys, os, re, csv, codecs, numpy as np, pandas as pd\n",
    "\n",
    "from keras.preprocessing.text import Tokenizer\n",
    "from keras.preprocessing.sequence import pad_sequences\n",
    "from keras.layers import Dense, Input, LSTM, Embedding, Dropout, Activation\n",
    "from keras.layers import Bidirectional, GlobalMaxPool1D\n",
    "from keras.models import Model\n",
    "from keras.callbacks import EarlyStopping, ReduceLROnPlateau, ModelCheckpoint\n",
    "from keras import initializers, regularizers, constraints, optimizers, layers\n",
    "from keras.models import load_model\n",
    "import pickle\n",
    "from matplotlib import pyplot as plt\n",
    "from keras.layers.normalization import BatchNormalization"
   ]
  },
  {
   "cell_type": "markdown",
   "metadata": {
    "_cell_guid": "c297fa80-beea-464b-ac90-f380ebdb02fe",
    "_uuid": "d961885dfde18796893922f72ade1bf64456404e"
   },
   "source": [
    "We include the GloVe word vectors in our input files. To include these in your kernel, simple click 'input files' at the top of the notebook, and search 'glove' in the 'datasets' section."
   ]
  },
  {
   "cell_type": "code",
   "execution_count": 2,
   "metadata": {
    "_cell_guid": "66a6b5fd-93f0-4f95-ad62-3253815059ba",
    "_uuid": "729b0f0c2a02c678631b8c072d62ff46146a82ef"
   },
   "outputs": [
    {
     "data": {
      "text/plain": [
       "'../input/modelfiles/tokenizer.pickle'"
      ]
     },
     "execution_count": 2,
     "metadata": {},
     "output_type": "execute_result"
    }
   ],
   "source": [
    "path = '../input/'\n",
    "comp = 'techcruch-multilabel/'\n",
    "model = 'modelfiles/'\n",
    "EMBEDDING_FILE=f'{path}glove-840b-tokens-300d-vectors/glove.840B.300d.txt'\n",
    "TRAIN_DATA_FILE=f'{path}{comp}final_data_17406.xlsx'\n",
    "MODEL_FILE=f'{path}{model}my_model.h5'\n",
    "MODEL_DROPOUT_FILE=f'{path}{model}model_dropout_50_20000_500.h5'\n",
    "TOKENIZER_FILE=f'{path}{model}tokenizer.pickle' \n",
    "TOKENIZER_FILE"
   ]
  },
  {
   "cell_type": "markdown",
   "metadata": {
    "_cell_guid": "98f2b724-7d97-4da8-8b22-52164463a942",
    "_uuid": "b62d39216c8d00b3e6b78b825212fd190757dff9"
   },
   "source": [
    "Set some basic config parameters:"
   ]
  },
  {
   "cell_type": "code",
   "execution_count": 3,
   "metadata": {
    "_cell_guid": "2807a0a5-2220-4af6-92d6-4a7100307de2",
    "_uuid": "d365d5f8d9292bb9bf57d21d6186f8b619cbe8c3"
   },
   "outputs": [],
   "source": [
    "embed_size = 300 # how big is each word vector\n",
    "max_features = 100000 # how many unique words to use (i.e num rows in embedding vector)\n",
    "maxlen = 1000 # max number of words in a comment to use"
   ]
  },
  {
   "cell_type": "markdown",
   "metadata": {
    "_cell_guid": "b3a8d783-95c2-4819-9897-1320e3295183",
    "_uuid": "4dd8a02e7ef983f10ec9315721c6dda2958024af"
   },
   "source": [
    "Read in our data and replace missing values:"
   ]
  },
  {
   "cell_type": "code",
   "execution_count": 4,
   "metadata": {
    "_uuid": "84b5daef5ef2ecc1d49e339d429a660b71f46063"
   },
   "outputs": [
    {
     "data": {
      "text/html": [
       "<div>\n",
       "<style scoped>\n",
       "    .dataframe tbody tr th:only-of-type {\n",
       "        vertical-align: middle;\n",
       "    }\n",
       "\n",
       "    .dataframe tbody tr th {\n",
       "        vertical-align: top;\n",
       "    }\n",
       "\n",
       "    .dataframe thead th {\n",
       "        text-align: right;\n",
       "    }\n",
       "</style>\n",
       "<table border=\"1\" class=\"dataframe\">\n",
       "  <thead>\n",
       "    <tr style=\"text-align: right;\">\n",
       "      <th></th>\n",
       "      <th>authors</th>\n",
       "      <th>category</th>\n",
       "      <th>content</th>\n",
       "      <th>date</th>\n",
       "      <th>id</th>\n",
       "      <th>img_src</th>\n",
       "      <th>section</th>\n",
       "      <th>title</th>\n",
       "      <th>topics</th>\n",
       "      <th>url</th>\n",
       "      <th>startups</th>\n",
       "      <th>mobile</th>\n",
       "      <th>apps</th>\n",
       "      <th>social</th>\n",
       "      <th>gadgets</th>\n",
       "      <th>europe</th>\n",
       "      <th>enterprise</th>\n",
       "      <th>full_text</th>\n",
       "    </tr>\n",
       "  </thead>\n",
       "  <tbody>\n",
       "    <tr>\n",
       "      <th>0</th>\n",
       "      <td>Lora Kolodny</td>\n",
       "      <td>Government</td>\n",
       "      <td>Investigative reporter and co-founder of Democ...</td>\n",
       "      <td>2016-10-15</td>\n",
       "      <td>1402133</td>\n",
       "      <td>https://tctechcrunch2011.files.wordpress.com/2...</td>\n",
       "      <td>enterprise/</td>\n",
       "      <td>Multi-media journalists face jail time after r...</td>\n",
       "      <td>edward-snowden</td>\n",
       "      <td>https://techcrunch.com/2016/10/15/multi-media-...</td>\n",
       "      <td>0</td>\n",
       "      <td>0</td>\n",
       "      <td>0</td>\n",
       "      <td>1</td>\n",
       "      <td>0</td>\n",
       "      <td>0</td>\n",
       "      <td>0</td>\n",
       "      <td>Multi-media journalists face jail time after r...</td>\n",
       "    </tr>\n",
       "    <tr>\n",
       "      <th>1</th>\n",
       "      <td>Keith Teare</td>\n",
       "      <td>Social</td>\n",
       "      <td>\\n\\nThe problems associated with the widesprea...</td>\n",
       "      <td>2016-10-07</td>\n",
       "      <td>1398512</td>\n",
       "      <td>https://tctechcrunch2011.files.wordpress.com/2...</td>\n",
       "      <td>social/</td>\n",
       "      <td>The case for Twitter’s independence (unless Go...</td>\n",
       "      <td>twitter</td>\n",
       "      <td>https://techcrunch.com/2016/10/07/you-cannot-t...</td>\n",
       "      <td>0</td>\n",
       "      <td>0</td>\n",
       "      <td>0</td>\n",
       "      <td>1</td>\n",
       "      <td>0</td>\n",
       "      <td>0</td>\n",
       "      <td>0</td>\n",
       "      <td>The case for Twitter’s independence (unless Go...</td>\n",
       "    </tr>\n",
       "    <tr>\n",
       "      <th>2</th>\n",
       "      <td>Frederic Lardinois</td>\n",
       "      <td>Cloud</td>\n",
       "      <td>OpenStack, the massive open source project tha...</td>\n",
       "      <td>2016-10-06</td>\n",
       "      <td>1398065</td>\n",
       "      <td>https://tctechcrunch2011.files.wordpress.com/2...</td>\n",
       "      <td>enterprise/</td>\n",
       "      <td>OpenStack’s latest release focuses on scalabil...</td>\n",
       "      <td>NaN</td>\n",
       "      <td>https://techcrunch.com/2016/10/06/openstacks-l...</td>\n",
       "      <td>0</td>\n",
       "      <td>0</td>\n",
       "      <td>0</td>\n",
       "      <td>0</td>\n",
       "      <td>0</td>\n",
       "      <td>0</td>\n",
       "      <td>1</td>\n",
       "      <td>OpenStack’s latest release focuses on scalabil...</td>\n",
       "    </tr>\n",
       "    <tr>\n",
       "      <th>3</th>\n",
       "      <td>Haje Jan Kamps</td>\n",
       "      <td>Europe</td>\n",
       "      <td>It’s been just over a year since Adobe launche...</td>\n",
       "      <td>2016-10-05</td>\n",
       "      <td>1396326</td>\n",
       "      <td>https://tctechcrunch2011.files.wordpress.com/2...</td>\n",
       "      <td>europe/</td>\n",
       "      <td>Adobe teams up with EyeEm to expand its stock ...</td>\n",
       "      <td>NaN</td>\n",
       "      <td>https://techcrunch.com/2016/10/05/adobe-eyeem-...</td>\n",
       "      <td>1</td>\n",
       "      <td>1</td>\n",
       "      <td>0</td>\n",
       "      <td>0</td>\n",
       "      <td>0</td>\n",
       "      <td>1</td>\n",
       "      <td>0</td>\n",
       "      <td>Adobe teams up with EyeEm to expand its stock ...</td>\n",
       "    </tr>\n",
       "    <tr>\n",
       "      <th>4</th>\n",
       "      <td>Dr. Nancy Markley</td>\n",
       "      <td>Startups</td>\n",
       "      <td>\\n\\nMany startup companies begin with either a...</td>\n",
       "      <td>2016-10-04</td>\n",
       "      <td>1396165</td>\n",
       "      <td>https://tctechcrunch2011.files.wordpress.com/2...</td>\n",
       "      <td>startups/</td>\n",
       "      <td>Due diligence is a responsibility for investor...</td>\n",
       "      <td>NaN</td>\n",
       "      <td>https://techcrunch.com/2016/10/04/due-diligenc...</td>\n",
       "      <td>1</td>\n",
       "      <td>0</td>\n",
       "      <td>0</td>\n",
       "      <td>0</td>\n",
       "      <td>0</td>\n",
       "      <td>0</td>\n",
       "      <td>0</td>\n",
       "      <td>Due diligence is a responsibility for investor...</td>\n",
       "    </tr>\n",
       "  </tbody>\n",
       "</table>\n",
       "</div>"
      ],
      "text/plain": [
       "              authors                        ...                                                                  full_text\n",
       "0        Lora Kolodny                        ...                          Multi-media journalists face jail time after r...\n",
       "1         Keith Teare                        ...                          The case for Twitter’s independence (unless Go...\n",
       "2  Frederic Lardinois                        ...                          OpenStack’s latest release focuses on scalabil...\n",
       "3      Haje Jan Kamps                        ...                          Adobe teams up with EyeEm to expand its stock ...\n",
       "4   Dr. Nancy Markley                        ...                          Due diligence is a responsibility for investor...\n",
       "\n",
       "[5 rows x 18 columns]"
      ]
     },
     "execution_count": 4,
     "metadata": {},
     "output_type": "execute_result"
    }
   ],
   "source": [
    "X = pd.read_excel(TRAIN_DATA_FILE)\n",
    "X[\"full_text\"] = X[\"title\"] + '. '+ X[\"content\"]\n",
    "X.head()"
   ]
  },
  {
   "cell_type": "code",
   "execution_count": 5,
   "metadata": {},
   "outputs": [
    {
     "data": {
      "text/html": [
       "<div>\n",
       "<style scoped>\n",
       "    .dataframe tbody tr th:only-of-type {\n",
       "        vertical-align: middle;\n",
       "    }\n",
       "\n",
       "    .dataframe tbody tr th {\n",
       "        vertical-align: top;\n",
       "    }\n",
       "\n",
       "    .dataframe thead th {\n",
       "        text-align: right;\n",
       "    }\n",
       "</style>\n",
       "<table border=\"1\" class=\"dataframe\">\n",
       "  <thead>\n",
       "    <tr style=\"text-align: right;\">\n",
       "      <th></th>\n",
       "      <th>authors</th>\n",
       "      <th>url</th>\n",
       "      <th>title</th>\n",
       "      <th>content</th>\n",
       "      <th>img_src</th>\n",
       "    </tr>\n",
       "  </thead>\n",
       "  <tbody>\n",
       "    <tr>\n",
       "      <th>12568</th>\n",
       "      <td>Darrell Etherington</td>\n",
       "      <td>https://techcrunch.com/2014/11/17/yotaphone-2-...</td>\n",
       "      <td>YotaPhone 2 Dual-Screen Smartphone Gets Its De...</td>\n",
       "      <td>Smartphones are mostly similar, barring differ...</td>\n",
       "      <td>https://tctechcrunch2011.files.wordpress.com/2...</td>\n",
       "    </tr>\n",
       "    <tr>\n",
       "      <th>2107</th>\n",
       "      <td>Connie Loizos</td>\n",
       "      <td>https://techcrunch.com/2015/11/25/iguaz-io-lan...</td>\n",
       "      <td>Iguaz.io Lands $15 Million Series A</td>\n",
       "      <td>Herzliya Israel-based Iguaz.io isn’t yet sayin...</td>\n",
       "      <td>https://tctechcrunch2011.files.wordpress.com/2...</td>\n",
       "    </tr>\n",
       "    <tr>\n",
       "      <th>2106</th>\n",
       "      <td>Romain Dillet</td>\n",
       "      <td>https://techcrunch.com/2015/11/30/amazon-video...</td>\n",
       "      <td>Amazon Video Might Be Coming To The Apple TV A...</td>\n",
       "      <td>After announcing that Amazon would stop sellin...</td>\n",
       "      <td>https://tctechcrunch2011.files.wordpress.com/2...</td>\n",
       "    </tr>\n",
       "    <tr>\n",
       "      <th>106</th>\n",
       "      <td>Frederic Lardinois</td>\n",
       "      <td>https://techcrunch.com/2016/03/16/googles-make...</td>\n",
       "      <td>Google’s latest mobile search algorithm update...</td>\n",
       "      <td>If your site isn’t easy to use on mobile, Goog...</td>\n",
       "      <td>https://tctechcrunch2011.files.wordpress.com/2...</td>\n",
       "    </tr>\n",
       "    <tr>\n",
       "      <th>15840</th>\n",
       "      <td>Anthony Ha</td>\n",
       "      <td>https://techcrunch.com/2012/08/14/unruly-tripl...</td>\n",
       "      <td>Social Video Company Unruly Triples Annual Rev...</td>\n",
       "      <td>Unruly, a social video distribution platform w...</td>\n",
       "      <td>https://tctechcrunch2011.files.wordpress.com/2...</td>\n",
       "    </tr>\n",
       "  </tbody>\n",
       "</table>\n",
       "</div>"
      ],
      "text/plain": [
       "                   authors                        ...                                                                    img_src\n",
       "12568  Darrell Etherington                        ...                          https://tctechcrunch2011.files.wordpress.com/2...\n",
       "2107         Connie Loizos                        ...                          https://tctechcrunch2011.files.wordpress.com/2...\n",
       "2106         Romain Dillet                        ...                          https://tctechcrunch2011.files.wordpress.com/2...\n",
       "106     Frederic Lardinois                        ...                          https://tctechcrunch2011.files.wordpress.com/2...\n",
       "15840           Anthony Ha                        ...                          https://tctechcrunch2011.files.wordpress.com/2...\n",
       "\n",
       "[5 rows x 5 columns]"
      ]
     },
     "execution_count": 5,
     "metadata": {},
     "output_type": "execute_result"
    }
   ],
   "source": [
    "nlabels = 7\n",
    "list_classes = X.columns[-nlabels-1:-1]\n",
    "list_classes\n",
    "list_sentences_train = X[\"full_text\"].fillna(\"_na_\").values\n",
    "list_classes_train = X.columns[-nlabels-1:-1]\n",
    "y = X[list_classes].values\n",
    "from sklearn.model_selection import train_test_split\n",
    "X_tr, X_tet, y_tr, y_te = train_test_split(X, y, test_size=0.2, random_state=42)\n",
    "X_tet = X_tet[['authors','url','title', 'content','img_src']]\n",
    "X_tet.head()"
   ]
  },
  {
   "cell_type": "code",
   "execution_count": 6,
   "metadata": {},
   "outputs": [
    {
     "data": {
      "text/html": [
       "<div>\n",
       "<style scoped>\n",
       "    .dataframe tbody tr th:only-of-type {\n",
       "        vertical-align: middle;\n",
       "    }\n",
       "\n",
       "    .dataframe tbody tr th {\n",
       "        vertical-align: top;\n",
       "    }\n",
       "\n",
       "    .dataframe thead th {\n",
       "        text-align: right;\n",
       "    }\n",
       "</style>\n",
       "<table border=\"1\" class=\"dataframe\">\n",
       "  <thead>\n",
       "    <tr style=\"text-align: right;\">\n",
       "      <th></th>\n",
       "      <th>0</th>\n",
       "      <th>1</th>\n",
       "      <th>2</th>\n",
       "      <th>3</th>\n",
       "      <th>4</th>\n",
       "      <th>5</th>\n",
       "      <th>6</th>\n",
       "    </tr>\n",
       "  </thead>\n",
       "  <tbody>\n",
       "    <tr>\n",
       "      <th>0</th>\n",
       "      <td>0</td>\n",
       "      <td>1</td>\n",
       "      <td>0</td>\n",
       "      <td>0</td>\n",
       "      <td>1</td>\n",
       "      <td>0</td>\n",
       "      <td>0</td>\n",
       "    </tr>\n",
       "    <tr>\n",
       "      <th>1</th>\n",
       "      <td>1</td>\n",
       "      <td>0</td>\n",
       "      <td>0</td>\n",
       "      <td>0</td>\n",
       "      <td>0</td>\n",
       "      <td>0</td>\n",
       "      <td>0</td>\n",
       "    </tr>\n",
       "    <tr>\n",
       "      <th>2</th>\n",
       "      <td>0</td>\n",
       "      <td>0</td>\n",
       "      <td>0</td>\n",
       "      <td>0</td>\n",
       "      <td>1</td>\n",
       "      <td>0</td>\n",
       "      <td>0</td>\n",
       "    </tr>\n",
       "    <tr>\n",
       "      <th>3</th>\n",
       "      <td>0</td>\n",
       "      <td>0</td>\n",
       "      <td>0</td>\n",
       "      <td>0</td>\n",
       "      <td>0</td>\n",
       "      <td>0</td>\n",
       "      <td>1</td>\n",
       "    </tr>\n",
       "    <tr>\n",
       "      <th>4</th>\n",
       "      <td>0</td>\n",
       "      <td>0</td>\n",
       "      <td>0</td>\n",
       "      <td>1</td>\n",
       "      <td>0</td>\n",
       "      <td>1</td>\n",
       "      <td>0</td>\n",
       "    </tr>\n",
       "  </tbody>\n",
       "</table>\n",
       "</div>"
      ],
      "text/plain": [
       "   0  1  2  3  4  5  6\n",
       "0  0  1  0  0  1  0  0\n",
       "1  1  0  0  0  0  0  0\n",
       "2  0  0  0  0  1  0  0\n",
       "3  0  0  0  0  0  0  1\n",
       "4  0  0  0  1  0  1  0"
      ]
     },
     "execution_count": 6,
     "metadata": {},
     "output_type": "execute_result"
    }
   ],
   "source": [
    "y_te = pd.DataFrame(y_te)\n",
    "y_te.head()"
   ]
  },
  {
   "cell_type": "code",
   "execution_count": 7,
   "metadata": {
    "_kg_hide-input": false,
    "_uuid": "7bbb6b105bf2152c4fa04e86a19181861dba2d51"
   },
   "outputs": [
    {
     "data": {
      "text/plain": [
       "array(['multi media journalists face jail time after reporting on north dakota pipeline protest investigative reporter and co founder of democracy now amy goodman is nowfacing riot charges in the state of north dakota after her report on a native american led pipeline protest there went viral on facebookdemocracy now issued a statement about the new charges against goodman late saturdaythe news organization which spun out of wbai fm creates programming which is syndicated via radio podcasts cable television public access television live streams and web downloadsgoodmans story posted to facebook on september 4th has been viewed more than 14 million times on the social media platform democracy now said and was picked up by mainstream media outlets and networks including cbs nbc npr cnn msnbc and the huffington post a site owned by techcrunchs parent company verizonadditionally documentary filmmaker deia schlosberg is facing felony and conspiracy charges that could carry a 45 year sentence for filming at the protest indiewire reportsedward snowden noted schlosbergs predicament on friday with a tweet that said this reporter is being prosecuted for covering the north dakota oil protests for reference i face a mere 30 yearsauthorities released schlosberg who also runs a production studio called pale blue dot mediaafter originally detaining her but they confiscated her footage and refused to release it according to public tweets from josh fox a fellow filmmakerfor those unfamiliar with the pipeline protests the standing rock sioux are seeking to halt theconstruction of a 38 billion pipeline saying its development will encroach on their tribal burial sites and taint their water supply at the standing rock sioux reservationthe demonstrations in north dakota have been ongoing for months native american advocates and environmentalists have protested the pipelines development in other cities and states as wellon october 10th witnesses at a rallyin reno nevada captured footage of a pickup truck plowing into a group of activists protesting the pipelines development and calling for columbus day to be changed to indigenous peoples day in their stateseveralposted theirfootageand thoughts about the apparent attack on facebook as wellthe reno incident injured five and sent one to the hospital the rally was organized by the american indian movement of northern nevada aimnnit remains to be seen whether the charges against goodman schlosberg and other journalists covering the standing rock protests against the dakota access pipeline will stickbut these cases highlight the increasing power and risks associated with online distribution for news stories covered by independents and earliermissed by mainstream networks virality and independence it seems can attract prosecutorial ire'],\n",
       "      dtype=object)"
      ]
     },
     "execution_count": 7,
     "metadata": {},
     "output_type": "execute_result"
    }
   ],
   "source": [
    "#Cleansing Content and Tags:\n",
    "\n",
    "symbols_removel_regex = re.compile('[^0-9a-z #+_$%-]')\n",
    "\n",
    "def clean_text(text):\n",
    "    text = str(text)\n",
    "    text = text.lower()\n",
    "    text = symbols_removel_regex.sub('', text)\n",
    "    text = re.sub(r\"what's\", \"what is \", text)\n",
    "    text = re.sub(r\"\\'s\", \" \", text)\n",
    "    text = re.sub(r\"\\'ve\", \" have \", text)\n",
    "    text = re.sub(r\"can't\", \"cannot \", text)\n",
    "    text = re.sub(r\"n't\", \" not \", text)\n",
    "    text = re.sub(r\"i'm\", \"i am \", text)\n",
    "    text = re.sub(r\"\\'re\", \" are \", text)\n",
    "    text = re.sub(r\"\\'d\", \" would \", text)\n",
    "    text = re.sub(r\"\\'ll\", \" will \", text)\n",
    "    text = re.sub(r\"\\'scuse\", \" excuse \", text)\n",
    "    text = re.sub('\\W', ' ', text)\n",
    "    text = re.sub('\\s+', ' ', text)\n",
    "    text = text.strip(' ')\n",
    "    return text\n",
    "    \n",
    "X['full_text'] = X['full_text'].apply(clean_text)\n",
    "X[['full_text']].head(1).values[0]"
   ]
  },
  {
   "cell_type": "code",
   "execution_count": 8,
   "metadata": {
    "_uuid": "8fd40118c55f53041fc1c3749663d56fe2671d9f"
   },
   "outputs": [],
   "source": [
    "nlabels = 7"
   ]
  },
  {
   "cell_type": "code",
   "execution_count": 9,
   "metadata": {
    "_uuid": "68f0259dbb961905d43ee89f00b49486efe07a38"
   },
   "outputs": [
    {
     "data": {
      "text/plain": [
       "Index(['startups', 'mobile', 'apps', 'social', 'gadgets', 'europe',\n",
       "       'enterprise'],\n",
       "      dtype='object')"
      ]
     },
     "execution_count": 9,
     "metadata": {},
     "output_type": "execute_result"
    }
   ],
   "source": [
    "list_classes = X.columns[-nlabels-1:-1]\n",
    "list_classes"
   ]
  },
  {
   "cell_type": "code",
   "execution_count": 10,
   "metadata": {
    "_uuid": "223106b28689bb6ec6c46e67880d70f72c8a955d"
   },
   "outputs": [
    {
     "name": "stdout",
     "output_type": "stream",
     "text": [
      "Index(['startups', 'mobile', 'apps', 'social', 'gadgets', 'europe',\n",
      "       'enterprise'],\n",
      "      dtype='object')\n"
     ]
    },
    {
     "data": {
      "text/plain": [
       "array([[0, 0, 0, ..., 0, 0, 0],\n",
       "       [0, 0, 0, ..., 0, 0, 0],\n",
       "       [0, 0, 0, ..., 0, 0, 1],\n",
       "       ...,\n",
       "       [0, 0, 0, ..., 0, 1, 0],\n",
       "       [0, 0, 0, ..., 0, 0, 0],\n",
       "       [0, 0, 0, ..., 0, 0, 0]])"
      ]
     },
     "execution_count": 10,
     "metadata": {},
     "output_type": "execute_result"
    }
   ],
   "source": [
    "list_sentences_train = X[\"full_text\"].fillna(\"_na_\").values\n",
    "list_classes_train = X.columns[-nlabels-1:-1]\n",
    "print(list_classes_train)\n",
    "y = X[list_classes].values\n",
    "y"
   ]
  },
  {
   "cell_type": "code",
   "execution_count": 11,
   "metadata": {
    "_uuid": "1f07c9918f24debcbbfb6a79d9c948894d23406d"
   },
   "outputs": [],
   "source": [
    "from sklearn.model_selection import train_test_split\n",
    "X_train, X_test, y_train, y_test = train_test_split(X, y, test_size=0.2, random_state=42)"
   ]
  },
  {
   "cell_type": "markdown",
   "metadata": {
    "_cell_guid": "54a7a34e-6549-45f7-ada2-2173ff2ce5ea",
    "_uuid": "e8810c303980f41dbe0543e1c15d35acbdd8428f"
   },
   "source": [
    "Standard keras preprocessing, to turn each comment into a list of word indexes of equal length (with truncation or padding as needed)."
   ]
  },
  {
   "cell_type": "code",
   "execution_count": 12,
   "metadata": {
    "_uuid": "3132f313b3548198dd3485731b8c3e19bc49980d"
   },
   "outputs": [],
   "source": [
    "list_sentences_train = X_train[\"full_text\"].fillna(\"_na_\").values"
   ]
  },
  {
   "cell_type": "code",
   "execution_count": 13,
   "metadata": {
    "_cell_guid": "79afc0e9-b5f0-42a2-9257-a72458e91dbb",
    "_uuid": "c292c2830522bfe59d281ecac19f3a9415c07155"
   },
   "outputs": [],
   "source": [
    "tokenizer = Tokenizer(num_words=max_features)\n",
    "tokenizer.fit_on_texts(list(list_sentences_train))\n",
    "list_tokenized_train = tokenizer.texts_to_sequences(list_sentences_train)\n",
    "X_t = pad_sequences(list_tokenized_train, maxlen=maxlen)"
   ]
  },
  {
   "cell_type": "markdown",
   "metadata": {
    "_cell_guid": "f8c4f6a3-3a19-40b1-ad31-6df2690bec8a",
    "_uuid": "e1cb77629e35c2b5b28288b4d6048a86dda04d78"
   },
   "source": [
    "Read the glove word vectors (space delimited strings) into a dictionary from word->vector."
   ]
  },
  {
   "cell_type": "code",
   "execution_count": 14,
   "metadata": {
    "_cell_guid": "7d19392b-7750-4a1b-ac30-ed75b8a62d52",
    "_uuid": "e9e3b4fa7c4658e0f22dd48cb1a289d9deb745fc"
   },
   "outputs": [],
   "source": [
    "# def get_coefs(word,*arr): \n",
    "#     return word, np.asarray(arr, dtype='float32')\n",
    "# embeddings_index = dict(get_coefs(*o.strip().split()) for o in open(EMBEDDING_FILE))\n",
    "embeddings_index = {}\n",
    "f = open(EMBEDDING_FILE, encoding='utf8')\n",
    "for line in f:\n",
    "    values = line.split()\n",
    "    word = ''.join(values[:-300])\n",
    "    coefs = np.asarray(values[-300:], dtype='float32')\n",
    "    embeddings_index[word] = coefs\n",
    "f.close()"
   ]
  },
  {
   "cell_type": "markdown",
   "metadata": {
    "_cell_guid": "7370416a-094a-4dc7-84fa-bdbf469f6579",
    "_uuid": "20cea54904ac1eece20874e9346905a59a604985"
   },
   "source": [
    "Use these vectors to create our embedding matrix, with random initialization for words that aren't in GloVe. We'll use the same mean and stdev of embeddings the GloVe has when generating the random init."
   ]
  },
  {
   "cell_type": "code",
   "execution_count": 15,
   "metadata": {
    "_cell_guid": "4d29d827-377d-4d2f-8582-4a92f9569719",
    "_uuid": "96fc33012e7f07a2169a150c61574858d49a561b"
   },
   "outputs": [
    {
     "name": "stderr",
     "output_type": "stream",
     "text": [
      "/opt/conda/lib/python3.6/site-packages/ipykernel_launcher.py:1: FutureWarning: arrays to stack must be passed as a \"sequence\" type such as list or tuple. Support for non-sequence iterables such as generators is deprecated as of NumPy 1.16 and will raise an error in the future.\n",
      "  \"\"\"Entry point for launching an IPython kernel.\n"
     ]
    },
    {
     "data": {
      "text/plain": [
       "(-0.0058391085, 0.4878248)"
      ]
     },
     "execution_count": 15,
     "metadata": {},
     "output_type": "execute_result"
    }
   ],
   "source": [
    "all_embs = np.stack(embeddings_index.values())\n",
    "emb_mean,emb_std = all_embs.mean(), all_embs.std()\n",
    "emb_mean,emb_std"
   ]
  },
  {
   "cell_type": "code",
   "execution_count": 16,
   "metadata": {
    "_cell_guid": "62acac54-0495-4a26-ab63-2520d05b3e19",
    "_uuid": "574c91e270add444a7bc8175440274bdd83b7173"
   },
   "outputs": [],
   "source": [
    "word_index = tokenizer.word_index\n",
    "nb_words = min(max_features, len(word_index))\n",
    "embedding_matrix = np.random.normal(emb_mean, emb_std, (nb_words, embed_size))\n",
    "for word, i in word_index.items():\n",
    "    if i >= max_features: continue\n",
    "    embedding_vector = embeddings_index.get(word)\n",
    "    if embedding_vector is not None: embedding_matrix[i] = embedding_vector"
   ]
  },
  {
   "cell_type": "code",
   "execution_count": 17,
   "metadata": {
    "_uuid": "6417eaee27282ef35f23ce3249b863f156f1890a"
   },
   "outputs": [],
   "source": [
    "#saving\n",
    "with open('tokenizer_final.pickle', 'wb') as handle:\n",
    "    pickle.dump(tokenizer, handle, protocol=pickle.HIGHEST_PROTOCOL)\n",
    "\n",
    "# # loading\n",
    "# with open(TOKENIZER_FILE, 'rb') as handle:\n",
    "#     tokenizer = pickle.load(handle)\n",
    "    \n",
    "# tokenizer"
   ]
  },
  {
   "cell_type": "markdown",
   "metadata": {
    "_cell_guid": "f1aeec65-356e-4430-b99d-bb516ec90b09",
    "_uuid": "237345510bd2e664b5c6983a698d80bac2732bc4"
   },
   "source": [
    "Simple bidirectional LSTM with two fully connected layers. We add some dropout to the LSTM since even 2 epochs is enough to overfit."
   ]
  },
  {
   "cell_type": "code",
   "execution_count": 18,
   "metadata": {
    "_uuid": "4734b030ebcfa157693f84ef2883bc3943b369a7"
   },
   "outputs": [
    {
     "name": "stdout",
     "output_type": "stream",
     "text": [
      "WARNING:tensorflow:From /opt/conda/lib/python3.6/site-packages/tensorflow/python/framework/op_def_library.py:263: colocate_with (from tensorflow.python.framework.ops) is deprecated and will be removed in a future version.\n",
      "Instructions for updating:\n",
      "Colocations handled automatically by placer.\n",
      "WARNING:tensorflow:From /opt/conda/lib/python3.6/site-packages/keras/backend/tensorflow_backend.py:3445: calling dropout (from tensorflow.python.ops.nn_ops) with keep_prob is deprecated and will be removed in a future version.\n",
      "Instructions for updating:\n",
      "Please use `rate` instead of `keep_prob`. Rate should be set to `rate = 1 - keep_prob`.\n"
     ]
    },
    {
     "name": "stderr",
     "output_type": "stream",
     "text": [
      "/opt/conda/lib/python3.6/site-packages/keras/callbacks.py:1065: UserWarning: `epsilon` argument is deprecated and will be removed, use `min_delta` instead.\n",
      "  warnings.warn('`epsilon` argument is deprecated and '\n"
     ]
    }
   ],
   "source": [
    "inp = Input(shape=(maxlen,))\n",
    "x = Embedding(max_features, embed_size, weights=[embedding_matrix])(inp)\n",
    "x = Bidirectional(LSTM(100, return_sequences=True, dropout=0.15, recurrent_dropout=0.1))(x)\n",
    "x = GlobalMaxPool1D()(x)\n",
    "x = Dense(100, activation=\"relu\")(x)\n",
    "x = Dropout(0.15)(x)\n",
    "x = Dense(nlabels, activation=\"sigmoid\")(x)\n",
    "model = Model(inputs=inp, outputs=x)\n",
    "\n",
    "earlyStopping = EarlyStopping(monitor='val_loss', patience=2, verbose=0, mode='min')\n",
    "mcp_save = ModelCheckpoint('best_model.hdf5', save_best_only=True, monitor='val_loss', mode='min')\n",
    "reduce_lr_loss = ReduceLROnPlateau(monitor='val_loss', factor=0.1, patience=2, verbose=1, epsilon=1e-4, mode='min')\n",
    "\n",
    "model.compile(loss='binary_crossentropy', optimizer='adam', metrics=['accuracy', 'categorical_accuracy'])"
   ]
  },
  {
   "cell_type": "code",
   "execution_count": 19,
   "metadata": {
    "_cell_guid": "0d4cb718-7f9a-4eab-acda-8f55b4712439",
    "_uuid": "dc51af0bd046e1eccc29111a8e2d77bdf7c60d28"
   },
   "outputs": [],
   "source": [
    "# inp = Input(shape=(maxlen,))\n",
    "# x = Embedding(max_features, embed_size, weights=[embedding_matrix])(inp)\n",
    "# x = Bidirectional(LSTM(50, return_sequences=True, dropout=0.3, recurrent_dropout=0.3))(x)\n",
    "# x = GlobalMaxPool1D()(x)\n",
    "# x = Dense(70, activation=\"relu\")(x)\n",
    "# x = Dropout(0.3)(x)\n",
    "# x = Dense(50, activation=\"relu\")(x)\n",
    "# x = Dropout(0.3)(x)\n",
    "# x = Dense(nlabels, activation=\"sigmoid\")(x)\n",
    "# model_dropout = Model(inputs=inp, outputs=x)\n",
    "# model_dropout.compile(loss='binary_crossentropy', optimizer='adam', metrics=['accuracy', 'categorical_accuracy'])"
   ]
  },
  {
   "cell_type": "markdown",
   "metadata": {
    "_cell_guid": "4a624b55-3720-42bc-ad5a-7cefc76d83f6",
    "_uuid": "e2a0e9ce12e1ff5ea102665e79de23df5caf5802"
   },
   "source": [
    "Now we're ready to fit out model! Use `validation_split` when not submitting."
   ]
  },
  {
   "cell_type": "code",
   "execution_count": 20,
   "metadata": {
    "_cell_guid": "333626f1-a838-4fea-af99-0c78f1ef5f5c",
    "_uuid": "c1558c6b2802fc632edc4510c074555a590efbd8",
    "scrolled": false
   },
   "outputs": [
    {
     "name": "stdout",
     "output_type": "stream",
     "text": [
      "WARNING:tensorflow:From /opt/conda/lib/python3.6/site-packages/tensorflow/python/ops/math_ops.py:3066: to_int32 (from tensorflow.python.ops.math_ops) is deprecated and will be removed in a future version.\n",
      "Instructions for updating:\n",
      "Use tf.cast instead.\n",
      "WARNING:tensorflow:From /opt/conda/lib/python3.6/site-packages/tensorflow/python/ops/math_grad.py:102: div (from tensorflow.python.ops.math_ops) is deprecated and will be removed in a future version.\n",
      "Instructions for updating:\n",
      "Deprecated in favor of operator or tf.math.divide.\n",
      "Train on 12531 samples, validate on 1393 samples\n",
      "Epoch 1/6\n",
      "12531/12531 [==============================] - 1374s 110ms/step - loss: 0.3958 - acc: 0.8198 - categorical_accuracy: 0.5269 - val_loss: 0.2814 - val_acc: 0.8780 - val_categorical_accuracy: 0.6619\n",
      "Epoch 2/6\n",
      "12531/12531 [==============================] - 1355s 108ms/step - loss: 0.2786 - acc: 0.8808 - categorical_accuracy: 0.6201 - val_loss: 0.2589 - val_acc: 0.8908 - val_categorical_accuracy: 0.6475\n",
      "Epoch 3/6\n",
      "12531/12531 [==============================] - 1354s 108ms/step - loss: 0.2271 - acc: 0.9046 - categorical_accuracy: 0.6582 - val_loss: 0.2555 - val_acc: 0.8928 - val_categorical_accuracy: 0.6188\n",
      "Epoch 4/6\n",
      "12531/12531 [==============================] - 1352s 108ms/step - loss: 0.1696 - acc: 0.9322 - categorical_accuracy: 0.6972 - val_loss: 0.2707 - val_acc: 0.8916 - val_categorical_accuracy: 0.6762\n",
      "Epoch 5/6\n",
      "12531/12531 [==============================] - 1352s 108ms/step - loss: 0.1162 - acc: 0.9556 - categorical_accuracy: 0.7305 - val_loss: 0.3137 - val_acc: 0.8892 - val_categorical_accuracy: 0.6454\n",
      "\n",
      "Epoch 00005: ReduceLROnPlateau reducing learning rate to 0.00010000000474974513.\n"
     ]
    }
   ],
   "source": [
    "history = model.fit(X_t, y_train, batch_size=32, epochs=6, validation_split=0.1, callbacks=[earlyStopping, mcp_save, reduce_lr_loss])\n",
    "model.load_weights(\"best_model.hdf5\")"
   ]
  },
  {
   "cell_type": "code",
   "execution_count": 21,
   "metadata": {
    "_uuid": "ed5841007eb1482f101b06f26fee1fe573becef9"
   },
   "outputs": [],
   "source": [
    "# history_dropout = model_dropout.fit(X_t, y_train, batch_size=32, epochs=10, validation_split=0.1)"
   ]
  },
  {
   "cell_type": "code",
   "execution_count": 22,
   "metadata": {
    "_uuid": "31886f8f6ed69cae72cc6e7bb2d3c387c8d3e96f"
   },
   "outputs": [],
   "source": [
    "model.save('model_final.h5')\n",
    "# model_dropout.save('model_dropout_50_20000_500.h5')"
   ]
  },
  {
   "cell_type": "code",
   "execution_count": 23,
   "metadata": {
    "_uuid": "83f6120793b06bdbcb895996ce461a7c5535a04f"
   },
   "outputs": [],
   "source": [
    "list_sentences_test = X_test['full_text'].fillna(\"_na_\").values\n",
    "list_tokenized_test = tokenizer.texts_to_sequences(list_sentences_test) \n",
    "X_te = pad_sequences(list_tokenized_test, maxlen=maxlen)"
   ]
  },
  {
   "cell_type": "code",
   "execution_count": 24,
   "metadata": {},
   "outputs": [],
   "source": [
    "#Load models\n",
    "# model = load_model(MODEL_FILE)\n",
    "# model_dropout = load_model(MODEL_DROPOUT_FILE)"
   ]
  },
  {
   "cell_type": "code",
   "execution_count": 25,
   "metadata": {},
   "outputs": [],
   "source": [
    "from matplotlib import pyplot as plt\n",
    "def plot_errors(history, name):\n",
    "    plt.figure()\n",
    "    plt.plot(history.history['loss'], lw=2.0, color='b', label='train')\n",
    "    plt.plot(history.history['val_loss'], lw=2.0, color='r', label='val')\n",
    "    plt.title('LSTM Training vs Validation errors')\n",
    "    plt.xlabel('Epochs')\n",
    "    plt.ylabel('Cross-Entropy Loss')\n",
    "    plt.legend(loc='upper right')\n",
    "    plt.show()\n",
    "    plt.savefig(name)"
   ]
  },
  {
   "cell_type": "code",
   "execution_count": 26,
   "metadata": {},
   "outputs": [
    {
     "data": {
      "image/png": "[encoded data removed]",
      "text/plain": [
       "<Figure size 432x288 with 1 Axes>"
      ]
     },
     "metadata": {},
     "output_type": "display_data"
    },
    {
     "data": {
      "text/plain": [
       "<Figure size 432x288 with 0 Axes>"
      ]
     },
     "metadata": {},
     "output_type": "display_data"
    }
   ],
   "source": [
    "plot_errors(history, \"model_final.png\")\n",
    "# plot_errors(history_dropout, \"model_dropout.png\")"
   ]
  },
  {
   "cell_type": "code",
   "execution_count": 27,
   "metadata": {
    "_uuid": "18b336201b3057dddc3bb363c4e822ea8a2b6582",
    "scrolled": false
   },
   "outputs": [],
   "source": [
    "from sklearn.metrics import classification_report\n",
    "from sklearn.metrics import accuracy_score\n",
    "from sklearn.metrics import hamming_loss\n",
    "\n",
    "def predict_tags(model, filename, threshold):\n",
    "    y_predict = model.predict([X_te], batch_size=1024, verbose=1)\n",
    "    y_predict = pd.DataFrame(y_predict)\n",
    "    y_predict = y_predict.apply(lambda x: [0 if y <= threshold else 1 for y in x])\n",
    "    y_predict.columns = list_classes\n",
    "    file1 = open(filename+str(threshold),\"w\") \n",
    "    file1.write(\"threshold\") \n",
    "    file1.write(\"\\n\") \n",
    "    file1.write(\"Classification Report\\n\") \n",
    "    print(classification_report(y_test, y_predict))\n",
    "    file1.write(classification_report(y_test, y_predict)) \n",
    "    file1.write(\"Accuracy Score\\n\") \n",
    "    print(accuracy_score(y_test, y_predict))\n",
    "    file1.write(str(accuracy_score(y_test, y_predict)))\n",
    "    file1.write(\"Hamming Loss\\n\") \n",
    "    print(str(hamming_loss(y_test, y_predict)))\n",
    "    file1.write(str(hamming_loss(y_test, y_predict)))\n",
    "    file1.close()\n",
    "    return y_predict"
   ]
  },
  {
   "cell_type": "code",
   "execution_count": 28,
   "metadata": {},
   "outputs": [
    {
     "name": "stdout",
     "output_type": "stream",
     "text": [
      "3482/3482 [==============================] - 6s 2ms/step\n",
      "              precision    recall  f1-score   support\n",
      "\n",
      "           0       0.82      0.77      0.80      1630\n",
      "           1       0.75      0.75      0.75      1077\n",
      "           2       0.69      0.63      0.66       771\n",
      "           3       0.76      0.71      0.73       768\n",
      "           4       0.88      0.81      0.84       690\n",
      "           5       0.85      0.80      0.83       596\n",
      "           6       0.83      0.61      0.71       458\n",
      "\n",
      "   micro avg       0.79      0.74      0.76      5990\n",
      "   macro avg       0.80      0.73      0.76      5990\n",
      "weighted avg       0.79      0.74      0.76      5990\n",
      " samples avg       0.81      0.78      0.77      5990\n",
      "\n",
      "0.4867892016082711\n",
      "0.11192254041191434\n"
     ]
    },
    {
     "name": "stderr",
     "output_type": "stream",
     "text": [
      "/opt/conda/lib/python3.6/site-packages/sklearn/metrics/classification.py:1143: UndefinedMetricWarning: Precision and F-score are ill-defined and being set to 0.0 in samples with no predicted labels.\n",
      "  'precision', 'predicted', average, warn_for)\n"
     ]
    }
   ],
   "source": [
    "y_predict = predict_tags(model, \"model_final.txt\", 0.5)\n",
    "# predict_tags(model_dropout, \"model_dropout.txt\")"
   ]
  },
  {
   "cell_type": "code",
   "execution_count": 29,
   "metadata": {},
   "outputs": [
    {
     "data": {
      "text/html": [
       "<div>\n",
       "<style scoped>\n",
       "    .dataframe tbody tr th:only-of-type {\n",
       "        vertical-align: middle;\n",
       "    }\n",
       "\n",
       "    .dataframe tbody tr th {\n",
       "        vertical-align: top;\n",
       "    }\n",
       "\n",
       "    .dataframe thead th {\n",
       "        text-align: right;\n",
       "    }\n",
       "</style>\n",
       "<table border=\"1\" class=\"dataframe\">\n",
       "  <thead>\n",
       "    <tr style=\"text-align: right;\">\n",
       "      <th></th>\n",
       "      <th>authors</th>\n",
       "      <th>url</th>\n",
       "      <th>title</th>\n",
       "      <th>content</th>\n",
       "      <th>img_src</th>\n",
       "      <th>startups</th>\n",
       "      <th>mobile</th>\n",
       "      <th>apps</th>\n",
       "      <th>social</th>\n",
       "      <th>gadgets</th>\n",
       "      <th>europe</th>\n",
       "      <th>enterprise</th>\n",
       "      <th>startups_real</th>\n",
       "      <th>mobile_real</th>\n",
       "      <th>apps_real</th>\n",
       "      <th>social_real</th>\n",
       "      <th>gadgets_real</th>\n",
       "      <th>europe_real</th>\n",
       "      <th>enterprise_real</th>\n",
       "    </tr>\n",
       "  </thead>\n",
       "  <tbody>\n",
       "    <tr>\n",
       "      <th>0</th>\n",
       "      <td>Darrell Etherington</td>\n",
       "      <td>https://techcrunch.com/2014/11/17/yotaphone-2-...</td>\n",
       "      <td>YotaPhone 2 Dual-Screen Smartphone Gets Its De...</td>\n",
       "      <td>Smartphones are mostly similar, barring differ...</td>\n",
       "      <td>https://tctechcrunch2011.files.wordpress.com/2...</td>\n",
       "      <td>0</td>\n",
       "      <td>1</td>\n",
       "      <td>0</td>\n",
       "      <td>0</td>\n",
       "      <td>1</td>\n",
       "      <td>0</td>\n",
       "      <td>0</td>\n",
       "      <td>0</td>\n",
       "      <td>1</td>\n",
       "      <td>0</td>\n",
       "      <td>0</td>\n",
       "      <td>1</td>\n",
       "      <td>0</td>\n",
       "      <td>0</td>\n",
       "    </tr>\n",
       "    <tr>\n",
       "      <th>1</th>\n",
       "      <td>Connie Loizos</td>\n",
       "      <td>https://techcrunch.com/2015/11/25/iguaz-io-lan...</td>\n",
       "      <td>Iguaz.io Lands $15 Million Series A</td>\n",
       "      <td>Herzliya Israel-based Iguaz.io isn’t yet sayin...</td>\n",
       "      <td>https://tctechcrunch2011.files.wordpress.com/2...</td>\n",
       "      <td>0</td>\n",
       "      <td>0</td>\n",
       "      <td>0</td>\n",
       "      <td>0</td>\n",
       "      <td>0</td>\n",
       "      <td>0</td>\n",
       "      <td>1</td>\n",
       "      <td>1</td>\n",
       "      <td>0</td>\n",
       "      <td>0</td>\n",
       "      <td>0</td>\n",
       "      <td>0</td>\n",
       "      <td>0</td>\n",
       "      <td>0</td>\n",
       "    </tr>\n",
       "    <tr>\n",
       "      <th>2</th>\n",
       "      <td>Romain Dillet</td>\n",
       "      <td>https://techcrunch.com/2015/11/30/amazon-video...</td>\n",
       "      <td>Amazon Video Might Be Coming To The Apple TV A...</td>\n",
       "      <td>After announcing that Amazon would stop sellin...</td>\n",
       "      <td>https://tctechcrunch2011.files.wordpress.com/2...</td>\n",
       "      <td>0</td>\n",
       "      <td>0</td>\n",
       "      <td>0</td>\n",
       "      <td>0</td>\n",
       "      <td>1</td>\n",
       "      <td>0</td>\n",
       "      <td>0</td>\n",
       "      <td>0</td>\n",
       "      <td>0</td>\n",
       "      <td>0</td>\n",
       "      <td>0</td>\n",
       "      <td>1</td>\n",
       "      <td>0</td>\n",
       "      <td>0</td>\n",
       "    </tr>\n",
       "    <tr>\n",
       "      <th>3</th>\n",
       "      <td>Frederic Lardinois</td>\n",
       "      <td>https://techcrunch.com/2016/03/16/googles-make...</td>\n",
       "      <td>Google’s latest mobile search algorithm update...</td>\n",
       "      <td>If your site isn’t easy to use on mobile, Goog...</td>\n",
       "      <td>https://tctechcrunch2011.files.wordpress.com/2...</td>\n",
       "      <td>0</td>\n",
       "      <td>1</td>\n",
       "      <td>0</td>\n",
       "      <td>0</td>\n",
       "      <td>0</td>\n",
       "      <td>0</td>\n",
       "      <td>0</td>\n",
       "      <td>0</td>\n",
       "      <td>0</td>\n",
       "      <td>0</td>\n",
       "      <td>0</td>\n",
       "      <td>0</td>\n",
       "      <td>0</td>\n",
       "      <td>1</td>\n",
       "    </tr>\n",
       "    <tr>\n",
       "      <th>4</th>\n",
       "      <td>Anthony Ha</td>\n",
       "      <td>https://techcrunch.com/2012/08/14/unruly-tripl...</td>\n",
       "      <td>Social Video Company Unruly Triples Annual Rev...</td>\n",
       "      <td>Unruly, a social video distribution platform w...</td>\n",
       "      <td>https://tctechcrunch2011.files.wordpress.com/2...</td>\n",
       "      <td>1</td>\n",
       "      <td>0</td>\n",
       "      <td>0</td>\n",
       "      <td>1</td>\n",
       "      <td>0</td>\n",
       "      <td>0</td>\n",
       "      <td>0</td>\n",
       "      <td>0</td>\n",
       "      <td>0</td>\n",
       "      <td>0</td>\n",
       "      <td>1</td>\n",
       "      <td>0</td>\n",
       "      <td>1</td>\n",
       "      <td>0</td>\n",
       "    </tr>\n",
       "  </tbody>\n",
       "</table>\n",
       "</div>"
      ],
      "text/plain": [
       "               authors       ...       enterprise_real\n",
       "0  Darrell Etherington       ...                     0\n",
       "1        Connie Loizos       ...                     0\n",
       "2        Romain Dillet       ...                     0\n",
       "3   Frederic Lardinois       ...                     1\n",
       "4           Anthony Ha       ...                     0\n",
       "\n",
       "[5 rows x 19 columns]"
      ]
     },
     "execution_count": 29,
     "metadata": {},
     "output_type": "execute_result"
    }
   ],
   "source": [
    "X_tet.reset_index(drop=True, inplace=True)\n",
    "y_predict.reset_index(drop=True, inplace=True)\n",
    "labels = [str(i) + '_real' for i in list_classes]\n",
    "y_te.columns = labels\n",
    "y_te.reset_index(drop=True, inplace=True)\n",
    "final = pd.concat([X_tet, y_predict, y_te], axis = 1)\n",
    "final.head()"
   ]
  },
  {
   "cell_type": "code",
   "execution_count": 30,
   "metadata": {},
   "outputs": [
    {
     "name": "stdout",
     "output_type": "stream",
     "text": [
      "(46, 21)\n"
     ]
    },
    {
     "data": {
      "text/html": [
       "<div>\n",
       "<style scoped>\n",
       "    .dataframe tbody tr th:only-of-type {\n",
       "        vertical-align: middle;\n",
       "    }\n",
       "\n",
       "    .dataframe tbody tr th {\n",
       "        vertical-align: top;\n",
       "    }\n",
       "\n",
       "    .dataframe thead th {\n",
       "        text-align: right;\n",
       "    }\n",
       "</style>\n",
       "<table border=\"1\" class=\"dataframe\">\n",
       "  <thead>\n",
       "    <tr style=\"text-align: right;\">\n",
       "      <th></th>\n",
       "      <th>url</th>\n",
       "      <th>img_src</th>\n",
       "      <th>authors</th>\n",
       "      <th>title</th>\n",
       "      <th>content</th>\n",
       "      <th>startups_real</th>\n",
       "      <th>mobile_real</th>\n",
       "      <th>apps_real</th>\n",
       "      <th>social_real</th>\n",
       "      <th>gadgets_real</th>\n",
       "      <th>europe_real</th>\n",
       "      <th>enterprise_real</th>\n",
       "    </tr>\n",
       "  </thead>\n",
       "  <tbody>\n",
       "    <tr>\n",
       "      <th>22</th>\n",
       "      <td>https://techcrunch.com/2015/08/25/cyanogen-and...</td>\n",
       "      <td>https://tctechcrunch2011.files.wordpress.com/2...</td>\n",
       "      <td>Natasha Lomas</td>\n",
       "      <td>Cyanogen OS Lands On Two New Smartphones, Targ...</td>\n",
       "      <td>The Cyanogen flavor of open Android, which is ...</td>\n",
       "      <td>0</td>\n",
       "      <td>1</td>\n",
       "      <td>0</td>\n",
       "      <td>0</td>\n",
       "      <td>1</td>\n",
       "      <td>1</td>\n",
       "      <td>0</td>\n",
       "    </tr>\n",
       "    <tr>\n",
       "      <th>41</th>\n",
       "      <td>https://techcrunch.com/2012/11/28/everything-m...</td>\n",
       "      <td>https://tctechcrunch2011.files.wordpress.com/2...</td>\n",
       "      <td>Ingrid Lunden</td>\n",
       "      <td>Everything.me, The Search App That Bridges The...</td>\n",
       "      <td>Native apps are stealing the show when it come...</td>\n",
       "      <td>1</td>\n",
       "      <td>1</td>\n",
       "      <td>1</td>\n",
       "      <td>0</td>\n",
       "      <td>0</td>\n",
       "      <td>0</td>\n",
       "      <td>0</td>\n",
       "    </tr>\n",
       "    <tr>\n",
       "      <th>88</th>\n",
       "      <td>https://techcrunch.com/2013/10/17/coffee-house...</td>\n",
       "      <td>https://tctechcrunch2011.files.wordpress.com/2...</td>\n",
       "      <td>Steve O'Hear</td>\n",
       "      <td>Playlists.net Revamps iOS App To Focus On Musi...</td>\n",
       "      <td>Spotify community and playlist sharing site Pl...</td>\n",
       "      <td>1</td>\n",
       "      <td>1</td>\n",
       "      <td>0</td>\n",
       "      <td>0</td>\n",
       "      <td>0</td>\n",
       "      <td>1</td>\n",
       "      <td>0</td>\n",
       "    </tr>\n",
       "    <tr>\n",
       "      <th>226</th>\n",
       "      <td>https://techcrunch.com/2013/02/07/evernote-bus...</td>\n",
       "      <td>https://tctechcrunch2011.files.wordpress.com/2...</td>\n",
       "      <td>Ingrid Lunden</td>\n",
       "      <td>Evernote, Now With Its First COO, Takes Its Pr...</td>\n",
       "      <td>Evernote, the popular personal information and...</td>\n",
       "      <td>0</td>\n",
       "      <td>1</td>\n",
       "      <td>1</td>\n",
       "      <td>0</td>\n",
       "      <td>0</td>\n",
       "      <td>1</td>\n",
       "      <td>1</td>\n",
       "    </tr>\n",
       "    <tr>\n",
       "      <th>246</th>\n",
       "      <td>https://techcrunch.com/2016/05/17/snips-is-a-p...</td>\n",
       "      <td>https://tctechcrunch2011.files.wordpress.com/2...</td>\n",
       "      <td>Romain Dillet</td>\n",
       "      <td>Snips is a personal assistant that combines al...</td>\n",
       "      <td>French startup Snips is launching its first pr...</td>\n",
       "      <td>1</td>\n",
       "      <td>1</td>\n",
       "      <td>0</td>\n",
       "      <td>0</td>\n",
       "      <td>0</td>\n",
       "      <td>1</td>\n",
       "      <td>0</td>\n",
       "    </tr>\n",
       "    <tr>\n",
       "      <th>266</th>\n",
       "      <td>https://techcrunch.com/2015/10/27/apple-finall...</td>\n",
       "      <td>https://tctechcrunch2011.files.wordpress.com/2...</td>\n",
       "      <td>Ingrid Lunden</td>\n",
       "      <td>Apple Rolls Out Carrier Billing For iTunes, St...</td>\n",
       "      <td>At long last, Apple is adding a way for people...</td>\n",
       "      <td>0</td>\n",
       "      <td>1</td>\n",
       "      <td>1</td>\n",
       "      <td>0</td>\n",
       "      <td>0</td>\n",
       "      <td>1</td>\n",
       "      <td>0</td>\n",
       "    </tr>\n",
       "    <tr>\n",
       "      <th>312</th>\n",
       "      <td>https://techcrunch.com/2014/10/16/bbc-whatsapp...</td>\n",
       "      <td>https://tctechcrunch2011.files.wordpress.com/2...</td>\n",
       "      <td>Ingrid Lunden</td>\n",
       "      <td>BBC Uses WhatsApp For An Ebola Health Alert Se...</td>\n",
       "      <td>While Snapchat may reportedly be talking to a ...</td>\n",
       "      <td>0</td>\n",
       "      <td>1</td>\n",
       "      <td>1</td>\n",
       "      <td>0</td>\n",
       "      <td>0</td>\n",
       "      <td>1</td>\n",
       "      <td>0</td>\n",
       "    </tr>\n",
       "    <tr>\n",
       "      <th>506</th>\n",
       "      <td>https://techcrunch.com/2014/11/10/thingsee-one...</td>\n",
       "      <td>https://tctechcrunch2011.files.wordpress.com/2...</td>\n",
       "      <td>Natasha Lomas</td>\n",
       "      <td>Ex-Nokians Crowdfund A Device To Democratize T...</td>\n",
       "      <td>Nokia’s exit from the mobile making market ear...</td>\n",
       "      <td>0</td>\n",
       "      <td>0</td>\n",
       "      <td>1</td>\n",
       "      <td>0</td>\n",
       "      <td>1</td>\n",
       "      <td>1</td>\n",
       "      <td>0</td>\n",
       "    </tr>\n",
       "    <tr>\n",
       "      <th>742</th>\n",
       "      <td>https://techcrunch.com/2012/11/01/recce-3d-int...</td>\n",
       "      <td>https://tctechcrunch2011.files.wordpress.com/2...</td>\n",
       "      <td>Natasha Lomas</td>\n",
       "      <td>Recce 3D Interactive Mapping Tech Gets Its Gam...</td>\n",
       "      <td>We wrote about Recce back in July: a rich, int...</td>\n",
       "      <td>1</td>\n",
       "      <td>1</td>\n",
       "      <td>1</td>\n",
       "      <td>0</td>\n",
       "      <td>0</td>\n",
       "      <td>1</td>\n",
       "      <td>0</td>\n",
       "    </tr>\n",
       "    <tr>\n",
       "      <th>805</th>\n",
       "      <td>https://techcrunch.com/2016/08/25/thingthing-i...</td>\n",
       "      <td>https://tctechcrunch2011.files.wordpress.com/2...</td>\n",
       "      <td>Natasha Lomas</td>\n",
       "      <td>ThingThing iOS keyboard app adds meeting invit...</td>\n",
       "      <td>Productivity focused third party iOS keyboard ...</td>\n",
       "      <td>1</td>\n",
       "      <td>0</td>\n",
       "      <td>1</td>\n",
       "      <td>0</td>\n",
       "      <td>0</td>\n",
       "      <td>1</td>\n",
       "      <td>0</td>\n",
       "    </tr>\n",
       "    <tr>\n",
       "      <th>943</th>\n",
       "      <td>https://techcrunch.com/2014/11/06/automattic-b...</td>\n",
       "      <td>https://tctechcrunch2011.files.wordpress.com/2...</td>\n",
       "      <td>Ingrid Lunden</td>\n",
       "      <td>Automattic Buys UK’s Code For The People To Bu...</td>\n",
       "      <td>Automattic, the company behind the popular Wor...</td>\n",
       "      <td>1</td>\n",
       "      <td>0</td>\n",
       "      <td>1</td>\n",
       "      <td>1</td>\n",
       "      <td>0</td>\n",
       "      <td>1</td>\n",
       "      <td>0</td>\n",
       "    </tr>\n",
       "    <tr>\n",
       "      <th>1038</th>\n",
       "      <td>https://techcrunch.com/2013/07/11/path-on-wind...</td>\n",
       "      <td>https://tctechcrunch2011.files.wordpress.com/2...</td>\n",
       "      <td>Natasha Lomas</td>\n",
       "      <td>Nokia And Path Partner To Bring The Private So...</td>\n",
       "      <td>Path is preparing to cross to the Windows Phon...</td>\n",
       "      <td>0</td>\n",
       "      <td>1</td>\n",
       "      <td>1</td>\n",
       "      <td>1</td>\n",
       "      <td>0</td>\n",
       "      <td>0</td>\n",
       "      <td>0</td>\n",
       "    </tr>\n",
       "    <tr>\n",
       "      <th>1104</th>\n",
       "      <td>https://techcrunch.com/2012/01/10/peel-launche...</td>\n",
       "      <td>https://tctechcrunch2011.files.wordpress.com/2...</td>\n",
       "      <td>Sarah Perez</td>\n",
       "      <td>Peel Launches New Social TV App For iOS</td>\n",
       "      <td>You may remember Peel as the maker of the pear...</td>\n",
       "      <td>1</td>\n",
       "      <td>1</td>\n",
       "      <td>1</td>\n",
       "      <td>1</td>\n",
       "      <td>0</td>\n",
       "      <td>0</td>\n",
       "      <td>0</td>\n",
       "    </tr>\n",
       "    <tr>\n",
       "      <th>1109</th>\n",
       "      <td>https://techcrunch.com/2013/04/19/doo-android-...</td>\n",
       "      <td>https://tctechcrunch2011.files.wordpress.com/2...</td>\n",
       "      <td>Natasha Lomas</td>\n",
       "      <td>Doo Extends Reach Of Its Document Management C...</td>\n",
       "      <td>German consumer document management startup do...</td>\n",
       "      <td>0</td>\n",
       "      <td>1</td>\n",
       "      <td>1</td>\n",
       "      <td>0</td>\n",
       "      <td>0</td>\n",
       "      <td>1</td>\n",
       "      <td>0</td>\n",
       "    </tr>\n",
       "    <tr>\n",
       "      <th>1255</th>\n",
       "      <td>https://techcrunch.com/2014/07/31/closely/</td>\n",
       "      <td>https://tctechcrunch2011.files.wordpress.com/2...</td>\n",
       "      <td>Natasha Lomas</td>\n",
       "      <td>Closely Is Another Way To Keep Tabs On Where Y...</td>\n",
       "      <td>A German startup that’s built a mobile locatio...</td>\n",
       "      <td>0</td>\n",
       "      <td>1</td>\n",
       "      <td>1</td>\n",
       "      <td>1</td>\n",
       "      <td>0</td>\n",
       "      <td>1</td>\n",
       "      <td>0</td>\n",
       "    </tr>\n",
       "    <tr>\n",
       "      <th>1284</th>\n",
       "      <td>https://techcrunch.com/2013/07/17/eyeem-europe...</td>\n",
       "      <td>https://tctechcrunch2011.files.wordpress.com/2...</td>\n",
       "      <td>Ingrid Lunden</td>\n",
       "      <td>EyeEm, ‘Europe’s Instagram,’ Picks Up $6M To B...</td>\n",
       "      <td>EyeEm, the free Berlin-based iOS, Android and ...</td>\n",
       "      <td>0</td>\n",
       "      <td>1</td>\n",
       "      <td>1</td>\n",
       "      <td>0</td>\n",
       "      <td>0</td>\n",
       "      <td>1</td>\n",
       "      <td>0</td>\n",
       "    </tr>\n",
       "    <tr>\n",
       "      <th>1428</th>\n",
       "      <td>https://techcrunch.com/2012/09/06/amazon-annou...</td>\n",
       "      <td>https://tctechcrunch2011.files.wordpress.com/2...</td>\n",
       "      <td>Ingrid Lunden</td>\n",
       "      <td>Amazon Announces First Kindle Fire Tablets Out...</td>\n",
       "      <td>Along with Amazon’s big tablet announcements e...</td>\n",
       "      <td>0</td>\n",
       "      <td>1</td>\n",
       "      <td>1</td>\n",
       "      <td>0</td>\n",
       "      <td>1</td>\n",
       "      <td>1</td>\n",
       "      <td>0</td>\n",
       "    </tr>\n",
       "    <tr>\n",
       "      <th>1478</th>\n",
       "      <td>https://techcrunch.com/2013/03/18/nonstop-games/</td>\n",
       "      <td>https://tctechcrunch2011.files.wordpress.com/2...</td>\n",
       "      <td>Kim-Mai Cutler</td>\n",
       "      <td>Singaporean-Finnish Startup Nonstop Games Rais...</td>\n",
       "      <td>Nonstop Games, a Singaporean-Finnish gaming co...</td>\n",
       "      <td>1</td>\n",
       "      <td>1</td>\n",
       "      <td>1</td>\n",
       "      <td>1</td>\n",
       "      <td>0</td>\n",
       "      <td>0</td>\n",
       "      <td>0</td>\n",
       "    </tr>\n",
       "    <tr>\n",
       "      <th>1532</th>\n",
       "      <td>https://techcrunch.com/2013/05/22/numbrs/</td>\n",
       "      <td>https://tctechcrunch2011.files.wordpress.com/2...</td>\n",
       "      <td>Steve O'Hear</td>\n",
       "      <td>Aiming To Be The Mobile Banking App To Rule Th...</td>\n",
       "      <td>Chalk this up as one to watch closely in the w...</td>\n",
       "      <td>1</td>\n",
       "      <td>1</td>\n",
       "      <td>0</td>\n",
       "      <td>0</td>\n",
       "      <td>0</td>\n",
       "      <td>1</td>\n",
       "      <td>0</td>\n",
       "    </tr>\n",
       "    <tr>\n",
       "      <th>1571</th>\n",
       "      <td>https://techcrunch.com/2014/04/28/secret-taps-...</td>\n",
       "      <td>https://tctechcrunch2011.files.wordpress.com/2...</td>\n",
       "      <td>Ingrid Lunden</td>\n",
       "      <td>‘Anonymish’ App Secret Taps Into Android, Glob...</td>\n",
       "      <td>Secret — the iOS app that lets you share confe...</td>\n",
       "      <td>0</td>\n",
       "      <td>1</td>\n",
       "      <td>1</td>\n",
       "      <td>1</td>\n",
       "      <td>0</td>\n",
       "      <td>1</td>\n",
       "      <td>0</td>\n",
       "    </tr>\n",
       "  </tbody>\n",
       "</table>\n",
       "</div>"
      ],
      "text/plain": [
       "                                                    url       ...       enterprise_real\n",
       "22    https://techcrunch.com/2015/08/25/cyanogen-and...       ...                     0\n",
       "41    https://techcrunch.com/2012/11/28/everything-m...       ...                     0\n",
       "88    https://techcrunch.com/2013/10/17/coffee-house...       ...                     0\n",
       "226   https://techcrunch.com/2013/02/07/evernote-bus...       ...                     1\n",
       "246   https://techcrunch.com/2016/05/17/snips-is-a-p...       ...                     0\n",
       "266   https://techcrunch.com/2015/10/27/apple-finall...       ...                     0\n",
       "312   https://techcrunch.com/2014/10/16/bbc-whatsapp...       ...                     0\n",
       "506   https://techcrunch.com/2014/11/10/thingsee-one...       ...                     0\n",
       "742   https://techcrunch.com/2012/11/01/recce-3d-int...       ...                     0\n",
       "805   https://techcrunch.com/2016/08/25/thingthing-i...       ...                     0\n",
       "943   https://techcrunch.com/2014/11/06/automattic-b...       ...                     0\n",
       "1038  https://techcrunch.com/2013/07/11/path-on-wind...       ...                     0\n",
       "1104  https://techcrunch.com/2012/01/10/peel-launche...       ...                     0\n",
       "1109  https://techcrunch.com/2013/04/19/doo-android-...       ...                     0\n",
       "1255         https://techcrunch.com/2014/07/31/closely/       ...                     0\n",
       "1284  https://techcrunch.com/2013/07/17/eyeem-europe...       ...                     0\n",
       "1428  https://techcrunch.com/2012/09/06/amazon-annou...       ...                     0\n",
       "1478   https://techcrunch.com/2013/03/18/nonstop-games/       ...                     0\n",
       "1532          https://techcrunch.com/2013/05/22/numbrs/       ...                     0\n",
       "1571  https://techcrunch.com/2014/04/28/secret-taps-...       ...                     0\n",
       "\n",
       "[20 rows x 12 columns]"
      ]
     },
     "execution_count": 30,
     "metadata": {},
     "output_type": "execute_result"
    }
   ],
   "source": [
    "final['sum'] = y_predict.sum(axis = 1, skipna = True) \n",
    "final['sum_real'] = y_te.sum(axis = 1, skipna = True) \n",
    "final = final[final['sum'] > 2]\n",
    "final = final[final['sum_real'] > 2]\n",
    "final = final[(final.gadgets == 1) | (final.europe == 1) | (final.enterprise == 1)]\n",
    "# final = final[['url','img_src','authors','title','content']]\n",
    "# final.reset_index(drop=True, inplace=True)\n",
    "# y_te.reset_index(drop=True, inplace=True)\n",
    "# final = pd.concat([final, y_te],axis = 1)\n",
    "print(final.shape)\n",
    "blog_list = ['url','img_src','authors','title','content']\n",
    "final = final[blog_list + labels]\n",
    "final= final[['url','img_src','authors','title','content', 'startups_real', 'mobile_real', 'apps_real', 'social_real', 'gadgets_real', 'europe_real','enterprise_real']]\n",
    "final.to_csv('demo_final.csv', sep='\\t')\n",
    "final.head(20)"
   ]
  },
  {
   "cell_type": "code",
   "execution_count": 31,
   "metadata": {
    "_uuid": "68b9efa0a12c82126b5982af0b8e9f14d5053145"
   },
   "outputs": [],
   "source": [
    "# from sklearn.metrics import classification_report\n",
    "# print(classification_report(y_test, y_predict))"
   ]
  },
  {
   "cell_type": "code",
   "execution_count": 32,
   "metadata": {
    "_uuid": "989fab10e92b9b9eb8eebf9a0ea93c94304e27bb"
   },
   "outputs": [],
   "source": [
    "# from sklearn.metrics import accuracy_score\n",
    "# accuracy_score(y_test, y_predict)"
   ]
  },
  {
   "cell_type": "code",
   "execution_count": 33,
   "metadata": {},
   "outputs": [],
   "source": [
    "# #Hamming loss\n",
    "# from sklearn.metrics import hamming_loss\n",
    "# hamming_loss(y_test, y_predict)"
   ]
  },
  {
   "cell_type": "markdown",
   "metadata": {},
   "source": [
    "## Model1\n",
    "### f1 score\n",
    "### micro avg       0.77      0.70      0.73      5990\n",
    "### macro avg       0.78      0.68      0.73      5990\n",
    "### weigh avg       0.77      0.70      0.73      5990\n",
    "### sampl avg       0.79      0.74      0.73      5990\n",
    "### Accuracy score\n",
    "0.4511774842044802\n",
    "### Hamming loss\n",
    "0.1250923114794453"
   ]
  },
  {
   "cell_type": "markdown",
   "metadata": {},
   "source": [
    "## Model2 - Drop out\n",
    "### f1 score\n",
    "### micro avg       0.77      0.69      0.73      5990\n",
    "### macro avg       0.78      0.68      0.72      5990\n",
    "### weighted avg    0.77      0.69      0.73      5990\n",
    "### samples avg     0.80      0.75      0.74      5990\n",
    "### Accuracy score\n",
    "0.44399770246984493\n",
    "### Hamming loss\n",
    "0.1253384754246328"
   ]
  },
  {
   "cell_type": "code",
   "execution_count": 34,
   "metadata": {
    "_uuid": "77f81ed635487277c7ed2827c6e9ac6b0f443845"
   },
   "outputs": [
    {
     "data": {
      "text/plain": [
       "Index(['startups', 'mobile', 'apps', 'social', 'gadgets', 'europe',\n",
       "       'enterprise'],\n",
       "      dtype='object')"
      ]
     },
     "execution_count": 34,
     "metadata": {},
     "output_type": "execute_result"
    }
   ],
   "source": [
    "list_classes"
   ]
  },
  {
   "cell_type": "code",
   "execution_count": 35,
   "metadata": {},
   "outputs": [],
   "source": []
  }
 ],
 "metadata": {
  "kernelspec": {
   "display_name": "Python 3",
   "language": "python",
   "name": "python3"
  },
  "language_info": {
   "codemirror_mode": {
    "name": "ipython",
    "version": 3
   },
   "file_extension": ".py",
   "mimetype": "text/x-python",
   "name": "python",
   "nbconvert_exporter": "python",
   "pygments_lexer": "ipython3",
   "version": "3.6.6"
  }
 },
 "nbformat": 4,
 "nbformat_minor": 1
}
