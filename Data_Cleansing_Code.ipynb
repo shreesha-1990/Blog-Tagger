{
 "cells": [
  {
   "cell_type": "markdown",
   "metadata": {},
   "source": [
    "## Data Pre-processing:"
   ]
  },
  {
   "cell_type": "code",
   "execution_count": 380,
   "metadata": {},
   "outputs": [
    {
     "name": "stderr",
     "output_type": "stream",
     "text": [
      "[nltk_data] Downloading package wordnet to\n",
      "[nltk_data]     C:\\Users\\Ankush\\AppData\\Roaming\\nltk_data...\n",
      "[nltk_data]   Package wordnet is already up-to-date!\n",
      "[nltk_data] Downloading package punkt to\n",
      "[nltk_data]     C:\\Users\\Ankush\\AppData\\Roaming\\nltk_data...\n",
      "[nltk_data]   Package punkt is already up-to-date!\n"
     ]
    }
   ],
   "source": [
    "#Importing libraries:\n",
    "import numpy as np\n",
    "import pandas as pd\n",
    "import seaborn as sns\n",
    "import nltk\n",
    "nltk.download('wordnet')\n",
    "nltk.download('punkt')\n",
    "from nltk.corpus import stopwords\n",
    "import re\n",
    "from bs4 import BeautifulSoup\n",
    "from nltk.tokenize import WhitespaceTokenizer\n",
    "from nltk.stem import WordNetLemmatizer"
   ]
  },
  {
   "cell_type": "code",
   "execution_count": 381,
   "metadata": {},
   "outputs": [
    {
     "data": {
      "text/html": [
       "<div>\n",
       "<style scoped>\n",
       "    .dataframe tbody tr th:only-of-type {\n",
       "        vertical-align: middle;\n",
       "    }\n",
       "\n",
       "    .dataframe tbody tr th {\n",
       "        vertical-align: top;\n",
       "    }\n",
       "\n",
       "    .dataframe thead th {\n",
       "        text-align: right;\n",
       "    }\n",
       "</style>\n",
       "<table border=\"1\" class=\"dataframe\">\n",
       "  <thead>\n",
       "    <tr style=\"text-align: right;\">\n",
       "      <th></th>\n",
       "      <th>authors</th>\n",
       "      <th>category</th>\n",
       "      <th>content</th>\n",
       "      <th>date</th>\n",
       "      <th>id</th>\n",
       "      <th>img_src</th>\n",
       "      <th>section</th>\n",
       "      <th>tags</th>\n",
       "      <th>title</th>\n",
       "      <th>topics</th>\n",
       "      <th>url</th>\n",
       "    </tr>\n",
       "  </thead>\n",
       "  <tbody>\n",
       "    <tr>\n",
       "      <th>0</th>\n",
       "      <td>Dale Chang</td>\n",
       "      <td>Startups</td>\n",
       "      <td>\\n\\nTech investing isn’t what it used to be — ...</td>\n",
       "      <td>2016-10-15</td>\n",
       "      <td>1401293</td>\n",
       "      <td>https://tctechcrunch2011.files.wordpress.com/2...</td>\n",
       "      <td>startups/</td>\n",
       "      <td>data</td>\n",
       "      <td>How startups can use data to grow smarter</td>\n",
       "      <td>NaN</td>\n",
       "      <td>https://techcrunch.com/2016/10/15/how-startups...</td>\n",
       "    </tr>\n",
       "    <tr>\n",
       "      <th>1</th>\n",
       "      <td>Ben Narasin,Jeremy Abelson</td>\n",
       "      <td>Fundings &amp; Exits</td>\n",
       "      <td>\\n\\nThe IPO market is poised to make an almost...</td>\n",
       "      <td>2016-10-14</td>\n",
       "      <td>1399050</td>\n",
       "      <td>https://tctechcrunch2011.files.wordpress.com/2...</td>\n",
       "      <td>startups/</td>\n",
       "      <td>ipo</td>\n",
       "      <td>While the IPO market roars back, venture remai...</td>\n",
       "      <td>NaN</td>\n",
       "      <td>https://techcrunch.com/2016/10/14/while-the-ip...</td>\n",
       "    </tr>\n",
       "    <tr>\n",
       "      <th>2</th>\n",
       "      <td>Matthew Lynley</td>\n",
       "      <td>Apps</td>\n",
       "      <td>Under pressure from shoppers complaining about...</td>\n",
       "      <td>2016-10-14</td>\n",
       "      <td>1401954</td>\n",
       "      <td>https://tctechcrunch2011.files.wordpress.com/2...</td>\n",
       "      <td>startups/</td>\n",
       "      <td>apoorva-mehta</td>\n",
       "      <td>Instacart reverses course, re-introducing tips...</td>\n",
       "      <td>instacart</td>\n",
       "      <td>https://techcrunch.com/2016/10/14/instacart-re...</td>\n",
       "    </tr>\n",
       "    <tr>\n",
       "      <th>3</th>\n",
       "      <td>Matthew Lynley,Ingrid Lunden</td>\n",
       "      <td>Fundings &amp; Exits</td>\n",
       "      <td>PayPal, the giant digital payments company tha...</td>\n",
       "      <td>2016-10-14</td>\n",
       "      <td>1390023</td>\n",
       "      <td>https://tctechcrunch2011.files.wordpress.com/2...</td>\n",
       "      <td>startups/</td>\n",
       "      <td>gofundme</td>\n",
       "      <td>PayPal mulled buying GoFundMe</td>\n",
       "      <td>paypal</td>\n",
       "      <td>https://techcrunch.com/2016/10/14/paypal-gobuyme/</td>\n",
       "    </tr>\n",
       "    <tr>\n",
       "      <th>4</th>\n",
       "      <td>Megan Rose Dickey</td>\n",
       "      <td>Startups</td>\n",
       "      <td>Uber, the ridesharing behemoth that recently b...</td>\n",
       "      <td>2016-10-13</td>\n",
       "      <td>1401633</td>\n",
       "      <td>https://tctechcrunch2011.files.wordpress.com/2...</td>\n",
       "      <td>startups/</td>\n",
       "      <td>lawsuits</td>\n",
       "      <td>Uber hits another roadblock</td>\n",
       "      <td>uber</td>\n",
       "      <td>https://techcrunch.com/2016/10/13/uber-hits-an...</td>\n",
       "    </tr>\n",
       "  </tbody>\n",
       "</table>\n",
       "</div>"
      ],
      "text/plain": [
       "                        authors          category  \\\n",
       "0                    Dale Chang          Startups   \n",
       "1    Ben Narasin,Jeremy Abelson  Fundings & Exits   \n",
       "2                Matthew Lynley              Apps   \n",
       "3  Matthew Lynley,Ingrid Lunden  Fundings & Exits   \n",
       "4             Megan Rose Dickey          Startups   \n",
       "\n",
       "                                             content        date       id  \\\n",
       "0  \\n\\nTech investing isn’t what it used to be — ...  2016-10-15  1401293   \n",
       "1  \\n\\nThe IPO market is poised to make an almost...  2016-10-14  1399050   \n",
       "2  Under pressure from shoppers complaining about...  2016-10-14  1401954   \n",
       "3  PayPal, the giant digital payments company tha...  2016-10-14  1390023   \n",
       "4  Uber, the ridesharing behemoth that recently b...  2016-10-13  1401633   \n",
       "\n",
       "                                             img_src    section  \\\n",
       "0  https://tctechcrunch2011.files.wordpress.com/2...  startups/   \n",
       "1  https://tctechcrunch2011.files.wordpress.com/2...  startups/   \n",
       "2  https://tctechcrunch2011.files.wordpress.com/2...  startups/   \n",
       "3  https://tctechcrunch2011.files.wordpress.com/2...  startups/   \n",
       "4  https://tctechcrunch2011.files.wordpress.com/2...  startups/   \n",
       "\n",
       "            tags                                              title  \\\n",
       "0           data          How startups can use data to grow smarter   \n",
       "1            ipo  While the IPO market roars back, venture remai...   \n",
       "2  apoorva-mehta  Instacart reverses course, re-introducing tips...   \n",
       "3       gofundme                      PayPal mulled buying GoFundMe   \n",
       "4       lawsuits                        Uber hits another roadblock   \n",
       "\n",
       "      topics                                                url  \n",
       "0        NaN  https://techcrunch.com/2016/10/15/how-startups...  \n",
       "1        NaN  https://techcrunch.com/2016/10/14/while-the-ip...  \n",
       "2  instacart  https://techcrunch.com/2016/10/14/instacart-re...  \n",
       "3     paypal  https://techcrunch.com/2016/10/14/paypal-gobuyme/  \n",
       "4       uber  https://techcrunch.com/2016/10/13/uber-hits-an...  "
      ]
     },
     "execution_count": 381,
     "metadata": {},
     "output_type": "execute_result"
    }
   ],
   "source": [
    "df = pd.read_csv(\"techcrunch_posts.csv\")\n",
    "df.head(5)"
   ]
  },
  {
   "cell_type": "code",
   "execution_count": 382,
   "metadata": {},
   "outputs": [
    {
     "name": "stderr",
     "output_type": "stream",
     "text": [
      "C:\\Users\\Ankush\\Anaconda3\\lib\\site-packages\\ipykernel_launcher.py:3: SettingWithCopyWarning: \n",
      "A value is trying to be set on a copy of a slice from a DataFrame\n",
      "\n",
      "See the caveats in the documentation: http://pandas.pydata.org/pandas-docs/stable/indexing.html#indexing-view-versus-copy\n",
      "  This is separate from the ipykernel package so we can avoid doing imports until\n"
     ]
    }
   ],
   "source": [
    "#df.drop(['id','date','img_src','section','topics','url'],axis=1,inplace=True)\n",
    "df_main = df[['content','title','tags']]\n",
    "df_main.dropna(inplace=True)"
   ]
  },
  {
   "cell_type": "code",
   "execution_count": 383,
   "metadata": {},
   "outputs": [
    {
     "name": "stderr",
     "output_type": "stream",
     "text": [
      "C:\\Users\\Ankush\\Anaconda3\\lib\\site-packages\\ipykernel_launcher.py:1: SettingWithCopyWarning: \n",
      "A value is trying to be set on a copy of a slice from a DataFrame.\n",
      "Try using .loc[row_indexer,col_indexer] = value instead\n",
      "\n",
      "See the caveats in the documentation: http://pandas.pydata.org/pandas-docs/stable/indexing.html#indexing-view-versus-copy\n",
      "  \"\"\"Entry point for launching an IPython kernel.\n",
      "C:\\Users\\Ankush\\Anaconda3\\lib\\site-packages\\ipykernel_launcher.py:2: SettingWithCopyWarning: \n",
      "A value is trying to be set on a copy of a slice from a DataFrame.\n",
      "Try using .loc[row_indexer,col_indexer] = value instead\n",
      "\n",
      "See the caveats in the documentation: http://pandas.pydata.org/pandas-docs/stable/indexing.html#indexing-view-versus-copy\n",
      "  \n",
      "C:\\Users\\Ankush\\Anaconda3\\lib\\site-packages\\ipykernel_launcher.py:3: SettingWithCopyWarning: \n",
      "A value is trying to be set on a copy of a slice from a DataFrame.\n",
      "Try using .loc[row_indexer,col_indexer] = value instead\n",
      "\n",
      "See the caveats in the documentation: http://pandas.pydata.org/pandas-docs/stable/indexing.html#indexing-view-versus-copy\n",
      "  This is separate from the ipykernel package so we can avoid doing imports until\n"
     ]
    }
   ],
   "source": [
    "df_main['content'] = df_main['content'].str.lstrip()\n",
    "df_main['title'] = df_main['title'].str.lstrip()\n",
    "df_main['tags'] = df_main['tags'].str.lstrip()"
   ]
  },
  {
   "cell_type": "code",
   "execution_count": 384,
   "metadata": {},
   "outputs": [
    {
     "name": "stdout",
     "output_type": "stream",
     "text": [
      "Title: How startups can use data to grow smarter\n",
      "Content: Tech investing isn’t what it used to be — even compared to six months ago.\n",
      "Investors are applying greater scrutiny to deals. Many wonder if the days of the mega round that produced the likes of Snapchat, Uber and Magic Leap are fading quickly. Founders are realizing they can’t favor growth over profitability, or vice-versa — both are crucial to success. There’s a reason VCs are calling for “a return to fundamentals” — they don’t want to see newly minted unicorns shrivel into unicorpses.\n",
      "Companies need to spend their capital carefully, with an eye on steady, sustainable growth. As the pendulum continues to swing more toward smart growth, startups are naturally forced to rethink their approach to operations. Based on my experience advising portfolio companies and consulting, I believe that data-driven operations is the new table stakes for survival today. Here are a few fundamentals of data-driven ops I’d share with any company straddling that line between high-growth and sustainability.\n",
      "One of the most important decisions is choosing a set of benchmarks and metrics that will actually help you measure progress toward specific goals — whether it’s profitability or growth. Don’t reinvent the wheel — look at how other companies measured up at similar stages. If you’re an enterprise SaaS company, for example, compare yourself to other SaaS startups rather than any type of company. Another best practice is to look at the data in aggregate — don’t rely on one company’s experience. I advise portfolio companies to use cumulative data (not just anecdotal evidence), whenever possible, to inform operational decisions.\n",
      "Many VCs keep detailed data on key metrics, like employee compensation, sales & marketing spend, rent and other big expenditures. For example, Scale developed the SaaS Index, which tracks the performance of 58 companies, to benchmark the metrics key to the success of subscription-based software businesses. AngelList, PitchBook, Mattermark and CB Insights are examples of other resources that index startup metrics.\n",
      "Sales efficiency is a key indicator of sustainable growth. You need to know the levers that drive sales efficiency — whether it’s lead costs, conversion rates or sales productivity — in order to thrive and make smart decisions. Think about sales efficiency as an ecosystem that you must constantly nurture. While it’s difficult to boost your sales efficiency with any single decision or policy, it’s easy to see it slip if you’re not keeping your eye on the ball.\n",
      "In gauging sales efficiency, I recommend our portfolio companies use our Magic Number, which measures the efficiency of your go-to-market model. The Magic Number is a relatively straightforward calculation: (Revenue change x 4)/Last Quarter’s Sales and Marketing Spend. A high magic number (x>0.7) might mean it’s time to step on the growth pedal, while a low magic number (x<0.7) could indicate trouble down the road. Regardless of which situation you find yourself in, it’s important to understand your company’s financial health.\n",
      "While sales efficiency is important, there are plenty of other meaningful benchmarks and KPIs that are important for businesses to monitor. You might study customer churn, sales rep productivity or net promoter score (NPS) to gauge how your company is tracking toward its goals. It’s important that everyone on your team or company is aligned on the definitions for the KPIs you choose. Once you’ve done this, you can make sure you’re improving on those KPIs against your historical performance, as well as the benchmark universe you’ve decided on.\n",
      "Whether you think we’re headed for a downturn or not, there will always be ups and downs in the market. Right now, there is more of an emphasis on sustainability, given current uncertainty over the economy, criticism over companies that are running out of money and an uncertain IPO market.\n",
      "No matter the economic climate, you should think about incorporating data-driven benchmarking into your approach to scaling your business. Keeping a close eye on how you’re tracking against your metrics enables you to have a clear understanding of your performance, and provides you with early indicators that you are doing well or that you need to course-correct.\n",
      "Tag: data\n"
     ]
    }
   ],
   "source": [
    "def checking_Data(index):\n",
    "    row = df_main[df_main.index == index][['title', 'content', 'tags']].values[0]\n",
    "    if len(row) > 0:\n",
    "        print('Title:',row[0])\n",
    "        print('Content:',row[1])\n",
    "        print('Tag:', row[2])\n",
    "checking_Data(0)"
   ]
  },
  {
   "cell_type": "code",
   "execution_count": 385,
   "metadata": {},
   "outputs": [
    {
     "name": "stderr",
     "output_type": "stream",
     "text": [
      "C:\\Users\\Ankush\\Anaconda3\\lib\\site-packages\\ipykernel_launcher.py:14: SettingWithCopyWarning: \n",
      "A value is trying to be set on a copy of a slice from a DataFrame.\n",
      "Try using .loc[row_indexer,col_indexer] = value instead\n",
      "\n",
      "See the caveats in the documentation: http://pandas.pydata.org/pandas-docs/stable/indexing.html#indexing-view-versus-copy\n",
      "  \n"
     ]
    },
    {
     "name": "stdout",
     "output_type": "stream",
     "text": [
      "Title: startups use data grow smarter\n",
      "Content: tech investing isnt used even compared six months agoinvestors applying greater scrutiny deals many wonder days mega round produced likes snapchat uber magic leap fading quickly founders realizing cant favor growth profitability viceversa crucial success theres reason vcs calling return fundamentals dont want see newly minted unicorns shrivel unicorpsescompanies need spend capital carefully eye steady sustainable growth pendulum continues swing toward smart growth startups naturally forced rethink approach operations based experience advising portfolio companies consulting believe datadriven operations new table stakes survival today fundamentals datadriven ops id share company straddling line highgrowth sustainabilityone important decisions choosing set benchmarks metrics actually help measure progress toward specific goals whether profitability growth dont reinvent wheel look companies measured similar stages youre enterprise saas company example compare saas startups rather type company another best practice look data aggregate dont rely one companys experience advise portfolio companies use cumulative data anecdotal evidence whenever possible inform operational decisionsmany vcs keep detailed data key metrics like employee compensation sales marketing spend rent big expenditures example scale developed saas index tracks performance 58 companies benchmark metrics key success subscriptionbased software businesses angellist pitchbook mattermarkand cb insights examples resources index startup metricssales efficiency key indicator sustainable growth need know levers drive sales efficiency whether lead costs conversion rates sales productivity order thrive make smart decisions think sales efficiency ecosystem must constantly nurture difficult boost sales efficiency single decision policy easy see slip youre keeping eye ballin gauging sales efficiency recommend portfolio companies use magic number measures efficiency gotomarket model magic number relatively straightforward calculation revenue change x 4 last quarters sales marketing spend high magic number x07 might mean time step growth pedal low magic number x07 could indicate trouble road regardless situation find important understand companys financial healthwhile sales efficiency important plenty meaningful benchmarks kpis important businesses monitor might study customer churn sales rep productivity net promoter score nps gauge company tracking toward goals important everyone team company aligned definitions kpis choose youve done make sure youre improving kpis historical performance well benchmark universe youve decided onwhether think headed downturn always ups downs market right emphasis sustainability given current uncertainty economy criticism companies running money uncertain ipo marketno matter economic climate think incorporating datadriven benchmarking approach scaling business keeping close eye youre tracking metrics enables clear understanding performance provides early indicators well need coursecorrect\n",
      "Tag: data\n"
     ]
    },
    {
     "name": "stderr",
     "output_type": "stream",
     "text": [
      "C:\\Users\\Ankush\\Anaconda3\\lib\\site-packages\\ipykernel_launcher.py:15: SettingWithCopyWarning: \n",
      "A value is trying to be set on a copy of a slice from a DataFrame.\n",
      "Try using .loc[row_indexer,col_indexer] = value instead\n",
      "\n",
      "See the caveats in the documentation: http://pandas.pydata.org/pandas-docs/stable/indexing.html#indexing-view-versus-copy\n",
      "  from ipykernel import kernelapp as app\n"
     ]
    }
   ],
   "source": [
    "#Cleansing Content and Tags:\n",
    "replace_blank_regex = re.compile('[/(){}\\[\\]\\|@,;]')\n",
    "symbols_removel_regex = re.compile('[^0-9a-z #+_]')\n",
    "stopword_det = set(stopwords.words('english'))\n",
    "\n",
    "def clean_text(text):\n",
    "    text = BeautifulSoup(text, \"lxml\").text # HTML decoding\n",
    "    text = text.lower() # lowercase text\n",
    "    text = replace_blank_regex.sub(' ', text) # replace replace_blank_regex symbols by space in text\n",
    "    text = symbols_removel_regex.sub('', text) # delete symbols which are in symbols_removel_regex from text\n",
    "    text = ' '.join(word for word in text.split() if word not in stopword_det) # delete stopwors from text\n",
    "    return text\n",
    "    \n",
    "df_main['content'] = df_main['content'].apply(clean_text)\n",
    "df_main['title'] = df_main['title'].apply(clean_text)\n",
    "checking_Data(0)"
   ]
  },
  {
   "cell_type": "code",
   "execution_count": 352,
   "metadata": {},
   "outputs": [
    {
     "name": "stderr",
     "output_type": "stream",
     "text": [
      "C:\\Users\\Ankush\\Anaconda3\\lib\\site-packages\\ipykernel_launcher.py:12: SettingWithCopyWarning: \n",
      "A value is trying to be set on a copy of a slice from a DataFrame.\n",
      "Try using .loc[row_indexer,col_indexer] = value instead\n",
      "\n",
      "See the caveats in the documentation: http://pandas.pydata.org/pandas-docs/stable/indexing.html#indexing-view-versus-copy\n",
      "  if sys.path[0] == '':\n",
      "C:\\Users\\Ankush\\Anaconda3\\lib\\site-packages\\ipykernel_launcher.py:13: SettingWithCopyWarning: \n",
      "A value is trying to be set on a copy of a slice from a DataFrame.\n",
      "Try using .loc[row_indexer,col_indexer] = value instead\n",
      "\n",
      "See the caveats in the documentation: http://pandas.pydata.org/pandas-docs/stable/indexing.html#indexing-view-versus-copy\n",
      "  del sys.path[0]\n"
     ]
    }
   ],
   "source": [
    "#Lemmatizing Content and Title:\n",
    "w_tokenizer = nltk.tokenize.WhitespaceTokenizer()\n",
    "lemmatizer = nltk.stem.WordNetLemmatizer()\n",
    "\n",
    "def lemmatize_text(text):\n",
    "    lem_sentence=[]\n",
    "    lem_sentence= [lemmatizer.lemmatize(w) for w in w_tokenizer.tokenize(text)]\n",
    "\n",
    "    return \" \".join(lem_sentence) \n",
    "\n",
    "df_main['content_lemmatized'] = df_main.content.apply(lemmatize_text)\n",
    "df_main['title_lemmatized'] = df_main.title.apply(lemmatize_text)"
   ]
  },
  {
   "cell_type": "code",
   "execution_count": 386,
   "metadata": {},
   "outputs": [
    {
     "data": {
      "text/html": [
       "<div>\n",
       "<style scoped>\n",
       "    .dataframe tbody tr th:only-of-type {\n",
       "        vertical-align: middle;\n",
       "    }\n",
       "\n",
       "    .dataframe tbody tr th {\n",
       "        vertical-align: top;\n",
       "    }\n",
       "\n",
       "    .dataframe thead th {\n",
       "        text-align: right;\n",
       "    }\n",
       "</style>\n",
       "<table border=\"1\" class=\"dataframe\">\n",
       "  <thead>\n",
       "    <tr style=\"text-align: right;\">\n",
       "      <th></th>\n",
       "      <th>content</th>\n",
       "      <th>title</th>\n",
       "      <th>tags</th>\n",
       "    </tr>\n",
       "  </thead>\n",
       "  <tbody>\n",
       "    <tr>\n",
       "      <th>0</th>\n",
       "      <td>tech investing isnt used even compared six mon...</td>\n",
       "      <td>startups use data grow smarter</td>\n",
       "      <td>data</td>\n",
       "    </tr>\n",
       "    <tr>\n",
       "      <th>1</th>\n",
       "      <td>ipo market poised make almost complete 180 tur...</td>\n",
       "      <td>ipo market roars back venture remains leery</td>\n",
       "      <td>ipo</td>\n",
       "    </tr>\n",
       "    <tr>\n",
       "      <th>2</th>\n",
       "      <td>pressure shoppers complaining losing ability r...</td>\n",
       "      <td>instacart reverses course reintroducing tips s...</td>\n",
       "      <td>apoorva-mehta</td>\n",
       "    </tr>\n",
       "    <tr>\n",
       "      <th>3</th>\n",
       "      <td>paypal giant digital payments company spun eba...</td>\n",
       "      <td>paypal mulled buying gofundme</td>\n",
       "      <td>gofundme</td>\n",
       "    </tr>\n",
       "    <tr>\n",
       "      <th>4</th>\n",
       "      <td>uber ridesharing behemoth recently began opera...</td>\n",
       "      <td>uber hits another roadblock</td>\n",
       "      <td>lawsuits</td>\n",
       "    </tr>\n",
       "  </tbody>\n",
       "</table>\n",
       "</div>"
      ],
      "text/plain": [
       "                                             content  \\\n",
       "0  tech investing isnt used even compared six mon...   \n",
       "1  ipo market poised make almost complete 180 tur...   \n",
       "2  pressure shoppers complaining losing ability r...   \n",
       "3  paypal giant digital payments company spun eba...   \n",
       "4  uber ridesharing behemoth recently began opera...   \n",
       "\n",
       "                                               title           tags  \n",
       "0                     startups use data grow smarter           data  \n",
       "1        ipo market roars back venture remains leery            ipo  \n",
       "2  instacart reverses course reintroducing tips s...  apoorva-mehta  \n",
       "3                      paypal mulled buying gofundme       gofundme  \n",
       "4                        uber hits another roadblock       lawsuits  "
      ]
     },
     "execution_count": 386,
     "metadata": {},
     "output_type": "execute_result"
    }
   ],
   "source": [
    "df_main.head()"
   ]
  }
 ],
 "metadata": {
  "kernelspec": {
   "display_name": "Python 3",
   "language": "python",
   "name": "python3"
  },
  "language_info": {
   "codemirror_mode": {
    "name": "ipython",
    "version": 3
   },
   "file_extension": ".py",
   "mimetype": "text/x-python",
   "name": "python",
   "nbconvert_exporter": "python",
   "pygments_lexer": "ipython3",
   "version": "3.7.1"
  }
 },
 "nbformat": 4,
 "nbformat_minor": 2
}
