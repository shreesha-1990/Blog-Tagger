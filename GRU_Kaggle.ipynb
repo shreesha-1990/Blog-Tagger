{
 "cells": [
  {
   "cell_type": "code",
   "execution_count": 1,
   "metadata": {
    "_cell_guid": "b1076dfc-b9ad-4769-8c92-a6c4dae69d19",
    "_uuid": "8f2839f25d086af736a60e9eeb907d3b93b6e0e5",
    "scrolled": true
   },
   "outputs": [
    {
     "data": {
      "text/html": [
       "<div>\n",
       "<style scoped>\n",
       "    .dataframe tbody tr th:only-of-type {\n",
       "        vertical-align: middle;\n",
       "    }\n",
       "\n",
       "    .dataframe tbody tr th {\n",
       "        vertical-align: top;\n",
       "    }\n",
       "\n",
       "    .dataframe thead th {\n",
       "        text-align: right;\n",
       "    }\n",
       "</style>\n",
       "<table border=\"1\" class=\"dataframe\">\n",
       "  <thead>\n",
       "    <tr style=\"text-align: right;\">\n",
       "      <th></th>\n",
       "      <th>authors</th>\n",
       "      <th>category</th>\n",
       "      <th>content</th>\n",
       "      <th>date</th>\n",
       "      <th>id</th>\n",
       "      <th>img_src</th>\n",
       "      <th>section</th>\n",
       "      <th>title</th>\n",
       "      <th>topics</th>\n",
       "      <th>url</th>\n",
       "      <th>startups</th>\n",
       "      <th>mobile</th>\n",
       "      <th>apps</th>\n",
       "      <th>social</th>\n",
       "      <th>gadgets</th>\n",
       "      <th>europe</th>\n",
       "      <th>enterprise</th>\n",
       "    </tr>\n",
       "  </thead>\n",
       "  <tbody>\n",
       "    <tr>\n",
       "      <th>0</th>\n",
       "      <td>Lora Kolodny</td>\n",
       "      <td>Government</td>\n",
       "      <td>Investigative reporter and co-founder of Democ...</td>\n",
       "      <td>2016-10-15</td>\n",
       "      <td>1402133</td>\n",
       "      <td>https://tctechcrunch2011.files.wordpress.com/2...</td>\n",
       "      <td>enterprise/</td>\n",
       "      <td>Multi-media journalists face jail time after r...</td>\n",
       "      <td>edward-snowden</td>\n",
       "      <td>https://techcrunch.com/2016/10/15/multi-media-...</td>\n",
       "      <td>0</td>\n",
       "      <td>0</td>\n",
       "      <td>0</td>\n",
       "      <td>1</td>\n",
       "      <td>0</td>\n",
       "      <td>0</td>\n",
       "      <td>0</td>\n",
       "    </tr>\n",
       "    <tr>\n",
       "      <th>1</th>\n",
       "      <td>Keith Teare</td>\n",
       "      <td>Social</td>\n",
       "      <td>\\n\\nThe problems associated with the widesprea...</td>\n",
       "      <td>2016-10-07</td>\n",
       "      <td>1398512</td>\n",
       "      <td>https://tctechcrunch2011.files.wordpress.com/2...</td>\n",
       "      <td>social/</td>\n",
       "      <td>The case for Twitter’s independence (unless Go...</td>\n",
       "      <td>twitter</td>\n",
       "      <td>https://techcrunch.com/2016/10/07/you-cannot-t...</td>\n",
       "      <td>0</td>\n",
       "      <td>0</td>\n",
       "      <td>0</td>\n",
       "      <td>1</td>\n",
       "      <td>0</td>\n",
       "      <td>0</td>\n",
       "      <td>0</td>\n",
       "    </tr>\n",
       "    <tr>\n",
       "      <th>2</th>\n",
       "      <td>Frederic Lardinois</td>\n",
       "      <td>Cloud</td>\n",
       "      <td>OpenStack, the massive open source project tha...</td>\n",
       "      <td>2016-10-06</td>\n",
       "      <td>1398065</td>\n",
       "      <td>https://tctechcrunch2011.files.wordpress.com/2...</td>\n",
       "      <td>enterprise/</td>\n",
       "      <td>OpenStack’s latest release focuses on scalabil...</td>\n",
       "      <td>NaN</td>\n",
       "      <td>https://techcrunch.com/2016/10/06/openstacks-l...</td>\n",
       "      <td>0</td>\n",
       "      <td>0</td>\n",
       "      <td>0</td>\n",
       "      <td>0</td>\n",
       "      <td>0</td>\n",
       "      <td>0</td>\n",
       "      <td>1</td>\n",
       "    </tr>\n",
       "    <tr>\n",
       "      <th>3</th>\n",
       "      <td>Haje Jan Kamps</td>\n",
       "      <td>Europe</td>\n",
       "      <td>It’s been just over a year since Adobe launche...</td>\n",
       "      <td>2016-10-05</td>\n",
       "      <td>1396326</td>\n",
       "      <td>https://tctechcrunch2011.files.wordpress.com/2...</td>\n",
       "      <td>europe/</td>\n",
       "      <td>Adobe teams up with EyeEm to expand its stock ...</td>\n",
       "      <td>NaN</td>\n",
       "      <td>https://techcrunch.com/2016/10/05/adobe-eyeem-...</td>\n",
       "      <td>1</td>\n",
       "      <td>1</td>\n",
       "      <td>0</td>\n",
       "      <td>0</td>\n",
       "      <td>0</td>\n",
       "      <td>1</td>\n",
       "      <td>0</td>\n",
       "    </tr>\n",
       "    <tr>\n",
       "      <th>4</th>\n",
       "      <td>Dr. Nancy Markley</td>\n",
       "      <td>Startups</td>\n",
       "      <td>\\n\\nMany startup companies begin with either a...</td>\n",
       "      <td>2016-10-04</td>\n",
       "      <td>1396165</td>\n",
       "      <td>https://tctechcrunch2011.files.wordpress.com/2...</td>\n",
       "      <td>startups/</td>\n",
       "      <td>Due diligence is a responsibility for investor...</td>\n",
       "      <td>NaN</td>\n",
       "      <td>https://techcrunch.com/2016/10/04/due-diligenc...</td>\n",
       "      <td>1</td>\n",
       "      <td>0</td>\n",
       "      <td>0</td>\n",
       "      <td>0</td>\n",
       "      <td>0</td>\n",
       "      <td>0</td>\n",
       "      <td>0</td>\n",
       "    </tr>\n",
       "  </tbody>\n",
       "</table>\n",
       "</div>"
      ],
      "text/plain": [
       "              authors    category    ...     europe enterprise\n",
       "0        Lora Kolodny  Government    ...          0          0\n",
       "1         Keith Teare      Social    ...          0          0\n",
       "2  Frederic Lardinois       Cloud    ...          0          1\n",
       "3      Haje Jan Kamps      Europe    ...          1          0\n",
       "4   Dr. Nancy Markley    Startups    ...          0          0\n",
       "\n",
       "[5 rows x 17 columns]"
      ]
     },
     "execution_count": 1,
     "metadata": {},
     "output_type": "execute_result"
    }
   ],
   "source": [
    "# This Python 3 environment comes with many helpful analytics libraries installed\n",
    "# It is defined by the kaggle/python docker image: https://github.com/kaggle/docker-python\n",
    "# For example, here's several helpful packages to load in \n",
    "\n",
    "#Importing libraries:\n",
    "import numpy as np\n",
    "import pandas as pd\n",
    "import seaborn as sns\n",
    "import nltk\n",
    "import nltk.data\n",
    "import re\n",
    "from bs4 import BeautifulSoup\n",
    "from nltk.tokenize import WhitespaceTokenizer\n",
    "from nltk.stem import WordNetLemmatizer\n",
    "from nltk.corpus import stopwords\n",
    "from nltk.corpus import wordnet\n",
    "\n",
    "# Input data files are available in the \"../input/\" directory.\n",
    "# For example, running this (by clicking run or pressing Shift+Enter) will list the files in the input directory\n",
    "\n",
    "import os\n",
    "df = pd.read_excel('../input/blog-data/final_data_17406.xlsx')\n",
    "df.head()\n"
   ]
  },
  {
   "cell_type": "code",
   "execution_count": 2,
   "metadata": {
    "_uuid": "da4716464b06b3a76877ba7cc3f0fc728409e1bc"
   },
   "outputs": [
    {
     "name": "stderr",
     "output_type": "stream",
     "text": [
      "/opt/conda/lib/python3.6/site-packages/ipykernel_launcher.py:5: SettingWithCopyWarning: \n",
      "A value is trying to be set on a copy of a slice from a DataFrame\n",
      "\n",
      "See the caveats in the documentation: http://pandas.pydata.org/pandas-docs/stable/indexing.html#indexing-view-versus-copy\n",
      "  \"\"\"\n"
     ]
    }
   ],
   "source": [
    "import warnings\n",
    "warnings.filterwarnings('ignore', category=FutureWarning)\n",
    "#df.drop(['id','date','img_src','section','topics','url'],axis=1,inplace=True)\n",
    "df_main = df[['content','title','startups','mobile','apps','social','gadgets','europe','enterprise']]\n",
    "df_main.dropna(inplace=True)\n"
   ]
  },
  {
   "cell_type": "code",
   "execution_count": 3,
   "metadata": {
    "_uuid": "e9520244e01e3478483a16f56833c355242db45b"
   },
   "outputs": [
    {
     "name": "stderr",
     "output_type": "stream",
     "text": [
      "/opt/conda/lib/python3.6/site-packages/ipykernel_launcher.py:1: SettingWithCopyWarning: \n",
      "A value is trying to be set on a copy of a slice from a DataFrame.\n",
      "Try using .loc[row_indexer,col_indexer] = value instead\n",
      "\n",
      "See the caveats in the documentation: http://pandas.pydata.org/pandas-docs/stable/indexing.html#indexing-view-versus-copy\n",
      "  \"\"\"Entry point for launching an IPython kernel.\n",
      "/opt/conda/lib/python3.6/site-packages/ipykernel_launcher.py:2: SettingWithCopyWarning: \n",
      "A value is trying to be set on a copy of a slice from a DataFrame.\n",
      "Try using .loc[row_indexer,col_indexer] = value instead\n",
      "\n",
      "See the caveats in the documentation: http://pandas.pydata.org/pandas-docs/stable/indexing.html#indexing-view-versus-copy\n",
      "  \n"
     ]
    }
   ],
   "source": [
    "df_main['content'] = df_main['content'].str.lstrip()\n",
    "df_main['title'] = df_main['title'].str.lstrip()"
   ]
  },
  {
   "cell_type": "code",
   "execution_count": 4,
   "metadata": {
    "_uuid": "2f8545154a82d36aa3d83319677532d924853a8d"
   },
   "outputs": [
    {
     "name": "stdout",
     "output_type": "stream",
     "text": [
      "Title: Multi-media journalists face jail time after reporting on North Dakota pipeline protest\n",
      "Content: Investigative reporter and co-founder of Democracy Now!, Amy Goodman, is now facing riot charges in the state of North Dakota after her report on a Native American-led pipeline protest there went viral on Facebook.\n",
      "Democracy Now! issued a statement about the new charges against Goodman late Saturday.\n",
      "The news organization, which spun out of WBAI-FM, creates programming which is syndicated via radio, podcasts, cable television, public access television, live streams and Web downloads.\n",
      "Goodman’s story, posted to Facebook on September 4th, has been viewed more than 14 million times on the social media platform, Democracy Now! said, and was picked up by mainstream media outlets and networks including CBS, NBC, NPR, CNN, MSNBC and The Huffington Post (a site owned by TechCrunch’s parent company Verizon).\n",
      "Additionally, documentary filmmaker Deia Schlosberg, is facing felony and conspiracy charges that could carry a 45-year sentence for filming at the protest, IndieWire reports.\n",
      "Edward Snowden noted Schlosberg’s predicament on Friday with a tweet that said, “This reporter is being prosecuted for covering the North Dakota oil protests. For reference, I face a mere 30 years.”\n",
      "Authorities released Schlosberg, who also runs a production studio called Pale Blue Dot Media, after originally detaining her but they confiscated her footage and refused to release it according to public tweets from Josh Fox, a fellow filmmaker.\n",
      "For those unfamiliar with the pipeline protests, the Standing Rock Sioux are seeking to halt the construction of a $3.8 billion pipeline saying its development will encroach on their tribal burial sites and taint their water supply at the Standing Rock Sioux Reservation.\n",
      "The demonstrations in North Dakota have been ongoing for months. Native American advocates and environmentalists have protested the pipeline’s development in other cities and states, as well.\n",
      "On October 10th, witnesses at a rally in Reno, Nevada captured footage of a pickup truck plowing into a group of activists protesting the pipeline’s development, and calling for Columbus Day to be changed to Indigenous Peoples’ Day in their state.\n",
      "Several posted their footage and thoughts about the apparent attack on Facebook as well. The Reno incident injured five and sent one to the hospital. The rally was organized by the American Indian Movement of Northern Nevada (AIMNN).\n",
      "It remains to be seen whether the charges against Goodman, Schlosberg and other journalists covering the Standing Rock protests against the Dakota Access pipeline will stick.\n",
      "But these cases highlight the increasing power, and risks, associated with online distribution for news stories covered by independents, and earlier missed by mainstream networks. Virality and independence, it seems, can attract prosecutorial ire.\n",
      " \n"
     ]
    }
   ],
   "source": [
    "def checking_Data(index):\n",
    "    row = df_main[df_main.index == index][['title', 'content']].values[0]\n",
    "    if len(row) > 0:\n",
    "        print('Title:',row[0])\n",
    "        print('Content:',row[1])        \n",
    "checking_Data(0)"
   ]
  },
  {
   "cell_type": "code",
   "execution_count": 5,
   "metadata": {
    "_uuid": "226bc2fb14dab9e37292223062db84b0f84d0c47"
   },
   "outputs": [
    {
     "name": "stderr",
     "output_type": "stream",
     "text": [
      "/opt/conda/lib/python3.6/site-packages/ipykernel_launcher.py:14: SettingWithCopyWarning: \n",
      "A value is trying to be set on a copy of a slice from a DataFrame.\n",
      "Try using .loc[row_indexer,col_indexer] = value instead\n",
      "\n",
      "See the caveats in the documentation: http://pandas.pydata.org/pandas-docs/stable/indexing.html#indexing-view-versus-copy\n",
      "  \n"
     ]
    },
    {
     "name": "stdout",
     "output_type": "stream",
     "text": [
      "Title: multi-media journalists face jail time after reporting on north dakota pipeline protest\n",
      "Content: investigative reporter and co-founder of democracy now  amy goodman  is nowfacing riot charges in the state of north dakota after her report on a native american-led pipeline protest there went viral on facebook.democracy now issued a statement about the new charges against goodman late saturday.the news organization  which spun out of wbai-fm  creates programming which is syndicated via radio  podcasts  cable television  public access television  live streams and web downloads.goodmans story  posted to facebook on september 4th  has been viewed more than 14 million times on the social media platform  democracy now said  and was picked up by mainstream media outlets and networks including cbs  nbc  npr  cnn  msnbc and the huffington post  a site owned by techcrunchs parent company verizon .additionally  documentary filmmaker deia schlosberg  is facing felony and conspiracy charges that could carry a 45-year sentence for filming at the protest  indiewire reports.edward snowden noted schlosbergs predicament on friday with a tweet that said  this reporter is being prosecuted for covering the north dakota oil protests. for reference  i face a mere 30 years.authorities released schlosberg  who also runs a production studio called pale blue dot media after originally detaining her but they confiscated her footage and refused to release it according to public tweets from josh fox  a fellow filmmaker.for those unfamiliar with the pipeline protests  the standing rock sioux are seeking to halt theconstruction of a $3.8 billion pipeline saying its development will encroach on their tribal burial sites and taint their water supply at the standing rock sioux reservation.the demonstrations in north dakota have been ongoing for months. native american advocates and environmentalists have protested the pipelines development in other cities and states  as well.on october 10th  witnesses at a rallyin reno  nevada captured footage of a pickup truck plowing into a group of activists protesting the pipelines development  and calling for columbus day to be changed to indigenous peoples day in their state.severalposted theirfootageand thoughts about the apparent attack on facebook as well.the reno incident injured five and sent one to the hospital. the rally was organized by the american indian movement of northern nevada  aimnn .it remains to be seen whether the charges against goodman  schlosberg and other journalists covering the standing rock protests against the dakota access pipeline will stick.but these cases highlight the increasing power  and risks  associated with online distribution for news stories covered by independents  and earliermissed by mainstream networks. virality and independence  it seems  can attract prosecutorial ire.\n"
     ]
    },
    {
     "name": "stderr",
     "output_type": "stream",
     "text": [
      "/opt/conda/lib/python3.6/site-packages/ipykernel_launcher.py:15: SettingWithCopyWarning: \n",
      "A value is trying to be set on a copy of a slice from a DataFrame.\n",
      "Try using .loc[row_indexer,col_indexer] = value instead\n",
      "\n",
      "See the caveats in the documentation: http://pandas.pydata.org/pandas-docs/stable/indexing.html#indexing-view-versus-copy\n",
      "  from ipykernel import kernelapp as app\n"
     ]
    }
   ],
   "source": [
    "#Cleansing Content and Tags:\n",
    "replace_blank_regex = re.compile('[/(){}\\[\\]\\|@,;]')\n",
    "symbols_removel_regex = re.compile('[^0-9a-z #+_$%-.,]')\n",
    "stopword_det = set(stopwords.words('english'))\n",
    "\n",
    "def clean_text(text):\n",
    "    text = BeautifulSoup(text, \"lxml\").text # HTML decoding\n",
    "    text = text.lower() # lowercase text\n",
    "    text = replace_blank_regex.sub(' ', text) # replace replace_blank_regex symbols by space in text\n",
    "    text = symbols_removel_regex.sub('', text) # delete symbols which are in symbols_removel_regex from text\n",
    "    #text = ' '.join(word for word in text.split() if word not in stopword_det) # delete stopwors from text\n",
    "    return text\n",
    "    \n",
    "df_main['content'] = df_main['content'].apply(clean_text)\n",
    "df_main['title'] = df_main['title'].apply(clean_text)\n",
    "checking_Data(0)"
   ]
  },
  {
   "cell_type": "code",
   "execution_count": 6,
   "metadata": {
    "_uuid": "ac546b9eabacb88b4cd8d75a48145de3b5978fc9"
   },
   "outputs": [
    {
     "name": "stderr",
     "output_type": "stream",
     "text": [
      "/opt/conda/lib/python3.6/site-packages/ipykernel_launcher.py:11: SettingWithCopyWarning: \n",
      "A value is trying to be set on a copy of a slice from a DataFrame.\n",
      "Try using .loc[row_indexer,col_indexer] = value instead\n",
      "\n",
      "See the caveats in the documentation: http://pandas.pydata.org/pandas-docs/stable/indexing.html#indexing-view-versus-copy\n",
      "  # This is added back by InteractiveShellApp.init_path()\n",
      "/opt/conda/lib/python3.6/site-packages/ipykernel_launcher.py:12: SettingWithCopyWarning: \n",
      "A value is trying to be set on a copy of a slice from a DataFrame.\n",
      "Try using .loc[row_indexer,col_indexer] = value instead\n",
      "\n",
      "See the caveats in the documentation: http://pandas.pydata.org/pandas-docs/stable/indexing.html#indexing-view-versus-copy\n",
      "  if sys.path[0] == '':\n"
     ]
    }
   ],
   "source": [
    "#Lemmatizing Content and Title:\n",
    "w_tokenizer = nltk.tokenize.WhitespaceTokenizer()\n",
    "lemmatizer = nltk.stem.WordNetLemmatizer()\n",
    "\n",
    "def lemmatize_text(text):\n",
    "    lem_sentence=[]\n",
    "    lem_sentence= [lemmatizer.lemmatize(w) for w in w_tokenizer.tokenize(text)]\n",
    "\n",
    "    return \" \".join(lem_sentence) \n",
    "    \n",
    "df_main['content_lemmatized'] = df_main.content.apply(lemmatize_text)\n",
    "df_main['title_lemmatized'] = df_main.title.apply(lemmatize_text)"
   ]
  },
  {
   "cell_type": "code",
   "execution_count": 7,
   "metadata": {},
   "outputs": [
    {
     "name": "stderr",
     "output_type": "stream",
     "text": [
      "Using TensorFlow backend.\n"
     ]
    },
    {
     "name": "stdout",
     "output_type": "stream",
     "text": [
      "blog-data\n",
      "fasttext\n",
      "model-keras\n",
      "\n"
     ]
    }
   ],
   "source": [
    "import numpy as np\n",
    "import pandas as pd\n",
    "import seaborn as sns\n",
    "import matplotlib.pyplot as plt\n",
    "\n",
    "import keras\n",
    "from keras import optimizers\n",
    "from keras import backend as K\n",
    "from keras import regularizers\n",
    "from keras.models import Sequential\n",
    "from keras.layers import Dense, Activation, Dropout, GlobalMaxPooling1D\n",
    "from keras.layers import Embedding, GRU, Bidirectional\n",
    "from keras.utils import plot_model\n",
    "from keras.preprocessing import sequence\n",
    "from keras.preprocessing.text import Tokenizer\n",
    "from keras.callbacks import EarlyStopping\n",
    "\n",
    "from tqdm import tqdm\n",
    "from nltk.corpus import stopwords\n",
    "from nltk.tokenize import RegexpTokenizer \n",
    "import os, re, csv, math, codecs\n",
    "\n",
    "sns.set_style(\"whitegrid\")\n",
    "np.random.seed(0)\n",
    "\n",
    "DATA_PATH = '../input/'\n",
    "EMBEDDING_DIR = '../input/'\n",
    "\n",
    "\n",
    "MAX_NB_WORDS = 100000\n",
    "tokenizer = RegexpTokenizer(r'\\w+')\n",
    "stop_words = set(stopwords.words('english'))\n",
    "stop_words.update(['.', ',', '\"', \"'\", ':', ';', '(', ')', '[', ']', '{', '}'])\n",
    "\n",
    "from subprocess import check_output\n",
    "print(check_output([\"ls\", \"../input\"]).decode(\"utf8\"))"
   ]
  },
  {
   "cell_type": "code",
   "execution_count": 8,
   "metadata": {},
   "outputs": [
    {
     "name": "stderr",
     "output_type": "stream",
     "text": [
      "936it [00:00, 9350.71it/s]"
     ]
    },
    {
     "name": "stdout",
     "output_type": "stream",
     "text": [
      "loading word embeddings...\n"
     ]
    },
    {
     "name": "stderr",
     "output_type": "stream",
     "text": [
      "999995it [01:45, 9435.88it/s]"
     ]
    },
    {
     "name": "stdout",
     "output_type": "stream",
     "text": [
      "found 999995 word vectors\n"
     ]
    },
    {
     "name": "stderr",
     "output_type": "stream",
     "text": [
      "\n"
     ]
    }
   ],
   "source": [
    "#load embeddings\n",
    "print('loading word embeddings...')\n",
    "embeddings_index = {}\n",
    "f = codecs.open('../input/fasttext/wiki-news-300d-1M.vec', encoding='utf-8')\n",
    "for line in tqdm(f):\n",
    "    values = line.rstrip().rsplit(' ')\n",
    "    word = values[0]\n",
    "    coefs = np.asarray(values[1:], dtype='float32')\n",
    "    embeddings_index[word] = coefs\n",
    "f.close()\n",
    "print('found %s word vectors' % len(embeddings_index))"
   ]
  },
  {
   "cell_type": "code",
   "execution_count": 9,
   "metadata": {},
   "outputs": [
    {
     "name": "stdout",
     "output_type": "stream",
     "text": [
      "num train:  17386\n"
     ]
    },
    {
     "name": "stderr",
     "output_type": "stream",
     "text": [
      "/opt/conda/lib/python3.6/site-packages/ipykernel_launcher.py:11: SettingWithCopyWarning: \n",
      "A value is trying to be set on a copy of a slice from a DataFrame.\n",
      "Try using .loc[row_indexer,col_indexer] = value instead\n",
      "\n",
      "See the caveats in the documentation: http://pandas.pydata.org/pandas-docs/stable/indexing.html#indexing-view-versus-copy\n",
      "  # This is added back by InteractiveShellApp.init_path()\n"
     ]
    },
    {
     "data": {
      "image/png": "[encoded data removed]",
      "text/plain": [
       "<Figure size 432x288 with 1 Axes>"
      ]
     },
     "metadata": {},
     "output_type": "display_data"
    }
   ],
   "source": [
    "#New Code for reading data:\n",
    "#load data\n",
    "train_df = df_main\n",
    "print(\"num train: \", train_df.shape[0])\n",
    "\n",
    "\n",
    "label_names = ['startups','mobile','apps','social','gadgets','europe','enterprise']\n",
    "y_train = train_df[label_names].values\n",
    "\n",
    "#visualize word distribution\n",
    "train_df['doc_len_content'] = train_df['content_lemmatized'].apply(lambda words: len(words.split(\" \")))\n",
    "max_seq_len = np.round(train_df['doc_len_content'].mean() + train_df['doc_len_content'].std()).astype(int)\n",
    "sns.distplot(train_df['doc_len_content'], hist=True,kde=True, \n",
    "             color='b', label='doc len content')\n",
    "plt.axvline(x=max_seq_len, color='k', linestyle='--', label='max len')\n",
    "plt.title('Content length'); plt.legend()\n",
    "plt.show()"
   ]
  },
  {
   "cell_type": "code",
   "execution_count": 10,
   "metadata": {},
   "outputs": [
    {
     "name": "stderr",
     "output_type": "stream",
     "text": [
      "/opt/conda/lib/python3.6/site-packages/ipykernel_launcher.py:2: SettingWithCopyWarning: \n",
      "A value is trying to be set on a copy of a slice from a DataFrame.\n",
      "Try using .loc[row_indexer,col_indexer] = value instead\n",
      "\n",
      "See the caveats in the documentation: http://pandas.pydata.org/pandas-docs/stable/indexing.html#indexing-view-versus-copy\n",
      "  \n"
     ]
    },
    {
     "data": {
      "image/png": "[encoded data removed]",
      "text/plain": [
       "<Figure size 432x288 with 1 Axes>"
      ]
     },
     "metadata": {},
     "output_type": "display_data"
    }
   ],
   "source": [
    "#visualize word distribution for Title:\n",
    "train_df['doc_len_title'] = train_df['title_lemmatized'].apply(lambda words: len(words.split(\" \")))\n",
    "max_seq_len_title = np.round(train_df['doc_len_title'].mean() + train_df['doc_len_title'].std()).astype(int)\n",
    "sns.distplot(train_df['doc_len_title'], hist=True, kde=True, \n",
    "             color='b', label='doc len')\n",
    "plt.axvline(x=max_seq_len_title, color='k', linestyle='--', label='max len Title')\n",
    "plt.title('Title length'); plt.legend()\n",
    "plt.show()"
   ]
  },
  {
   "cell_type": "code",
   "execution_count": 11,
   "metadata": {},
   "outputs": [],
   "source": [
    "from sklearn.model_selection import train_test_split\n",
    "X_train, X_test, Y_train, Y_test = train_test_split(train_df, y_train, test_size=0.2, random_state=42)"
   ]
  },
  {
   "cell_type": "code",
   "execution_count": 12,
   "metadata": {},
   "outputs": [
    {
     "name": "stderr",
     "output_type": "stream",
     "text": [
      "  7%|▋         | 1000/13908 [00:00<00:02, 4981.74it/s]"
     ]
    },
    {
     "name": "stdout",
     "output_type": "stream",
     "text": [
      "pre-processing train data...\n"
     ]
    },
    {
     "name": "stderr",
     "output_type": "stream",
     "text": [
      "100%|██████████| 13908/13908 [00:02<00:00, 4872.20it/s]\n",
      " 15%|█▍        | 510/3478 [00:00<00:00, 5088.82it/s]"
     ]
    },
    {
     "name": "stdout",
     "output_type": "stream",
     "text": [
      "pre-processing test data...\n"
     ]
    },
    {
     "name": "stderr",
     "output_type": "stream",
     "text": [
      "100%|██████████| 3478/3478 [00:00<00:00, 4912.29it/s]\n"
     ]
    },
    {
     "name": "stdout",
     "output_type": "stream",
     "text": [
      "tokenizing input data...\n",
      "dictionary size:  161529\n"
     ]
    }
   ],
   "source": [
    "#New Code for tokenizing \"Content\":\n",
    "from keras.preprocessing.text import Tokenizer\n",
    "tokenizer = RegexpTokenizer(r'\\w+')\n",
    "raw_docs_train = X_train['content_lemmatized'].tolist()\n",
    "raw_docs_test = X_test['content_lemmatized'].tolist() \n",
    " \n",
    "num_classes = len(label_names)\n",
    "\n",
    "print(\"pre-processing train data...\")\n",
    "processed_docs_train = []\n",
    "for doc in tqdm(raw_docs_train):\n",
    "    tokens = tokenizer.tokenize(doc)\n",
    "    filtered = [word for word in tokens if word not in stop_words]\n",
    "    processed_docs_train.append(\" \".join(filtered))\n",
    "#end for\n",
    "\n",
    "print(\"pre-processing test data...\")\n",
    "processed_docs_test = []\n",
    "for doc in tqdm(raw_docs_test):\n",
    "    tokens = tokenizer.tokenize(doc)\n",
    "    filtered = [word for word in tokens if word not in stop_words]\n",
    "    processed_docs_test.append(\" \".join(filtered))\n",
    "#end for\n",
    "\n",
    "print(\"tokenizing input data...\")\n",
    "tokenizer = Tokenizer(num_words=MAX_NB_WORDS, lower=True, char_level=False)\n",
    "tokenizer.fit_on_texts(processed_docs_train + processed_docs_test)#leaky\n",
    "word_seq_train = tokenizer.texts_to_sequences(processed_docs_train)\n",
    "word_seq_test = tokenizer.texts_to_sequences(processed_docs_test)\n",
    "word_index = tokenizer.word_index\n",
    "print(\"dictionary size: \", len(word_index))\n",
    "\n",
    "#pad sequences\n",
    "word_seq_train = sequence.pad_sequences(word_seq_train, maxlen=max_seq_len)\n",
    "word_seq_test = sequence.pad_sequences(word_seq_test, maxlen=max_seq_len)"
   ]
  },
  {
   "cell_type": "code",
   "execution_count": 13,
   "metadata": {},
   "outputs": [
    {
     "data": {
      "text/plain": [
       "(13908, 844)"
      ]
     },
     "execution_count": 13,
     "metadata": {},
     "output_type": "execute_result"
    }
   ],
   "source": [
    "word_seq_train.shape"
   ]
  },
  {
   "cell_type": "code",
   "execution_count": 14,
   "metadata": {},
   "outputs": [
    {
     "name": "stderr",
     "output_type": "stream",
     "text": [
      "100%|██████████| 17386/17386 [00:00<00:00, 167258.82it/s]"
     ]
    },
    {
     "name": "stdout",
     "output_type": "stream",
     "text": [
      "pre-processing train data...\n",
      "tokenizing input data...\n"
     ]
    },
    {
     "name": "stderr",
     "output_type": "stream",
     "text": [
      "\n"
     ]
    },
    {
     "name": "stdout",
     "output_type": "stream",
     "text": [
      "dictionary size:  19130\n"
     ]
    }
   ],
   "source": [
    "#New Code for tokenizing \"Title\":\n",
    "from keras.preprocessing.text import Tokenizer\n",
    "tokenizer = RegexpTokenizer(r'\\w+')\n",
    "\n",
    "raw_docs_train_title = train_df['title_lemmatized'].tolist()\n",
    " \n",
    "num_classes = len(label_names)\n",
    "\n",
    "print(\"pre-processing train data...\")\n",
    "processed_docs_train_title = []\n",
    "for doc in tqdm(raw_docs_train_title):\n",
    "    tokens = tokenizer.tokenize(doc)\n",
    "    filtered = [word for word in tokens if word not in stop_words]\n",
    "    processed_docs_train_title.append(\" \".join(filtered))\n",
    "#end for\n",
    "\n",
    "print(\"tokenizing input data...\")\n",
    "tokenizer = Tokenizer(num_words=MAX_NB_WORDS, lower=True, char_level=False)\n",
    "tokenizer.fit_on_texts(processed_docs_train_title)  #leaky\n",
    "word_seq_train_title = tokenizer.texts_to_sequences(processed_docs_train_title)\n",
    "word_index_title = tokenizer.word_index\n",
    "print(\"dictionary size: \", len(word_index_title))\n",
    "\n",
    "#pad sequences\n",
    "word_seq_train_title = sequence.pad_sequences(word_seq_train_title, maxlen=max_seq_len)"
   ]
  },
  {
   "cell_type": "code",
   "execution_count": 15,
   "metadata": {},
   "outputs": [
    {
     "data": {
      "text/plain": [
       "(17386, 844)"
      ]
     },
     "execution_count": 15,
     "metadata": {},
     "output_type": "execute_result"
    }
   ],
   "source": [
    "word_seq_train_title.shape"
   ]
  },
  {
   "cell_type": "code",
   "execution_count": 16,
   "metadata": {},
   "outputs": [],
   "source": [
    "#training params\n",
    "batch_size = 256\n",
    "num_epochs = 8\n",
    "\n",
    "#model parameters\n",
    "num_filters = 64 \n",
    "embed_dim = 300 \n",
    "weight_decay = 1e-4"
   ]
  },
  {
   "cell_type": "code",
   "execution_count": 17,
   "metadata": {},
   "outputs": [
    {
     "name": "stdout",
     "output_type": "stream",
     "text": [
      "preparing embedding matrix...\n",
      "number of null word embeddings: 57785\n"
     ]
    }
   ],
   "source": [
    "#embedding matrix for content:\n",
    "print('preparing embedding matrix...')\n",
    "words_not_found = []\n",
    "nb_words = min(MAX_NB_WORDS, len(word_index))\n",
    "embedding_matrix = np.zeros((nb_words, embed_dim))\n",
    "for word, i in word_index.items():\n",
    "    if i >= nb_words:\n",
    "        continue\n",
    "    embedding_vector = embeddings_index.get(word)\n",
    "    if (embedding_vector is not None) and len(embedding_vector) > 0:\n",
    "        # words not found in embedding index will be all-zeros.\n",
    "        embedding_matrix[i] = embedding_vector\n",
    "    else:\n",
    "        words_not_found.append(word)\n",
    "print('number of null word embeddings: %d' % np.sum(np.sum(embedding_matrix, axis=1) == 0))"
   ]
  },
  {
   "cell_type": "code",
   "execution_count": 18,
   "metadata": {},
   "outputs": [
    {
     "data": {
      "text/plain": [
       "(100000, 300)"
      ]
     },
     "execution_count": 18,
     "metadata": {},
     "output_type": "execute_result"
    }
   ],
   "source": [
    "embedding_matrix.shape"
   ]
  },
  {
   "cell_type": "code",
   "execution_count": 19,
   "metadata": {},
   "outputs": [
    {
     "name": "stdout",
     "output_type": "stream",
     "text": [
      "sample words not found:  ['everythingme' 'hasremained' 'tereos' 'beba' 'channelforrefugees'\n",
      " 'designcrowds' 'oranything' 'buildingfuturicesinternational' 'novostis'\n",
      " 'regionsuch']\n"
     ]
    }
   ],
   "source": [
    "print(\"sample words not found: \", np.random.choice(words_not_found, 10))"
   ]
  },
  {
   "cell_type": "code",
   "execution_count": 20,
   "metadata": {},
   "outputs": [
    {
     "name": "stdout",
     "output_type": "stream",
     "text": [
      "preparing embedding matrix...\n",
      "number of null word embeddings: 87340\n"
     ]
    }
   ],
   "source": [
    "#embedding matrix for title:\n",
    "print('preparing embedding matrix...')\n",
    "words_not_found_title = []\n",
    "nb_words_title = min(MAX_NB_WORDS, len(word_index_title))\n",
    "embedding_matrix_title = np.zeros((nb_words, embed_dim))\n",
    "for word, i in word_index_title.items():\n",
    "    if i >= nb_words:\n",
    "        continue\n",
    "    embedding_vector_title = embeddings_index.get(word)\n",
    "    if (embedding_vector_title is not None) and len(embedding_vector_title) > 0:\n",
    "        # words not found in embedding index will be all-zeros.\n",
    "        embedding_matrix_title[i] = embedding_vector_title\n",
    "    else:\n",
    "        words_not_found_title.append(word)\n",
    "print('number of null word embeddings: %d' % np.sum(np.sum(embedding_matrix_title, axis=1) == 0))"
   ]
  },
  {
   "cell_type": "code",
   "execution_count": 21,
   "metadata": {},
   "outputs": [
    {
     "data": {
      "text/plain": [
       "(100000, 300)"
      ]
     },
     "execution_count": 21,
     "metadata": {},
     "output_type": "execute_result"
    }
   ],
   "source": [
    "embedding_matrix_title.shape"
   ]
  },
  {
   "cell_type": "code",
   "execution_count": 22,
   "metadata": {},
   "outputs": [
    {
     "name": "stdout",
     "output_type": "stream",
     "text": [
      "sample words not found:  ['news360' 'wetopia' 'eventbrites' 'gopop' 'screenleap' 'partpic' 'glueck'\n",
      " 'zamurai' 'hopstop' 'hexfury']\n"
     ]
    }
   ],
   "source": [
    "print(\"sample words not found: \", np.random.choice(words_not_found_title, 10))"
   ]
  },
  {
   "cell_type": "code",
   "execution_count": 23,
   "metadata": {},
   "outputs": [
    {
     "name": "stdout",
     "output_type": "stream",
     "text": [
      "training RNN-GRU ...\n",
      "WARNING:tensorflow:From /opt/conda/lib/python3.6/site-packages/tensorflow/python/framework/op_def_library.py:263: colocate_with (from tensorflow.python.framework.ops) is deprecated and will be removed in a future version.\n",
      "Instructions for updating:\n",
      "Colocations handled automatically by placer.\n",
      "WARNING:tensorflow:From /opt/conda/lib/python3.6/site-packages/keras/backend/tensorflow_backend.py:3445: calling dropout (from tensorflow.python.ops.nn_ops) with keep_prob is deprecated and will be removed in a future version.\n",
      "Instructions for updating:\n",
      "Please use `rate` instead of `keep_prob`. Rate should be set to `rate = 1 - keep_prob`.\n",
      "WARNING:tensorflow:From /opt/conda/lib/python3.6/site-packages/tensorflow/python/ops/math_ops.py:3066: to_int32 (from tensorflow.python.ops.math_ops) is deprecated and will be removed in a future version.\n",
      "Instructions for updating:\n",
      "Use tf.cast instead.\n",
      "WARNING:tensorflow:From /opt/conda/lib/python3.6/site-packages/tensorflow/python/ops/math_grad.py:102: div (from tensorflow.python.ops.math_ops) is deprecated and will be removed in a future version.\n",
      "Instructions for updating:\n",
      "Deprecated in favor of operator or tf.math.divide.\n",
      "Train on 12517 samples, validate on 1391 samples\n",
      "Epoch 1/20\n",
      "12517/12517 [==============================] - 411s 33ms/step - loss: 0.4737 - acc: 0.7893 - categorical_accuracy: 0.5024 - val_loss: 0.3920 - val_acc: 0.8285 - val_categorical_accuracy: 0.5643\n",
      "Epoch 2/20\n",
      "12517/12517 [==============================] - 413s 33ms/step - loss: 0.3515 - acc: 0.8489 - categorical_accuracy: 0.5865 - val_loss: 0.3304 - val_acc: 0.8560 - val_categorical_accuracy: 0.6053\n",
      "Epoch 3/20\n",
      "12517/12517 [==============================] - 402s 32ms/step - loss: 0.3160 - acc: 0.8674 - categorical_accuracy: 0.6033 - val_loss: 0.3154 - val_acc: 0.8687 - val_categorical_accuracy: 0.6362\n",
      "Epoch 4/20\n",
      "12517/12517 [==============================] - 399s 32ms/step - loss: 0.3007 - acc: 0.8739 - categorical_accuracy: 0.6116 - val_loss: 0.3048 - val_acc: 0.8733 - val_categorical_accuracy: 0.6298\n",
      "Epoch 5/20\n",
      "12517/12517 [==============================] - 403s 32ms/step - loss: 0.2887 - acc: 0.8806 - categorical_accuracy: 0.6176 - val_loss: 0.2979 - val_acc: 0.8752 - val_categorical_accuracy: 0.6125\n",
      "Epoch 6/20\n",
      "12517/12517 [==============================] - 401s 32ms/step - loss: 0.2801 - acc: 0.8844 - categorical_accuracy: 0.6218 - val_loss: 0.2977 - val_acc: 0.8781 - val_categorical_accuracy: 0.6398\n",
      "Epoch 7/20\n",
      "12517/12517 [==============================] - 401s 32ms/step - loss: 0.2711 - acc: 0.8888 - categorical_accuracy: 0.6276 - val_loss: 0.2884 - val_acc: 0.8799 - val_categorical_accuracy: 0.6262\n",
      "Epoch 8/20\n",
      "12517/12517 [==============================] - 398s 32ms/step - loss: 0.2654 - acc: 0.8917 - categorical_accuracy: 0.6264 - val_loss: 0.2926 - val_acc: 0.8767 - val_categorical_accuracy: 0.5751\n",
      "Epoch 9/20\n",
      "12517/12517 [==============================] - 397s 32ms/step - loss: 0.2576 - acc: 0.8948 - categorical_accuracy: 0.6327 - val_loss: 0.2911 - val_acc: 0.8826 - val_categorical_accuracy: 0.6477\n",
      "Epoch 10/20\n",
      "12517/12517 [==============================] - 396s 32ms/step - loss: 0.2493 - acc: 0.8984 - categorical_accuracy: 0.6400 - val_loss: 0.2874 - val_acc: 0.8831 - val_categorical_accuracy: 0.6168\n",
      "Epoch 11/20\n",
      "12517/12517 [==============================] - 397s 32ms/step - loss: 0.2445 - acc: 0.9002 - categorical_accuracy: 0.6407 - val_loss: 0.2849 - val_acc: 0.8845 - val_categorical_accuracy: 0.5895\n",
      "Epoch 12/20\n",
      "12517/12517 [==============================] - 398s 32ms/step - loss: 0.2350 - acc: 0.9050 - categorical_accuracy: 0.6459 - val_loss: 0.2962 - val_acc: 0.8810 - val_categorical_accuracy: 0.6520\n",
      "Epoch 13/20\n",
      "12517/12517 [==============================] - 393s 31ms/step - loss: 0.2275 - acc: 0.9090 - categorical_accuracy: 0.6617 - val_loss: 0.2914 - val_acc: 0.8784 - val_categorical_accuracy: 0.5816\n",
      "Epoch 14/20\n",
      "12517/12517 [==============================] - 395s 32ms/step - loss: 0.2186 - acc: 0.9135 - categorical_accuracy: 0.6595 - val_loss: 0.2914 - val_acc: 0.8786 - val_categorical_accuracy: 0.6319\n",
      "Epoch 15/20\n",
      "12517/12517 [==============================] - 397s 32ms/step - loss: 0.2081 - acc: 0.9176 - categorical_accuracy: 0.6695 - val_loss: 0.2945 - val_acc: 0.8806 - val_categorical_accuracy: 0.6298\n",
      "Epoch 16/20\n",
      "12517/12517 [==============================] - 397s 32ms/step - loss: 0.2018 - acc: 0.9207 - categorical_accuracy: 0.6756 - val_loss: 0.3037 - val_acc: 0.8804 - val_categorical_accuracy: 0.6204\n",
      "Epoch 17/20\n",
      "12517/12517 [==============================] - 396s 32ms/step - loss: 0.1899 - acc: 0.9260 - categorical_accuracy: 0.6858 - val_loss: 0.3090 - val_acc: 0.8797 - val_categorical_accuracy: 0.6183\n",
      "Epoch 18/20\n",
      "12517/12517 [==============================] - 392s 31ms/step - loss: 0.1826 - acc: 0.9289 - categorical_accuracy: 0.6875 - val_loss: 0.3097 - val_acc: 0.8754 - val_categorical_accuracy: 0.5895\n",
      "Epoch 19/20\n",
      "12517/12517 [==============================] - 391s 31ms/step - loss: 0.1717 - acc: 0.9346 - categorical_accuracy: 0.6915 - val_loss: 0.3082 - val_acc: 0.8808 - val_categorical_accuracy: 0.5996\n",
      "Epoch 20/20\n",
      "12517/12517 [==============================] - 387s 31ms/step - loss: 0.1617 - acc: 0.9389 - categorical_accuracy: 0.7064 - val_loss: 0.3191 - val_acc: 0.8822 - val_categorical_accuracy: 0.6053\n",
      "_________________________________________________________________\n",
      "Layer (type)                 Output Shape              Param #   \n",
      "=================================================================\n",
      "embedding_1 (Embedding)      (None, 844, 300)          30000000  \n",
      "_________________________________________________________________\n",
      "bidirectional_1 (Bidirection (None, 844, 512)          855552    \n",
      "_________________________________________________________________\n",
      "gru_2 (GRU)                  (None, 844, 256)          590592    \n",
      "_________________________________________________________________\n",
      "global_max_pooling1d_1 (Glob (None, 256)               0         \n",
      "_________________________________________________________________\n",
      "dropout_1 (Dropout)          (None, 256)               0         \n",
      "_________________________________________________________________\n",
      "dense_1 (Dense)              (None, 128)               32896     \n",
      "_________________________________________________________________\n",
      "dense_2 (Dense)              (None, 32)                4128      \n",
      "_________________________________________________________________\n",
      "dense_3 (Dense)              (None, 7)                 231       \n",
      "=================================================================\n",
      "Total params: 31,483,399\n",
      "Trainable params: 1,483,399\n",
      "Non-trainable params: 30,000,000\n",
      "_________________________________________________________________\n"
     ]
    }
   ],
   "source": [
    "#RNN architecture\n",
    "print(\"training RNN-GRU ...\")\n",
    "model = Sequential()\n",
    "model.add(Embedding(nb_words, embed_dim,\n",
    "          weights=[embedding_matrix], input_length=max_seq_len, trainable=False))\n",
    "model.add(Bidirectional(GRU(256, return_sequences=True, dropout=0.1, recurrent_dropout=0.1)))\n",
    "model.add(GRU(256, return_sequences=True, dropout=0.1, recurrent_dropout=0.1))\n",
    "model.add(GlobalMaxPooling1D())\n",
    "model.add(Dropout(0.1))\n",
    "model.add(Dense(128, activation='relu', kernel_regularizer=regularizers.l2(weight_decay)))\n",
    "model.add(Dense(32, activation='relu', kernel_regularizer=regularizers.l2(weight_decay)))\n",
    "model.add(Dense(7, activation='sigmoid'))\n",
    "adam = optimizers.Adam(lr=0.001, beta_1=0.9, beta_2=0.999, epsilon=1e-08, decay=0.0)\n",
    "model.compile(loss='binary_crossentropy', optimizer='adam', metrics=['accuracy','categorical_accuracy'])\n",
    "\n",
    "history = model.fit(word_seq_train, Y_train, validation_split=0.1, batch_size=128, epochs=20)\n",
    "model.summary()\n",
    "\n",
    "from keras.models import load_model\n",
    "model.save('my_model.h5')\n"
   ]
  },
  {
   "cell_type": "code",
   "execution_count": 24,
   "metadata": {},
   "outputs": [],
   "source": [
    "###############################################################\n",
    "#import os\n",
    "#print(os.listdir(\"../input/model-keras\"))"
   ]
  },
  {
   "cell_type": "code",
   "execution_count": 25,
   "metadata": {},
   "outputs": [],
   "source": [
    "#from keras.models import load_model\n",
    "#model = load_model('../input/model-keras/my_model.h5')"
   ]
  },
  {
   "cell_type": "code",
   "execution_count": 26,
   "metadata": {},
   "outputs": [
    {
     "data": {
      "image/png": "[encoded data removed]",
      "text/plain": [
       "<Figure size 432x288 with 1 Axes>"
      ]
     },
     "metadata": {},
     "output_type": "display_data"
    }
   ],
   "source": [
    "#Loss plots\n",
    "plt.figure()\n",
    "plt.plot(history.history['loss'], lw=2.0, color='b', label='train')\n",
    "plt.plot(history.history['val_loss'], lw=2.0, color='r', label='val')\n",
    "plt.title('RNN-GRU sentiment')\n",
    "plt.xlabel('Epochs')\n",
    "plt.ylabel('Cross-Entropy Loss')\n",
    "plt.legend(loc='upper right')\n",
    "plt.show()"
   ]
  },
  {
   "cell_type": "code",
   "execution_count": 27,
   "metadata": {},
   "outputs": [
    {
     "data": {
      "image/png": "[encoded data removed]",
      "text/plain": [
       "<Figure size 432x288 with 1 Axes>"
      ]
     },
     "metadata": {},
     "output_type": "display_data"
    }
   ],
   "source": [
    "#Categorical Accuracy plot:\n",
    "plt.figure()\n",
    "plt.plot(history.history['categorical_accuracy'], lw=2.0, color='b', label='train')\n",
    "plt.plot(history.history['val_categorical_accuracy'], lw=2.0, color='r', label='val')\n",
    "plt.title('RNN-GRU sentiment')\n",
    "plt.xlabel('Epochs')\n",
    "plt.ylabel('Categorical Accuracy')\n",
    "plt.legend(loc='upper left')\n",
    "plt.show()"
   ]
  },
  {
   "cell_type": "code",
   "execution_count": 28,
   "metadata": {},
   "outputs": [
    {
     "data": {
      "image/png": "[encoded data removed]",
      "text/plain": [
       "<Figure size 432x288 with 1 Axes>"
      ]
     },
     "metadata": {},
     "output_type": "display_data"
    }
   ],
   "source": [
    "#Accuracy plot:\n",
    "plt.figure()\n",
    "plt.plot(history.history['acc'], lw=2.0, color='b', label='train')\n",
    "plt.plot(history.history['val_acc'], lw=2.0, color='r', label='val')\n",
    "plt.title('RNN-GRU sentiment')\n",
    "plt.xlabel('Epochs')\n",
    "plt.ylabel('Accuracy')\n",
    "plt.legend(loc='upper left')\n",
    "plt.show()"
   ]
  },
  {
   "cell_type": "code",
   "execution_count": 29,
   "metadata": {},
   "outputs": [
    {
     "name": "stdout",
     "output_type": "stream",
     "text": [
      "3478/3478 [==============================] - 22s 6ms/step\n"
     ]
    },
    {
     "data": {
      "text/html": [
       "<div>\n",
       "<style scoped>\n",
       "    .dataframe tbody tr th:only-of-type {\n",
       "        vertical-align: middle;\n",
       "    }\n",
       "\n",
       "    .dataframe tbody tr th {\n",
       "        vertical-align: top;\n",
       "    }\n",
       "\n",
       "    .dataframe thead th {\n",
       "        text-align: right;\n",
       "    }\n",
       "</style>\n",
       "<table border=\"1\" class=\"dataframe\">\n",
       "  <thead>\n",
       "    <tr style=\"text-align: right;\">\n",
       "      <th></th>\n",
       "      <th>0</th>\n",
       "      <th>1</th>\n",
       "      <th>2</th>\n",
       "      <th>3</th>\n",
       "      <th>4</th>\n",
       "      <th>5</th>\n",
       "      <th>6</th>\n",
       "    </tr>\n",
       "  </thead>\n",
       "  <tbody>\n",
       "    <tr>\n",
       "      <th>0</th>\n",
       "      <td>1</td>\n",
       "      <td>0</td>\n",
       "      <td>0</td>\n",
       "      <td>1</td>\n",
       "      <td>0</td>\n",
       "      <td>0</td>\n",
       "      <td>1</td>\n",
       "    </tr>\n",
       "    <tr>\n",
       "      <th>1</th>\n",
       "      <td>1</td>\n",
       "      <td>0</td>\n",
       "      <td>0</td>\n",
       "      <td>0</td>\n",
       "      <td>1</td>\n",
       "      <td>0</td>\n",
       "      <td>0</td>\n",
       "    </tr>\n",
       "    <tr>\n",
       "      <th>2</th>\n",
       "      <td>1</td>\n",
       "      <td>0</td>\n",
       "      <td>0</td>\n",
       "      <td>0</td>\n",
       "      <td>0</td>\n",
       "      <td>0</td>\n",
       "      <td>0</td>\n",
       "    </tr>\n",
       "    <tr>\n",
       "      <th>3</th>\n",
       "      <td>0</td>\n",
       "      <td>1</td>\n",
       "      <td>0</td>\n",
       "      <td>0</td>\n",
       "      <td>1</td>\n",
       "      <td>0</td>\n",
       "      <td>0</td>\n",
       "    </tr>\n",
       "    <tr>\n",
       "      <th>4</th>\n",
       "      <td>1</td>\n",
       "      <td>1</td>\n",
       "      <td>1</td>\n",
       "      <td>0</td>\n",
       "      <td>0</td>\n",
       "      <td>1</td>\n",
       "      <td>0</td>\n",
       "    </tr>\n",
       "  </tbody>\n",
       "</table>\n",
       "</div>"
      ],
      "text/plain": [
       "   0  1  2  3  4  5  6\n",
       "0  1  0  0  1  0  0  1\n",
       "1  1  0  0  0  1  0  0\n",
       "2  1  0  0  0  0  0  0\n",
       "3  0  1  0  0  1  0  0\n",
       "4  1  1  1  0  0  1  0"
      ]
     },
     "execution_count": 29,
     "metadata": {},
     "output_type": "execute_result"
    }
   ],
   "source": [
    "#Predicting:\n",
    "y_pred = model.predict(word_seq_test, batch_size=256, verbose=1)\n",
    "y_pred = pd.DataFrame(y_pred)\n",
    "y_pred = y_pred.apply(lambda x: [0 if y <= 0.3 else 1 for y in x])\n",
    "y_pred.head()"
   ]
  },
  {
   "cell_type": "code",
   "execution_count": 30,
   "metadata": {},
   "outputs": [
    {
     "name": "stdout",
     "output_type": "stream",
     "text": [
      "              precision    recall  f1-score   support\n",
      "\n",
      "           0       0.74      0.85      0.79      1606\n",
      "           1       0.67      0.87      0.76      1070\n",
      "           2       0.63      0.72      0.67       770\n",
      "           3       0.69      0.80      0.74       758\n",
      "           4       0.77      0.92      0.84       689\n",
      "           5       0.73      0.88      0.80       599\n",
      "           6       0.84      0.62      0.71       430\n",
      "\n",
      "   micro avg       0.71      0.83      0.77      5922\n",
      "   macro avg       0.72      0.81      0.76      5922\n",
      "weighted avg       0.72      0.83      0.76      5922\n",
      " samples avg       0.76      0.85      0.77      5922\n",
      "\n",
      "0.4378953421506613\n"
     ]
    },
    {
     "name": "stderr",
     "output_type": "stream",
     "text": [
      "/opt/conda/lib/python3.6/site-packages/sklearn/metrics/classification.py:1143: UndefinedMetricWarning: Precision and F-score are ill-defined and being set to 0.0 in samples with no predicted labels.\n",
      "  'precision', 'predicted', average, warn_for)\n"
     ]
    }
   ],
   "source": [
    "from sklearn.metrics import classification_report,accuracy_score\n",
    "print(classification_report(Y_test,y_pred))\n",
    "print(accuracy_score(Y_test,y_pred))"
   ]
  },
  {
   "cell_type": "code",
   "execution_count": 31,
   "metadata": {},
   "outputs": [
    {
     "data": {
      "text/plain": [
       "0.12342890002464471"
      ]
     },
     "execution_count": 31,
     "metadata": {},
     "output_type": "execute_result"
    }
   ],
   "source": [
    "from sklearn.metrics import hamming_loss\n",
    "hamming_loss(Y_test,y_pred)\n"
   ]
  }
 ],
 "metadata": {
  "kernelspec": {
   "display_name": "Python 3",
   "language": "python",
   "name": "python3"
  },
  "language_info": {
   "codemirror_mode": {
    "name": "ipython",
    "version": 3
   },
   "file_extension": ".py",
   "mimetype": "text/x-python",
   "name": "python",
   "nbconvert_exporter": "python",
   "pygments_lexer": "ipython3",
   "version": "3.6.6"
  }
 },
 "nbformat": 4,
 "nbformat_minor": 1
}
